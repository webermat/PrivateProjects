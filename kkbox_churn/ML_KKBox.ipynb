{
 "cells": [
  {
   "cell_type": "code",
   "execution_count": 1,
   "metadata": {},
   "outputs": [],
   "source": [
    "import numpy as np\n",
    "import pandas as pd\n",
    "import matplotlib.pyplot as plt\n",
    "import math\n",
    "\n",
    "from sklearn import metrics\n",
    "import datetime as dt\n",
    "from sklearn.pipeline import Pipeline\n",
    "from sklearn.linear_model import LinearRegression\n",
    "from sklearn.model_selection import train_test_split\n",
    "from sklearn.model_selection import cross_val_score, cross_val_predict, RandomizedSearchCV, GridSearchCV\n",
    "from sklearn.preprocessing import StandardScaler\n",
    "from sklearn.metrics import classification_report, confusion_matrix, accuracy_score, f1_score\n",
    "\n",
    "import seaborn as sns"
   ]
  },
  {
   "cell_type": "markdown",
   "metadata": {},
   "source": [
    "# Member data\n",
    "\n",
    "Gender column in membership data has a couple of NA's, in fact 65%, so not so much to use for this particular column. The data is distributed over 21 cities.\n",
    "\n",
    "Total count: 6.8 M members (6769473, and all indeed unique, no duplicate msno's)\n",
    "- Age [bd]: wildely distributed including negative values (plenty of them), thus have to find out later how useful it would be.\n",
    "- Gender: as already listed before 65 % unkown, most probably not useful.\n",
    "- City: distributed among 21 cities, most of the users live in city \"1\", over 5 M (most probably Taipeh)\n",
    "- 18 different methods to register, out of those 4 are more wildly used (methods 3,4,7,9), the others are rather negligible.\n",
    "- users registered starting from March 26, 2004 to April 29, 2017."
   ]
  },
  {
   "cell_type": "code",
   "execution_count": 2,
   "metadata": {},
   "outputs": [
    {
     "data": {
      "text/html": [
       "<div>\n",
       "<style scoped>\n",
       "    .dataframe tbody tr th:only-of-type {\n",
       "        vertical-align: middle;\n",
       "    }\n",
       "\n",
       "    .dataframe tbody tr th {\n",
       "        vertical-align: top;\n",
       "    }\n",
       "\n",
       "    .dataframe thead th {\n",
       "        text-align: right;\n",
       "    }\n",
       "</style>\n",
       "<table border=\"1\" class=\"dataframe\">\n",
       "  <thead>\n",
       "    <tr style=\"text-align: right;\">\n",
       "      <th></th>\n",
       "      <th>msno</th>\n",
       "      <th>city</th>\n",
       "      <th>bd</th>\n",
       "      <th>gender</th>\n",
       "      <th>registered_via</th>\n",
       "      <th>registration_init_time</th>\n",
       "    </tr>\n",
       "  </thead>\n",
       "  <tbody>\n",
       "    <tr>\n",
       "      <th>0</th>\n",
       "      <td>Rb9UwLQTrxzBVwCB6+bCcSQWZ9JiNLC9dXtM1oEsZA8=</td>\n",
       "      <td>1</td>\n",
       "      <td>0</td>\n",
       "      <td>NaN</td>\n",
       "      <td>11</td>\n",
       "      <td>20110911</td>\n",
       "    </tr>\n",
       "    <tr>\n",
       "      <th>1</th>\n",
       "      <td>+tJonkh+O1CA796Fm5X60UMOtB6POHAwPjbTRVl/EuU=</td>\n",
       "      <td>1</td>\n",
       "      <td>0</td>\n",
       "      <td>NaN</td>\n",
       "      <td>7</td>\n",
       "      <td>20110914</td>\n",
       "    </tr>\n",
       "    <tr>\n",
       "      <th>2</th>\n",
       "      <td>cV358ssn7a0f7jZOwGNWS07wCKVqxyiImJUX6xcIwKw=</td>\n",
       "      <td>1</td>\n",
       "      <td>0</td>\n",
       "      <td>NaN</td>\n",
       "      <td>11</td>\n",
       "      <td>20110915</td>\n",
       "    </tr>\n",
       "    <tr>\n",
       "      <th>3</th>\n",
       "      <td>9bzDeJP6sQodK73K5CBlJ6fgIQzPeLnRl0p5B77XP+g=</td>\n",
       "      <td>1</td>\n",
       "      <td>0</td>\n",
       "      <td>NaN</td>\n",
       "      <td>11</td>\n",
       "      <td>20110915</td>\n",
       "    </tr>\n",
       "    <tr>\n",
       "      <th>4</th>\n",
       "      <td>WFLY3s7z4EZsieHCt63XrsdtfTEmJ+2PnnKLH5GY4Tk=</td>\n",
       "      <td>6</td>\n",
       "      <td>32</td>\n",
       "      <td>female</td>\n",
       "      <td>9</td>\n",
       "      <td>20110915</td>\n",
       "    </tr>\n",
       "    <tr>\n",
       "      <th>...</th>\n",
       "      <td>...</td>\n",
       "      <td>...</td>\n",
       "      <td>...</td>\n",
       "      <td>...</td>\n",
       "      <td>...</td>\n",
       "      <td>...</td>\n",
       "    </tr>\n",
       "    <tr>\n",
       "      <th>6769468</th>\n",
       "      <td>VSGkb3hyBRUtb/b1MQUZbvOkktS3vKLnhMHW0CF8eyU=</td>\n",
       "      <td>1</td>\n",
       "      <td>0</td>\n",
       "      <td>NaN</td>\n",
       "      <td>7</td>\n",
       "      <td>20151020</td>\n",
       "    </tr>\n",
       "    <tr>\n",
       "      <th>6769469</th>\n",
       "      <td>nWjH7glPkZ7jOVaCRwwjlpmp0T1hSWdv8hMJxiWCwKc=</td>\n",
       "      <td>1</td>\n",
       "      <td>0</td>\n",
       "      <td>NaN</td>\n",
       "      <td>7</td>\n",
       "      <td>20151020</td>\n",
       "    </tr>\n",
       "    <tr>\n",
       "      <th>6769470</th>\n",
       "      <td>GH+b5+1tlv7ZZXsA8upBzVXMTLyffKcsF7WoU8b5rOI=</td>\n",
       "      <td>15</td>\n",
       "      <td>26</td>\n",
       "      <td>female</td>\n",
       "      <td>4</td>\n",
       "      <td>20151020</td>\n",
       "    </tr>\n",
       "    <tr>\n",
       "      <th>6769471</th>\n",
       "      <td>XVlwT3fdCFGKqerEKBzUIjK+jzI6jzSke4cDMVhYyjE=</td>\n",
       "      <td>1</td>\n",
       "      <td>0</td>\n",
       "      <td>NaN</td>\n",
       "      <td>4</td>\n",
       "      <td>20151020</td>\n",
       "    </tr>\n",
       "    <tr>\n",
       "      <th>6769472</th>\n",
       "      <td>isBt+JlgvZRNy6lxVr5vvuJ4lD00ofTaKyJ+uRnGcPg=</td>\n",
       "      <td>1</td>\n",
       "      <td>0</td>\n",
       "      <td>NaN</td>\n",
       "      <td>4</td>\n",
       "      <td>20151021</td>\n",
       "    </tr>\n",
       "  </tbody>\n",
       "</table>\n",
       "<p>6769473 rows × 6 columns</p>\n",
       "</div>"
      ],
      "text/plain": [
       "                                                 msno  city  bd  gender  \\\n",
       "0        Rb9UwLQTrxzBVwCB6+bCcSQWZ9JiNLC9dXtM1oEsZA8=     1   0     NaN   \n",
       "1        +tJonkh+O1CA796Fm5X60UMOtB6POHAwPjbTRVl/EuU=     1   0     NaN   \n",
       "2        cV358ssn7a0f7jZOwGNWS07wCKVqxyiImJUX6xcIwKw=     1   0     NaN   \n",
       "3        9bzDeJP6sQodK73K5CBlJ6fgIQzPeLnRl0p5B77XP+g=     1   0     NaN   \n",
       "4        WFLY3s7z4EZsieHCt63XrsdtfTEmJ+2PnnKLH5GY4Tk=     6  32  female   \n",
       "...                                               ...   ...  ..     ...   \n",
       "6769468  VSGkb3hyBRUtb/b1MQUZbvOkktS3vKLnhMHW0CF8eyU=     1   0     NaN   \n",
       "6769469  nWjH7glPkZ7jOVaCRwwjlpmp0T1hSWdv8hMJxiWCwKc=     1   0     NaN   \n",
       "6769470  GH+b5+1tlv7ZZXsA8upBzVXMTLyffKcsF7WoU8b5rOI=    15  26  female   \n",
       "6769471  XVlwT3fdCFGKqerEKBzUIjK+jzI6jzSke4cDMVhYyjE=     1   0     NaN   \n",
       "6769472  isBt+JlgvZRNy6lxVr5vvuJ4lD00ofTaKyJ+uRnGcPg=     1   0     NaN   \n",
       "\n",
       "         registered_via  registration_init_time  \n",
       "0                    11                20110911  \n",
       "1                     7                20110914  \n",
       "2                    11                20110915  \n",
       "3                    11                20110915  \n",
       "4                     9                20110915  \n",
       "...                 ...                     ...  \n",
       "6769468               7                20151020  \n",
       "6769469               7                20151020  \n",
       "6769470               4                20151020  \n",
       "6769471               4                20151020  \n",
       "6769472               4                20151021  \n",
       "\n",
       "[6769473 rows x 6 columns]"
      ]
     },
     "execution_count": 2,
     "metadata": {},
     "output_type": "execute_result"
    }
   ],
   "source": [
    "df_mem=pd.read_csv(\"data/members_v3.csv\")\n",
    "df_mem"
   ]
  },
  {
   "cell_type": "code",
   "execution_count": 3,
   "metadata": {},
   "outputs": [],
   "source": [
    "df_mem[\"registration_init_time_as_dt\"]=pd.to_datetime(df_mem[\"registration_init_time\"], format='%Y%m%d', errors='ignore')"
   ]
  },
  {
   "cell_type": "markdown",
   "metadata": {},
   "source": [
    "Monthly registration numbers show in general an increase up to begin of 2016, then we do observe quite a drop in registration numbers in the dat file but still higher numbers than in 2015"
   ]
  },
  {
   "cell_type": "code",
   "execution_count": 4,
   "metadata": {},
   "outputs": [
    {
     "data": {
      "text/plain": [
       "<AxesSubplot:xlabel='registration_init_time_as_dt'>"
      ]
     },
     "execution_count": 4,
     "metadata": {},
     "output_type": "execute_result"
    },
    {
     "data": {
      "image/png": "[encoded data removed]",
      "text/plain": [
       "<Figure size 432x288 with 1 Axes>"
      ]
     },
     "metadata": {
      "needs_background": "light"
     },
     "output_type": "display_data"
    }
   ],
   "source": [
    "df_mem.groupby(pd.Grouper(key=\"registration_init_time_as_dt\", freq=\"m\")).count()[\"registration_init_time\"].plot()"
   ]
  },
  {
   "cell_type": "code",
   "execution_count": 5,
   "metadata": {},
   "outputs": [
    {
     "data": {
      "text/html": [
       "<div>\n",
       "<style scoped>\n",
       "    .dataframe tbody tr th:only-of-type {\n",
       "        vertical-align: middle;\n",
       "    }\n",
       "\n",
       "    .dataframe tbody tr th {\n",
       "        vertical-align: top;\n",
       "    }\n",
       "\n",
       "    .dataframe thead th {\n",
       "        text-align: right;\n",
       "    }\n",
       "</style>\n",
       "<table border=\"1\" class=\"dataframe\">\n",
       "  <thead>\n",
       "    <tr style=\"text-align: right;\">\n",
       "      <th></th>\n",
       "      <th>msno</th>\n",
       "      <th>city</th>\n",
       "      <th>bd</th>\n",
       "      <th>gender</th>\n",
       "      <th>registered_via</th>\n",
       "      <th>registration_init_time</th>\n",
       "      <th>registration_init_time_as_dt</th>\n",
       "    </tr>\n",
       "  </thead>\n",
       "  <tbody>\n",
       "    <tr>\n",
       "      <th>0</th>\n",
       "      <td>Rb9UwLQTrxzBVwCB6+bCcSQWZ9JiNLC9dXtM1oEsZA8=</td>\n",
       "      <td>1</td>\n",
       "      <td>0</td>\n",
       "      <td>NaN</td>\n",
       "      <td>11</td>\n",
       "      <td>20110911</td>\n",
       "      <td>2011-09-11</td>\n",
       "    </tr>\n",
       "    <tr>\n",
       "      <th>1</th>\n",
       "      <td>+tJonkh+O1CA796Fm5X60UMOtB6POHAwPjbTRVl/EuU=</td>\n",
       "      <td>1</td>\n",
       "      <td>0</td>\n",
       "      <td>NaN</td>\n",
       "      <td>7</td>\n",
       "      <td>20110914</td>\n",
       "      <td>2011-09-14</td>\n",
       "    </tr>\n",
       "    <tr>\n",
       "      <th>2</th>\n",
       "      <td>cV358ssn7a0f7jZOwGNWS07wCKVqxyiImJUX6xcIwKw=</td>\n",
       "      <td>1</td>\n",
       "      <td>0</td>\n",
       "      <td>NaN</td>\n",
       "      <td>11</td>\n",
       "      <td>20110915</td>\n",
       "      <td>2011-09-15</td>\n",
       "    </tr>\n",
       "    <tr>\n",
       "      <th>3</th>\n",
       "      <td>9bzDeJP6sQodK73K5CBlJ6fgIQzPeLnRl0p5B77XP+g=</td>\n",
       "      <td>1</td>\n",
       "      <td>0</td>\n",
       "      <td>NaN</td>\n",
       "      <td>11</td>\n",
       "      <td>20110915</td>\n",
       "      <td>2011-09-15</td>\n",
       "    </tr>\n",
       "    <tr>\n",
       "      <th>4</th>\n",
       "      <td>WFLY3s7z4EZsieHCt63XrsdtfTEmJ+2PnnKLH5GY4Tk=</td>\n",
       "      <td>6</td>\n",
       "      <td>32</td>\n",
       "      <td>female</td>\n",
       "      <td>9</td>\n",
       "      <td>20110915</td>\n",
       "      <td>2011-09-15</td>\n",
       "    </tr>\n",
       "    <tr>\n",
       "      <th>...</th>\n",
       "      <td>...</td>\n",
       "      <td>...</td>\n",
       "      <td>...</td>\n",
       "      <td>...</td>\n",
       "      <td>...</td>\n",
       "      <td>...</td>\n",
       "      <td>...</td>\n",
       "    </tr>\n",
       "    <tr>\n",
       "      <th>6769468</th>\n",
       "      <td>VSGkb3hyBRUtb/b1MQUZbvOkktS3vKLnhMHW0CF8eyU=</td>\n",
       "      <td>1</td>\n",
       "      <td>0</td>\n",
       "      <td>NaN</td>\n",
       "      <td>7</td>\n",
       "      <td>20151020</td>\n",
       "      <td>2015-10-20</td>\n",
       "    </tr>\n",
       "    <tr>\n",
       "      <th>6769469</th>\n",
       "      <td>nWjH7glPkZ7jOVaCRwwjlpmp0T1hSWdv8hMJxiWCwKc=</td>\n",
       "      <td>1</td>\n",
       "      <td>0</td>\n",
       "      <td>NaN</td>\n",
       "      <td>7</td>\n",
       "      <td>20151020</td>\n",
       "      <td>2015-10-20</td>\n",
       "    </tr>\n",
       "    <tr>\n",
       "      <th>6769470</th>\n",
       "      <td>GH+b5+1tlv7ZZXsA8upBzVXMTLyffKcsF7WoU8b5rOI=</td>\n",
       "      <td>15</td>\n",
       "      <td>26</td>\n",
       "      <td>female</td>\n",
       "      <td>4</td>\n",
       "      <td>20151020</td>\n",
       "      <td>2015-10-20</td>\n",
       "    </tr>\n",
       "    <tr>\n",
       "      <th>6769471</th>\n",
       "      <td>XVlwT3fdCFGKqerEKBzUIjK+jzI6jzSke4cDMVhYyjE=</td>\n",
       "      <td>1</td>\n",
       "      <td>0</td>\n",
       "      <td>NaN</td>\n",
       "      <td>4</td>\n",
       "      <td>20151020</td>\n",
       "      <td>2015-10-20</td>\n",
       "    </tr>\n",
       "    <tr>\n",
       "      <th>6769472</th>\n",
       "      <td>isBt+JlgvZRNy6lxVr5vvuJ4lD00ofTaKyJ+uRnGcPg=</td>\n",
       "      <td>1</td>\n",
       "      <td>0</td>\n",
       "      <td>NaN</td>\n",
       "      <td>4</td>\n",
       "      <td>20151021</td>\n",
       "      <td>2015-10-21</td>\n",
       "    </tr>\n",
       "  </tbody>\n",
       "</table>\n",
       "<p>6769473 rows × 7 columns</p>\n",
       "</div>"
      ],
      "text/plain": [
       "                                                 msno  city  bd  gender  \\\n",
       "0        Rb9UwLQTrxzBVwCB6+bCcSQWZ9JiNLC9dXtM1oEsZA8=     1   0     NaN   \n",
       "1        +tJonkh+O1CA796Fm5X60UMOtB6POHAwPjbTRVl/EuU=     1   0     NaN   \n",
       "2        cV358ssn7a0f7jZOwGNWS07wCKVqxyiImJUX6xcIwKw=     1   0     NaN   \n",
       "3        9bzDeJP6sQodK73K5CBlJ6fgIQzPeLnRl0p5B77XP+g=     1   0     NaN   \n",
       "4        WFLY3s7z4EZsieHCt63XrsdtfTEmJ+2PnnKLH5GY4Tk=     6  32  female   \n",
       "...                                               ...   ...  ..     ...   \n",
       "6769468  VSGkb3hyBRUtb/b1MQUZbvOkktS3vKLnhMHW0CF8eyU=     1   0     NaN   \n",
       "6769469  nWjH7glPkZ7jOVaCRwwjlpmp0T1hSWdv8hMJxiWCwKc=     1   0     NaN   \n",
       "6769470  GH+b5+1tlv7ZZXsA8upBzVXMTLyffKcsF7WoU8b5rOI=    15  26  female   \n",
       "6769471  XVlwT3fdCFGKqerEKBzUIjK+jzI6jzSke4cDMVhYyjE=     1   0     NaN   \n",
       "6769472  isBt+JlgvZRNy6lxVr5vvuJ4lD00ofTaKyJ+uRnGcPg=     1   0     NaN   \n",
       "\n",
       "         registered_via  registration_init_time registration_init_time_as_dt  \n",
       "0                    11                20110911                   2011-09-11  \n",
       "1                     7                20110914                   2011-09-14  \n",
       "2                    11                20110915                   2011-09-15  \n",
       "3                    11                20110915                   2011-09-15  \n",
       "4                     9                20110915                   2011-09-15  \n",
       "...                 ...                     ...                          ...  \n",
       "6769468               7                20151020                   2015-10-20  \n",
       "6769469               7                20151020                   2015-10-20  \n",
       "6769470               4                20151020                   2015-10-20  \n",
       "6769471               4                20151020                   2015-10-20  \n",
       "6769472               4                20151021                   2015-10-21  \n",
       "\n",
       "[6769473 rows x 7 columns]"
      ]
     },
     "execution_count": 5,
     "metadata": {},
     "output_type": "execute_result"
    }
   ],
   "source": [
    "df_mem"
   ]
  },
  {
   "cell_type": "code",
   "execution_count": 6,
   "metadata": {},
   "outputs": [
    {
     "name": "stdout",
     "output_type": "stream",
     "text": [
      "20040326 20170429\n"
     ]
    }
   ],
   "source": [
    "print(df_mem[\"registration_init_time\"].min(),df_mem[\"registration_init_time\"].max())"
   ]
  },
  {
   "cell_type": "code",
   "execution_count": 7,
   "metadata": {},
   "outputs": [
    {
     "data": {
      "text/plain": [
       "msno                            6769473\n",
       "city                                 21\n",
       "bd                                  386\n",
       "gender                                2\n",
       "registered_via                       18\n",
       "registration_init_time             4782\n",
       "registration_init_time_as_dt       4782\n",
       "dtype: int64"
      ]
     },
     "execution_count": 7,
     "metadata": {},
     "output_type": "execute_result"
    }
   ],
   "source": [
    "df_mem.nunique()"
   ]
  },
  {
   "cell_type": "code",
   "execution_count": 8,
   "metadata": {},
   "outputs": [
    {
     "data": {
      "text/plain": [
       "msno                            0.000000\n",
       "city                            0.000000\n",
       "bd                              0.000000\n",
       "gender                          0.654335\n",
       "registered_via                  0.000000\n",
       "registration_init_time          0.000000\n",
       "registration_init_time_as_dt    0.000000\n",
       "dtype: float64"
      ]
     },
     "execution_count": 8,
     "metadata": {},
     "output_type": "execute_result"
    }
   ],
   "source": [
    "df_mem.isna().sum()/df_mem.isna().count()"
   ]
  },
  {
   "cell_type": "code",
   "execution_count": 9,
   "metadata": {},
   "outputs": [
    {
     "data": {
      "text/plain": [
       "<AxesSubplot:ylabel='Frequency'>"
      ]
     },
     "execution_count": 9,
     "metadata": {},
     "output_type": "execute_result"
    },
    {
     "data": {
      "image/png": "[encoded data removed]",
      "text/plain": [
       "<Figure size 720x720 with 1 Axes>"
      ]
     },
     "metadata": {
      "needs_background": "light"
     },
     "output_type": "display_data"
    }
   ],
   "source": [
    "fig, ax = plt.subplots()\n",
    "df_mem[\"registration_init_time\"].plot(kind=\"hist\",ax=ax,figsize=(10,10),bins=200)"
   ]
  },
  {
   "cell_type": "code",
   "execution_count": 10,
   "metadata": {},
   "outputs": [
    {
     "data": {
      "text/plain": [
       "<AxesSubplot:>"
      ]
     },
     "execution_count": 10,
     "metadata": {},
     "output_type": "execute_result"
    },
    {
     "data": {
      "image/png": "[encoded data removed]",
      "text/plain": [
       "<Figure size 720x720 with 1 Axes>"
      ]
     },
     "metadata": {
      "needs_background": "light"
     },
     "output_type": "display_data"
    }
   ],
   "source": [
    "fig, ax = plt.subplots()\n",
    "df_mem[\"city\"].value_counts().plot(kind=\"bar\",ax=ax,figsize=(10,10))"
   ]
  },
  {
   "cell_type": "code",
   "execution_count": 11,
   "metadata": {},
   "outputs": [
    {
     "data": {
      "text/plain": [
       "<AxesSubplot:>"
      ]
     },
     "execution_count": 11,
     "metadata": {},
     "output_type": "execute_result"
    },
    {
     "data": {
      "image/png": "[encoded data removed]",
      "text/plain": [
       "<Figure size 720x720 with 1 Axes>"
      ]
     },
     "metadata": {
      "needs_background": "light"
     },
     "output_type": "display_data"
    }
   ],
   "source": [
    "fig, ax = plt.subplots()\n",
    "df_mem[\"registered_via\"].value_counts().plot(kind=\"bar\",ax=ax,figsize=(10,10))"
   ]
  },
  {
   "cell_type": "code",
   "execution_count": 12,
   "metadata": {},
   "outputs": [
    {
     "name": "stdout",
     "output_type": "stream",
     "text": [
      "This kernel has  8 cores and you can find the information regarding the memory usage: svmem(total=17179869184, available=9531867136, percent=44.5, used=4998086656, free=5703200768, active=2425974784, inactive=3779379200, wired=2572111872)\n"
     ]
    }
   ],
   "source": [
    "import time\n",
    "import psutil\n",
    "import multiprocessing as mp\n",
    "\n",
    "#check the number of cores\n",
    "num_cores = mp.cpu_count()\n",
    "print(\"This kernel has \",num_cores,\"cores and you can find the information regarding the memory usage:\",psutil.virtual_memory())"
   ]
  },
  {
   "cell_type": "code",
   "execution_count": 13,
   "metadata": {},
   "outputs": [
    {
     "data": {
      "text/html": [
       "<div>\n",
       "<style scoped>\n",
       "    .dataframe tbody tr th:only-of-type {\n",
       "        vertical-align: middle;\n",
       "    }\n",
       "\n",
       "    .dataframe tbody tr th {\n",
       "        vertical-align: top;\n",
       "    }\n",
       "\n",
       "    .dataframe thead th {\n",
       "        text-align: right;\n",
       "    }\n",
       "</style>\n",
       "<table border=\"1\" class=\"dataframe\">\n",
       "  <thead>\n",
       "    <tr style=\"text-align: right;\">\n",
       "      <th></th>\n",
       "      <th>msno</th>\n",
       "      <th>date</th>\n",
       "      <th>num_25</th>\n",
       "      <th>num_50</th>\n",
       "      <th>num_75</th>\n",
       "      <th>num_985</th>\n",
       "      <th>num_100</th>\n",
       "      <th>num_unq</th>\n",
       "      <th>total_secs</th>\n",
       "    </tr>\n",
       "  </thead>\n",
       "  <tbody>\n",
       "    <tr>\n",
       "      <th>0</th>\n",
       "      <td>rxIP2f2aN0rYNp+toI0Obt/N/FYQX8hcO1fTmmy2h34=</td>\n",
       "      <td>20150513</td>\n",
       "      <td>0</td>\n",
       "      <td>0</td>\n",
       "      <td>0</td>\n",
       "      <td>0</td>\n",
       "      <td>1</td>\n",
       "      <td>1</td>\n",
       "      <td>280.335</td>\n",
       "    </tr>\n",
       "    <tr>\n",
       "      <th>1</th>\n",
       "      <td>rxIP2f2aN0rYNp+toI0Obt/N/FYQX8hcO1fTmmy2h34=</td>\n",
       "      <td>20150709</td>\n",
       "      <td>9</td>\n",
       "      <td>1</td>\n",
       "      <td>0</td>\n",
       "      <td>0</td>\n",
       "      <td>7</td>\n",
       "      <td>11</td>\n",
       "      <td>1658.948</td>\n",
       "    </tr>\n",
       "    <tr>\n",
       "      <th>2</th>\n",
       "      <td>yxiEWwE9VR5utpUecLxVdQ5B7NysUPfrNtGINaM2zA8=</td>\n",
       "      <td>20150105</td>\n",
       "      <td>3</td>\n",
       "      <td>3</td>\n",
       "      <td>0</td>\n",
       "      <td>0</td>\n",
       "      <td>68</td>\n",
       "      <td>36</td>\n",
       "      <td>17364.956</td>\n",
       "    </tr>\n",
       "    <tr>\n",
       "      <th>3</th>\n",
       "      <td>yxiEWwE9VR5utpUecLxVdQ5B7NysUPfrNtGINaM2zA8=</td>\n",
       "      <td>20150306</td>\n",
       "      <td>1</td>\n",
       "      <td>0</td>\n",
       "      <td>1</td>\n",
       "      <td>1</td>\n",
       "      <td>97</td>\n",
       "      <td>27</td>\n",
       "      <td>24667.317</td>\n",
       "    </tr>\n",
       "    <tr>\n",
       "      <th>4</th>\n",
       "      <td>yxiEWwE9VR5utpUecLxVdQ5B7NysUPfrNtGINaM2zA8=</td>\n",
       "      <td>20150501</td>\n",
       "      <td>3</td>\n",
       "      <td>0</td>\n",
       "      <td>0</td>\n",
       "      <td>0</td>\n",
       "      <td>38</td>\n",
       "      <td>38</td>\n",
       "      <td>9649.029</td>\n",
       "    </tr>\n",
       "  </tbody>\n",
       "</table>\n",
       "</div>"
      ],
      "text/plain": [
       "                                           msno      date  num_25  num_50  \\\n",
       "0  rxIP2f2aN0rYNp+toI0Obt/N/FYQX8hcO1fTmmy2h34=  20150513       0       0   \n",
       "1  rxIP2f2aN0rYNp+toI0Obt/N/FYQX8hcO1fTmmy2h34=  20150709       9       1   \n",
       "2  yxiEWwE9VR5utpUecLxVdQ5B7NysUPfrNtGINaM2zA8=  20150105       3       3   \n",
       "3  yxiEWwE9VR5utpUecLxVdQ5B7NysUPfrNtGINaM2zA8=  20150306       1       0   \n",
       "4  yxiEWwE9VR5utpUecLxVdQ5B7NysUPfrNtGINaM2zA8=  20150501       3       0   \n",
       "\n",
       "   num_75  num_985  num_100  num_unq  total_secs  \n",
       "0       0        0        1        1     280.335  \n",
       "1       0        0        7       11    1658.948  \n",
       "2       0        0       68       36   17364.956  \n",
       "3       1        1       97       27   24667.317  \n",
       "4       0        0       38       38    9649.029  "
      ]
     },
     "execution_count": 13,
     "metadata": {},
     "output_type": "execute_result"
    }
   ],
   "source": [
    "df_ul_check=pd.read_csv(\"data/user_logs.csv\",nrows=100)\n",
    "#df_ul[\"date_as_dt\"]=pd.to_datetime(df_ul[\"date\"], format='%Y%m%d', errors='ignore')\n",
    "df_ul_check.head()"
   ]
  },
  {
   "cell_type": "code",
   "execution_count": 14,
   "metadata": {},
   "outputs": [
    {
     "data": {
      "text/html": [
       "<div>\n",
       "<style scoped>\n",
       "    .dataframe tbody tr th:only-of-type {\n",
       "        vertical-align: middle;\n",
       "    }\n",
       "\n",
       "    .dataframe tbody tr th {\n",
       "        vertical-align: top;\n",
       "    }\n",
       "\n",
       "    .dataframe thead th {\n",
       "        text-align: right;\n",
       "    }\n",
       "</style>\n",
       "<table border=\"1\" class=\"dataframe\">\n",
       "  <thead>\n",
       "    <tr style=\"text-align: right;\">\n",
       "      <th></th>\n",
       "      <th>delta_date</th>\n",
       "    </tr>\n",
       "  </thead>\n",
       "  <tbody>\n",
       "    <tr>\n",
       "      <th>95</th>\n",
       "      <td>NaN</td>\n",
       "    </tr>\n",
       "    <tr>\n",
       "      <th>2</th>\n",
       "      <td>NaN</td>\n",
       "    </tr>\n",
       "    <tr>\n",
       "      <th>58</th>\n",
       "      <td>NaN</td>\n",
       "    </tr>\n",
       "    <tr>\n",
       "      <th>80</th>\n",
       "      <td>NaN</td>\n",
       "    </tr>\n",
       "    <tr>\n",
       "      <th>22</th>\n",
       "      <td>NaN</td>\n",
       "    </tr>\n",
       "  </tbody>\n",
       "</table>\n",
       "</div>"
      ],
      "text/plain": [
       "    delta_date\n",
       "95         NaN\n",
       "2          NaN\n",
       "58         NaN\n",
       "80         NaN\n",
       "22         NaN"
      ]
     },
     "execution_count": 14,
     "metadata": {},
     "output_type": "execute_result"
    }
   ],
   "source": [
    "df_test=df_ul_check.sort_values(by=['date']).groupby([\"msno\"])[['date']].diff().rename(columns={\"date\": \"delta_date\"})\n",
    "#df_test=df_test.rename(columns={\"date\": \"delta_date\"})\n",
    "df_test.head()"
   ]
  },
  {
   "cell_type": "code",
   "execution_count": null,
   "metadata": {},
   "outputs": [],
   "source": [
    "#no duplicates in v2\n",
    "df_ul=pd.read_csv(\"data/user_logs.csv\",usecols=['msno'])\n",
    "#df_ul[\"date_as_dt\"]=pd.to_datetime(df_ul[\"date\"], format='%Y%m%d', errors='ignore')\n",
    "df_ul.head()"
   ]
  },
  {
   "cell_type": "code",
   "execution_count": null,
   "metadata": {},
   "outputs": [],
   "source": [
    "df_ul_v2=pd.read_csv(\"data/user_logs_V2.csv\",usecols=['msno'])\n",
    "df_ul_v2"
   ]
  },
  {
   "cell_type": "code",
   "execution_count": null,
   "metadata": {},
   "outputs": [],
   "source": [
    "df_ul=df_ul.append(df_ul_v2)\n",
    "df_ul"
   ]
  },
  {
   "cell_type": "code",
   "execution_count": null,
   "metadata": {},
   "outputs": [],
   "source": [
    "msno_list=df_ul['msno'].unique().tolist()\n",
    "len(msno_list)"
   ]
  },
  {
   "cell_type": "code",
   "execution_count": null,
   "metadata": {},
   "outputs": [],
   "source": [
    "chunk_counter=100000\n",
    "test_msno_lists= [msno_list[x:x+chunk_counter] for x in range(0, len(msno_list), chunk_counter)]\n",
    "\n"
   ]
  },
  {
   "cell_type": "code",
   "execution_count": null,
   "metadata": {},
   "outputs": [],
   "source": [
    "day_period=30\n",
    "\n",
    "chunk_size = math.ceil(len(df_ul)/50.)\n",
    "#print(chunksize)\n",
    "\n",
    "sum_test=0\n",
    "df_agg_per_user_list=[]\n",
    "for ind,m_list in enumerate(test_msno_lists):\n",
    "    #print(m_list[0:10])\n",
    "    small_dfs_list=[]\n",
    "    #if(ind>1):\n",
    "    #    continue\n",
    "    print(len(m_list),ind)\n",
    "    for chunk in pd.read_csv(\"data/user_logs.csv\", chunksize=chunk_size):\n",
    "        small_df=chunk[chunk['msno'].isin(m_list)]\n",
    "        if(small_df.size>0):\n",
    "            print(small_df.size)\n",
    "        sum_test=sum_test+len(small_df)\n",
    "        small_dfs_list.append(small_df)\n",
    "    large_df = pd.concat(small_dfs_list, ignore_index=True)\n",
    "    large_df = large_df.drop_duplicates(ignore_index=True)\n",
    "    #date\tnum_25\tnum_50\tnum_75\tnum_985\tnum_100\tnum_unq\ttotal_secs\n",
    "    large_df['date']=pd.to_datetime(large_df['date'], format='%Y%m%d', errors='ignore')\n",
    "    print(\"len\",large_df.shape)\n",
    "    delta_data_large_df = large_df.sort_values(by=['date']).groupby([\"msno\"])[['date']].diff().rename(columns={\"date\": \"delta_date\"})\n",
    "    \n",
    "    #df_delta_tra=df_tra.sort_values(by=[\"transaction_date_dt\"]).groupby([\"msno\"])[[\"actual_amount_paid\",\"transaction_date_dt\",\"membership_expire_date_dt\"]].shift()\n",
    "\n",
    "    #df_delta_tra=df_delta_tra.rename(columns={\"actual_amount_paid\": \"actual_amount_paid_prev\", \"transaction_date_dt\": \"transaction_date_dt_prev\", \"membership_expire_date_dt\": \"membership_expire_date_dt_prev_prel\"})\n",
    "\n",
    "    large_df=pd.concat([large_df, delta_data_large_df], axis=1, sort=False)\n",
    "    #print(large_df.sort_values(by=[\"msno\",\"date\"]).head(50))\n",
    "    \n",
    "    df_agg_first_last_date = large_df.groupby([\"msno\"]).agg(first_act_date=('date','min'),\n",
    "                                                    last_act_date=('date','max')).reset_index()\n",
    "    large_df=large_df.merge(df_agg_first_last_date, on='msno')\n",
    "    large_df['activity_duration']=large_df['last_act_date']-large_df['first_act_date']\n",
    "    large_df['activity_duration']=large_df['activity_duration'].dt.days\n",
    "    large_df['delta_date']=large_df['delta_date'].dt.days-1\n",
    "    \n",
    "    \n",
    "    #print(large_df.sort_values(by=[\"msno\",\"date\"]).head(50))\n",
    "    \"\"\"\n",
    "    df_agg_temp_deltas_first=large_df[(large_df['delta_date'].notna()) & \n",
    "                                    (large_df['date']<(large_df['first_act_date']+dt.timedelta(days=day_period)))\n",
    "                                   ].groupby([\"msno\"]).agg(\n",
    "                                                n_max_break_first=('delta_date','max'),\n",
    "                                                n_min_break_first=('delta_date','min'),\n",
    "                                                n_mean_break_first=('delta_date','mean'),\n",
    "                                                n_mode_break_first=('delta_date',lambda x: pd.Series.mode(x)[0]),\n",
    "                                                n_median_break_first=('delta_date','median')\n",
    "                                                ).reset_index()\n",
    "    \"\"\"\n",
    "    df_agg_temp_deltas_last=large_df[(large_df['delta_date'].notna()) & \n",
    "                                    (large_df['date']>(large_df['last_act_date']-dt.timedelta(days=day_period)))\n",
    "                                   ].groupby([\"msno\"]).agg(\n",
    "                                                n_max_break_last=('delta_date','max'),\n",
    "                                                n_min_break_last=('delta_date','min'),\n",
    "                                                n_mean_break_last=('delta_date','mean'),\n",
    "                                                n_mode_break_last=('delta_date',lambda x: pd.Series.mode(x)[0]),\n",
    "                                                n_median_break_last=('delta_date','median')\n",
    "                                                ).reset_index()\n",
    "\n",
    "    \n",
    "    df_agg_temp_deltas=large_df[large_df['delta_date'].notna()].groupby([\"msno\"]).agg(\n",
    "                                                n_max_break=('delta_date','max'),\n",
    "                                                n_min_break=('delta_date','min'),\n",
    "                                                n_mean_break=('delta_date','mean'),\n",
    "                                                n_mode_break=('delta_date',lambda x: pd.Series.mode(x)[0]),\n",
    "                                                n_median_break=('delta_date','median')\n",
    "                                                ).reset_index()\n",
    "    \n",
    "    \n",
    "    df_agg_temp_last=large_df[(large_df['date']>(large_df['last_act_date']-dt.timedelta(days=day_period)))]\n",
    "                                   .groupby([\"msno\"]).agg(\n",
    "                                                n_active_days_last=('date','nunique'),\n",
    "                                                sum_num_25_last=('num_25','sum'),\n",
    "                                                sum_num_50_last=('num_50','sum'),\n",
    "                                                sum_num_75_last=('num_75','sum'),\n",
    "                                                sum_num_985_last=('num_985','sum'),\n",
    "                                                sum_num_100_last=('num_100','sum'),\n",
    "                                                sum_num_unq_last=('num_unq','sum'),\n",
    "                                                tot_secs_last=('total_secs','sum'),\n",
    "                                                mean_num_25_last=('num_25','mean'),\n",
    "                                                #max_num_25_last=('num_25','max'),\n",
    "                                                median_num_25_last=('num_25','median'),\n",
    "                                                q25_num_25_last=('num_25',lambda x: x.quantile(0.25)),\n",
    "                                                q75_num_25_last=('num_25',lambda x: x.quantile(0.75)),\n",
    "                                                std_num_25_last=('num_25','std'),\n",
    "                                                mean_num_50_last=('num_50','mean'),\n",
    "                                                #max_num_50_last=('num_50','max'),\n",
    "                                                median_num_50_last=('num_50','median'),\n",
    "                                                #q25_num_50_last=('num_50',lambda x: x.quantile(0.25)),\n",
    "                                                #q75_num_50_last=('num_50',lambda x: x.quantile(0.75)),\n",
    "                                                std_num_50_last=('num_50','std'),\n",
    "                                                mean_num_75_last=('num_75','mean'),\n",
    "                                                #max_num_75_last=('num_75','max'),\n",
    "                                                median_num_75_last=('num_75','median'),\n",
    "                                                #q25_num_75_last=('num_75',lambda x: x.quantile(0.25)),\n",
    "                                                #q75_num_75_last=('num_75',lambda x: x.quantile(0.75)),\n",
    "                                                std_num_75_last=('num_75','std'),\n",
    "                                                mean_num_985_last=('num_985','mean'),\n",
    "                                                #max_num_985_last=('num_985','max'),\n",
    "                                                median_num_985_last=('num_985','median'),\n",
    "                                                #q25_num_985_last=('num_985',lambda x: x.quantile(0.25)),\n",
    "                                                #q75_num_985_last=('num_985',lambda x: x.quantile(0.75)),\n",
    "                                                std_num_985_last=('num_985','std'),\n",
    "                                                mean_num_100_last=('num_100','mean'),\n",
    "                                                #max_num_100_last=('num_100','max'),\n",
    "                                                median_num_100_last=('num_100','median'),\n",
    "                                                q25_num_100_last=('num_100',lambda x: x.quantile(0.25)),\n",
    "                                                q75_num_100_last=('num_100',lambda x: x.quantile(0.75)),\n",
    "                                                std_num_100_last=('num_100','std'),\n",
    "                                                mean_tot_secs_last=('total_secs','mean'),\n",
    "                                                #max_tot_secs_last=('total_secs','max'),\n",
    "                                                median_tot_secs_last=('total_secs','median'),\n",
    "                                                q25_tot_secs_last=('total_secs',lambda x: x.quantile(0.25)),\n",
    "                                                q75_tot_secs_last=('total_secs',lambda x: x.quantile(0.75)),\n",
    "                                                std_tot_secs_last=('total_secs','std')                                        \n",
    "                                        \n",
    "    ).reset_index()\n",
    "    \n",
    "    \n",
    "    \n",
    "    \n",
    "    \n",
    "    df_agg_temp=large_df.groupby([\"msno\"]).agg(activity_duration=('activity_duration','min'),\n",
    "                                                n_active_days=('date','nunique'),\n",
    "                                                sum_num_25=('num_25','sum'),\n",
    "                                                sum_num_50=('num_50','sum'),\n",
    "                                                sum_num_75=('num_75','sum'),\n",
    "                                                sum_num_985=('num_985','sum'),\n",
    "                                                sum_num_100=('num_100','sum'),\n",
    "                                                sum_num_unq=('num_unq','sum'),\n",
    "                                                tot_secs=('total_secs','sum'),\n",
    "                                                mean_num_25=('num_25','mean'),\n",
    "                                                #max_num_25=('num_25','max'),\n",
    "                                                median_num_25=('num_25','median'),\n",
    "                                                q25_num_25=('num_25',lambda x: x.quantile(0.25)),\n",
    "                                                q75_num_25=('num_25',lambda x: x.quantile(0.75)),\n",
    "                                                std_num_25=('num_25','std'),\n",
    "                                                mean_num_50=('num_50','mean'),\n",
    "                                                #max_num_50=('num_50','max'),\n",
    "                                                median_num_50=('num_50','median'),\n",
    "                                                #q25_num_50=('num_50',lambda x: x.quantile(0.25)),\n",
    "                                                #q75_num_50=('num_50',lambda x: x.quantile(0.75)),\n",
    "                                                std_num_50=('num_50','std'),\n",
    "                                                mean_num_75=('num_75','mean'),\n",
    "                                                #max_num_75=('num_75','max'),\n",
    "                                                median_num_75=('num_75','median'),\n",
    "                                                #q25_num_75=('num_75',lambda x: x.quantile(0.25)),\n",
    "                                                #q75_num_75=('num_75',lambda x: x.quantile(0.75)),\n",
    "                                                std_num_75=('num_75','std'),\n",
    "                                                mean_num_985=('num_985','mean'),\n",
    "                                                #max_num_985=('num_985','max'),\n",
    "                                                median_num_985=('num_985','median'),\n",
    "                                                #q25_num_985=('num_985',lambda x: x.quantile(0.25)),\n",
    "                                                #q75_num_985=('num_985',lambda x: x.quantile(0.75)),\n",
    "                                                std_num_985=('num_985','std'),\n",
    "                                                mean_num_100=('num_100','mean'),\n",
    "                                                #max_num_100=('num_100','max'),\n",
    "                                                median_num_100=('num_100','median'),\n",
    "                                                q25_num_100=('num_100',lambda x: x.quantile(0.25)),\n",
    "                                                q75_num_100=('num_100',lambda x: x.quantile(0.75)),\n",
    "                                                std_num_100=('num_100','std'),\n",
    "                                                mean_tot_secs=('total_secs','mean'),\n",
    "                                                #max_tot_secs=('total_secs','max'),\n",
    "                                                median_tot_secs=('total_secs','median'),\n",
    "                                                q25_tot_secs=('total_secs',lambda x: x.quantile(0.25)),\n",
    "                                                q75_tot_secs=('total_secs',lambda x: x.quantile(0.75)),\n",
    "                                                std_tot_secs=('total_secs','std')                                        \n",
    "                                        \n",
    "    ).reset_index()\n",
    "    df_agg_temp=df_agg_temp.merge(df_agg_temp_deltas, how='outer',on='msno'\n",
    "                                ).merge(df_agg_temp_deltas_first, how='outer',on='msno'\n",
    "                                ).merge(df_agg_temp_deltas_last, how='outer',on='msno')\n",
    "    df_agg_per_user_list.append(df_agg_temp)\n",
    "    #print(df_agg_temp.head(10))\n",
    "    #print(len(df_agg_temp))\n",
    "large_agg_df = pd.concat(df_agg_per_user_list, ignore_index=True)\n"
   ]
  },
  {
   "cell_type": "code",
   "execution_count": null,
   "metadata": {},
   "outputs": [],
   "source": [
    "#df_ul_first_last_date=df_ul.groupby([\"msno\"]).agg(first_act_date=('date_as_dt','min')\n",
    "#                                                ,last_act_date=('date_as_dt','max')).reset_index()"
   ]
  },
  {
   "cell_type": "code",
   "execution_count": null,
   "metadata": {},
   "outputs": [],
   "source": [
    "df_ul_first_last_date.sort_values(by=[\"last_act_date\"])"
   ]
  },
  {
   "cell_type": "code",
   "execution_count": null,
   "metadata": {},
   "outputs": [],
   "source": [
    "#num 25 songs played less 25 %, num 50 is 25-50, 75 is 50-76 etc etc\n",
    "# over all mean, median, sigma, quartiles 25, 75, also for total secons, num_unq\n",
    "\n",
    "#aggregate maybe first 30 days or last 30 days before last recorded days\n",
    "#also check how many days active, also check active dates for all, and longest breaks between dates\n",
    "\n",
    "df_ul.sort_values(by=[\"msno\",\"date_as_dt\"]).head(50)"
   ]
  },
  {
   "cell_type": "code",
   "execution_count": null,
   "metadata": {},
   "outputs": [],
   "source": [
    "df_ul.sort_values(by=[\"msno\",\"date\"]).tail(50)"
   ]
  },
  {
   "cell_type": "code",
   "execution_count": null,
   "metadata": {},
   "outputs": [],
   "source": [
    "df_train=pd.read_csv(\"data/train.csv\")\n",
    "df_train.sort_values(by=[\"msno\"])"
   ]
  },
  {
   "cell_type": "code",
   "execution_count": null,
   "metadata": {},
   "outputs": [],
   "source": [
    "df_train.nunique()"
   ]
  },
  {
   "cell_type": "code",
   "execution_count": null,
   "metadata": {},
   "outputs": [],
   "source": [
    "df_train_v2=pd.read_csv(\"data/train_v2.csv\")\n",
    "df_train_v2.sort_values(by=[\"msno\"])"
   ]
  },
  {
   "cell_type": "code",
   "execution_count": null,
   "metadata": {},
   "outputs": [],
   "source": [
    "df_train_v2.nunique()"
   ]
  },
  {
   "cell_type": "markdown",
   "metadata": {},
   "source": [
    "It is obvious that ID's from the first dataframe are also included in the second dataframe, which contains updated values, it is also checked that indeed all ID\"s are unique(). Not all ID's of the first train data are included in the V2 train date, will in the following concentrate on the V2 data."
   ]
  },
  {
   "cell_type": "code",
   "execution_count": null,
   "metadata": {},
   "outputs": [],
   "source": [
    "df_train[df_train[\"msno\"].duplicated()]"
   ]
  },
  {
   "cell_type": "markdown",
   "metadata": {},
   "source": [
    "## Transaction Data\n",
    "\n",
    "In the transaction data there are a couple of duplicates, but not too drastic, 3339 out of 21547746 entries. For the extension none out of 1431009 entries are duplicated. After merging both datasets, the number of duplicates remains at 3339, thus both original transaction datasets don't overlap. In total transactions for 2426143 users are listed.\n",
    "\n",
    "Issue in membership_expire_date: at times (about 1600) this value is the start of unixtime, thus this part is imputed with the following:\n",
    "- for auto renew subscriptions the previous membership_expire_date plus the payment_plan_days is put in (not checked for the  is_cancel flag right now)\n",
    "- for non auto renew impute the membership_expire_date by using the transaction_date_dt plus the payment_plan_days"
   ]
  },
  {
   "cell_type": "code",
   "execution_count": null,
   "metadata": {},
   "outputs": [],
   "source": [
    "df_tra=pd.read_csv(\"data/transactions.csv\")\n",
    "\n",
    "df_tra_V2=pd.read_csv(\"data/transactions_v2.csv\")\n",
    "\n",
    "df_tra=df_tra.append(df_tra_V2)\n",
    "\n",
    "df_tra=df_tra.drop_duplicates(ignore_index=True)\n",
    "df_tra[\"transaction_date_dt\"]=pd.to_datetime(df_tra[\"transaction_date\"], format='%Y%m%d', errors='ignore')\n",
    "df_tra[\"membership_expire_date_dt\"]=pd.to_datetime(df_tra[\"membership_expire_date\"], format='%Y%m%d', errors='ignore')\n",
    "df_tra"
   ]
  },
  {
   "cell_type": "code",
   "execution_count": null,
   "metadata": {
    "scrolled": true
   },
   "outputs": [],
   "source": [
    "df_delta_tra=df_tra.sort_values(by=[\"transaction_date_dt\"]).groupby([\"msno\"])[[\"actual_amount_paid\",\"transaction_date_dt\",\"membership_expire_date_dt\"]].shift()\n",
    "\n",
    "df_delta_tra=df_delta_tra.rename(columns={\"actual_amount_paid\": \"actual_amount_paid_prev\", \"transaction_date_dt\": \"transaction_date_dt_prev\", \"membership_expire_date_dt\": \"membership_expire_date_dt_prev_prel\"})\n",
    "\n",
    "df_delta_tra=pd.concat([df_tra, df_delta_tra], axis=1, sort=False)\n",
    "df_delta_tra['delta_transaction_date']=df_delta_tra['transaction_date_dt']-df_delta_tra['transaction_date_dt_prev']\n",
    "df_delta_tra['delta_amount_paid']=df_delta_tra['actual_amount_paid']-df_delta_tra['actual_amount_paid_prev']\n",
    "\n",
    "df_delta_tra['payment_plan_days_dt']=pd.to_timedelta(df_delta_tra['payment_plan_days'],unit='days')\n",
    "df_delta_tra['membership_expire_date_dt']=np.where(df_delta_tra['membership_expire_date_dt']<df_delta_tra['transaction_date_dt'],\n",
    "                                                  np.where(df_delta_tra['is_auto_renew']==1,\n",
    "                                                           np.where(df_delta_tra['membership_expire_date_dt_prev_prel']!=pd.NaT,\n",
    "                                                                    df_delta_tra['transaction_date_dt']+pd.to_timedelta(df_delta_tra['payment_plan_days_dt']),\n",
    "                                                                    df_delta_tra['membership_expire_date_dt_prev_prel']+pd.to_timedelta(df_delta_tra['payment_plan_days_dt'])\n",
    "                                                                   ),\n",
    "                                                            df_delta_tra['transaction_date_dt']+pd.to_timedelta(df_delta_tra['payment_plan_days_dt'],unit='days')\n",
    "                                                          ),\n",
    "                                                  df_delta_tra['membership_expire_date_dt'])\n",
    "\n",
    "df_delta_tra_corr=df_delta_tra.sort_values(by=[\"transaction_date_dt\"]).groupby([\"msno\"])[[\"membership_expire_date_dt\"]].shift()\n",
    "df_delta_tra_corr=df_delta_tra_corr.rename(columns={\"membership_expire_date_dt\": \"membership_expire_date_dt_prev\"})\n",
    "\n",
    "df_delta_tra=pd.concat([df_delta_tra.drop(columns=[\"membership_expire_date_dt_prev_prel\"]), df_delta_tra_corr], axis=1, sort=False)\n",
    "\n",
    "df_delta_tra['delta_transact_date_members_exp_prev']=df_delta_tra['transaction_date_dt']-df_delta_tra['membership_expire_date_dt_prev']\n",
    "\n",
    "df_delta_tra['delta_transact_date_members_exp_prev']=df_delta_tra['delta_transact_date_members_exp_prev'].dt.days\n",
    "df_delta_tra['delta_transaction_date']=df_delta_tra['delta_transaction_date'].dt.days\n",
    "\n",
    "df_delta_tra"
   ]
  },
  {
   "cell_type": "code",
   "execution_count": null,
   "metadata": {},
   "outputs": [],
   "source": [
    "#df_delta_tra[[\"membership_expire_date_dt\",\"msno\"]].groupby([\"msno\"]).max()[\"membership_expire_date_dt\"]-df_delta_tra[[\"transaction_date_dt\",\"msno\"]].groupby([\"msno\"]).min()[\"transaction_date_dt\"]"
   ]
  },
  {
   "cell_type": "code",
   "execution_count": null,
   "metadata": {},
   "outputs": [],
   "source": [
    "#check sum membership expire/transaction\n",
    "#check membership duration\n",
    "#check positive value difference transaction-membership expire\n",
    "#check membership"
   ]
  },
  {
   "cell_type": "code",
   "execution_count": null,
   "metadata": {},
   "outputs": [],
   "source": [
    "df_delta_tra.dtypes"
   ]
  },
  {
   "cell_type": "code",
   "execution_count": null,
   "metadata": {},
   "outputs": [],
   "source": [
    "#workaround for aggregation, exclude the first time stamp which doesn't include the delta values\n",
    "#clearly this also ignores all users, which had one subscription only in their customr journry\n",
    "df_tra_agg_per_user_red=df_delta_tra[df_delta_tra[\"delta_transact_date_members_exp_prev\"].notna()].groupby(\n",
    "    [\"msno\"]).agg(\n",
    "        #effective break periods, if transaction happens more than a day after expiration of the previous membership\n",
    "        #clearly if you renew the membership just the day after, the effective break is 0, correct for that\n",
    "        #offset by 1\n",
    "        sum_delta_members_exp_prev_trans_date=('delta_transact_date_members_exp_prev', lambda x:(x[x > 1]-1).sum()),\n",
    "        num_breaks_members_exp_trans=('delta_transact_date_members_exp_prev', lambda x:(x[x > 1]).count()),\n",
    "        min_delta_members_exp_prev_trans_date=('delta_transact_date_members_exp_prev','min'),\n",
    "        max_delta_members_exp_prev_trans_date=('delta_transact_date_members_exp_prev','max'),\n",
    "        mode_delta_members_exp_prev_trans_date=('delta_transact_date_members_exp_prev',lambda x: pd.Series.mode(x)[0]), \n",
    "        min_delta_trans_date=('delta_transaction_date','min'),\n",
    "        max_delta_trans_date=('delta_transaction_date','max'),\n",
    "        mode_delta_trans_date=('delta_transaction_date',lambda x: pd.Series.mode(x)[0]),\n",
    "        min_delta_amount_paid=('delta_amount_paid','min'),\n",
    "        max_delta_amount_paid=('delta_amount_paid','max'),\n",
    "        mode_delta_amount_paid=('delta_amount_paid',lambda x: pd.Series.mode(x)[0])\n",
    "    ).reset_index()\n",
    "df_tra_agg_per_user_red"
   ]
  },
  {
   "cell_type": "code",
   "execution_count": null,
   "metadata": {},
   "outputs": [],
   "source": [
    "df_tra[df_tra['msno']=='JdKkGg4Pm+Xj7yaE40HqsNk11m1tRhAYE0z02WE9R5o='].sort_values(by='transaction_date_dt')"
   ]
  },
  {
   "cell_type": "code",
   "execution_count": null,
   "metadata": {},
   "outputs": [],
   "source": [
    "df_tra_agg_per_user_red.sort_values(by=['sum_delta_members_exp_prev_trans_date']).tail(50)"
   ]
  },
  {
   "cell_type": "code",
   "execution_count": null,
   "metadata": {},
   "outputs": [],
   "source": [
    "df_tra_agg_per_user=df_delta_tra.groupby([\"msno\"]).agg(\n",
    "    total_num_transaction=('transaction_date','count'),\n",
    "    max_date_trans=('transaction_date_dt','max'),\n",
    "    min_date_trans=('transaction_date_dt','min'),\n",
    "    max_memb_exp=('membership_expire_date_dt','max'),\n",
    "    min_amount_paid=('actual_amount_paid','min'),\n",
    "    max_amount_paid=('actual_amount_paid','max'),\n",
    "    mean_amount_paid=('actual_amount_paid','mean'),  \n",
    "    mode_amount_paid=('actual_amount_paid',lambda x: pd.Series.mode(x)[0]),  \n",
    "    total_amount_paid=('actual_amount_paid','sum'), \n",
    "    total_plan_list_price=('plan_list_price','sum'), \n",
    "    mean_plan_list_price=('plan_list_price','mean'), \n",
    "    mode_plan_list_price=('plan_list_price',lambda x: pd.Series.mode(x)[0]), \n",
    "    num_payment_methods=('payment_method_id','nunique'), \n",
    "    mode_payment_method_id=('payment_method_id',lambda x: pd.Series.mode(x)[0]), \n",
    "    sum_payment_plan_days=('payment_plan_days','sum'),\n",
    "    min_payment_plan_days=('payment_plan_days','min'),\n",
    "    max_payment_plan_days=('payment_plan_days','max'),\n",
    "    mean_payment_plan_days=('payment_plan_days','mean'),  \n",
    "    mode_payment_plan_days=('payment_plan_days',lambda x: pd.Series.mode(x)[0]),  \n",
    "    num_payment_plans=('payment_plan_days','nunique'), \n",
    "    total_auto_renew=('is_auto_renew','sum'),\n",
    "    total_is_cancel=('is_cancel','sum')\n",
    "    ).reset_index()\n",
    "df_tra_agg_per_user"
   ]
  },
  {
   "cell_type": "code",
   "execution_count": null,
   "metadata": {},
   "outputs": [],
   "source": [
    "df_tra_agg_per_user['sum_delta_members_exp_prev_trans_date']"
   ]
  },
  {
   "cell_type": "code",
   "execution_count": null,
   "metadata": {},
   "outputs": [],
   "source": [
    "df_tra_agg_per_user[\"duration_max_memb_exp_min_trans_date\"]=(df_tra_agg_per_user['max_memb_exp']-df_tra_agg_per_user[\"min_date_trans\"]).dt.days\n",
    "df_tra_agg_per_user[\"duration_max_min_trans_date\"]=(df_tra_agg_per_user['max_date_trans']-df_tra_agg_per_user[\"min_date_trans\"]).dt.days\n",
    "df_tra_agg_per_user"
   ]
  },
  {
   "cell_type": "code",
   "execution_count": null,
   "metadata": {},
   "outputs": [],
   "source": [
    "df_tra_agg_per_user=df_tra_agg_per_user.merge(df_tra_agg_per_user_red,how='left',on='msno')\n",
    "df_tra_agg_per_user"
   ]
  },
  {
   "cell_type": "code",
   "execution_count": null,
   "metadata": {},
   "outputs": [],
   "source": [
    "df_tra_agg_per_user['sum_delta_members_exp_prev_trans_date'] = df_tra_agg_per_user['sum_delta_members_exp_prev_trans_date'].fillna(0)\n",
    "df_tra_agg_per_user[\"duration_max_memb_exp_min_trans_date_effective\"]=df_tra_agg_per_user['duration_max_memb_exp_min_trans_date']-df_tra_agg_per_user['sum_delta_members_exp_prev_trans_date']\n",
    "df_tra_agg_per_user"
   ]
  },
  {
   "cell_type": "code",
   "execution_count": null,
   "metadata": {},
   "outputs": [],
   "source": [
    "df_tra_agg_per_user.to_csv(\"df_transaction_aggregated_per_user_def_with_duration.csv\")"
   ]
  },
  {
   "cell_type": "code",
   "execution_count": null,
   "metadata": {},
   "outputs": [],
   "source": [
    "df_delta_tra.sort_values(by=[\"msno\",\"transaction_date\"]).head(50)"
   ]
  },
  {
   "cell_type": "code",
   "execution_count": null,
   "metadata": {},
   "outputs": [],
   "source": [
    "df_delta_tra.sort_values(by=[\"msno\",\"transaction_date\"]).tail(50)"
   ]
  },
  {
   "cell_type": "code",
   "execution_count": null,
   "metadata": {},
   "outputs": [],
   "source": [
    "df_tra.groupby([\"msno\"]).count().sort_values(by=[\"payment_method_id\"],ascending=False)"
   ]
  },
  {
   "cell_type": "code",
   "execution_count": null,
   "metadata": {},
   "outputs": [],
   "source": [
    "df_tra.nunique()"
   ]
  },
  {
   "cell_type": "code",
   "execution_count": null,
   "metadata": {},
   "outputs": [],
   "source": [
    "df_tra_V2[df_tra_V2.duplicated()].sort_values(by=[\"msno\"])"
   ]
  },
  {
   "cell_type": "code",
   "execution_count": null,
   "metadata": {},
   "outputs": [],
   "source": [
    "print(df_tra[df_tra.duplicated(subset=['msno'], keep=False)].shape[0]/df_tra.shape[0])\n",
    "print(df_tra.shape[0],len(df_tra[\"msno\"].unique()))\n",
    "df_tra[df_tra.duplicated(subset=['msno'], keep=False)].sort_values(by=['msno']).head(50)"
   ]
  },
  {
   "cell_type": "code",
   "execution_count": null,
   "metadata": {},
   "outputs": [],
   "source": [
    "print(df_ul.shape,df_mem.shape,df_train.shape,df_tra.shape)"
   ]
  },
  {
   "cell_type": "code",
   "execution_count": null,
   "metadata": {},
   "outputs": [],
   "source": [
    "print(len(df_ul[\"msno\"].unique()),len(df_mem[\"msno\"].unique()),len(df_train[\"msno\"].unique()),len(df_tra[\"msno\"].unique()))"
   ]
  },
  {
   "cell_type": "code",
   "execution_count": null,
   "metadata": {},
   "outputs": [],
   "source": [
    "print(\"churn rage\",len(df_train[df_train[\"is_churn\"]==1][\"is_churn\"])/len(df_train[\"is_churn\"]))"
   ]
  },
  {
   "cell_type": "code",
   "execution_count": null,
   "metadata": {},
   "outputs": [],
   "source": [
    "print(df_mem[\"city\"].unique())\n",
    "print(len(df_mem[\"city\"].unique()))"
   ]
  },
  {
   "cell_type": "code",
   "execution_count": null,
   "metadata": {},
   "outputs": [],
   "source": [
    "df_mem.isna().sum()/df_mem.shape[0]"
   ]
  },
  {
   "cell_type": "code",
   "execution_count": null,
   "metadata": {},
   "outputs": [],
   "source": [
    "df_ul.isna().sum()/df_ul.shape[0]"
   ]
  },
  {
   "cell_type": "code",
   "execution_count": null,
   "metadata": {},
   "outputs": [],
   "source": [
    "df_train.isna().sum()/df_train.shape[0]"
   ]
  },
  {
   "cell_type": "code",
   "execution_count": null,
   "metadata": {},
   "outputs": [],
   "source": [
    "df_tra.isna().sum()/df_tra.shape[0]"
   ]
  },
  {
   "cell_type": "code",
   "execution_count": null,
   "metadata": {},
   "outputs": [],
   "source": [
    "print(len(df_tra[\"payment_method_id\"].unique()),df_tra[\"payment_plan_days\"].unique(),len(df_tra[\"plan_list_price\"].unique()))"
   ]
  },
  {
   "cell_type": "code",
   "execution_count": null,
   "metadata": {},
   "outputs": [],
   "source": [
    "df_mem[\"registered_via\"].unique()"
   ]
  },
  {
   "cell_type": "code",
   "execution_count": null,
   "metadata": {},
   "outputs": [],
   "source": [
    "df_merge=pd.merge(df_train, df_mem, how='left', on='msno')\n",
    "print(df_merge.shape, df_mem.shape, df_train.shape)\n",
    "df_merge.head(20)"
   ]
  },
  {
   "cell_type": "code",
   "execution_count": null,
   "metadata": {},
   "outputs": [],
   "source": [
    "df_tra[df_tra[\"msno\"]==\"8iF/+8HY8lJKFrTc7iR9ZYGCG2Ecrogbc2Vy5YhsfhQ=\"].head(20)"
   ]
  },
  {
   "cell_type": "code",
   "execution_count": null,
   "metadata": {},
   "outputs": [],
   "source": [
    "df_merge_tra=pd.merge(df_merge, df_tra, how='left', on='msno')\n",
    "print(df_merge_tra.shape,df_merge.shape, df_tra.shape)\n",
    "df_merge_tra.head(20)"
   ]
  },
  {
   "cell_type": "markdown",
   "metadata": {},
   "source": [
    "We checked already previously, that for some ID's we have two entries in the transaction database. Some of those are present due to a change of plan, change of payments. Typically there are two entries per user, in total 26 % of all transaction data is coming from users wich two (or more ntries). Thus I would expect the after merging the transaction and the membership/churn dataframe, that the shape does increase. "
   ]
  },
  {
   "cell_type": "code",
   "execution_count": null,
   "metadata": {},
   "outputs": [],
   "source": [
    "df_merge_tra.dtypes"
   ]
  },
  {
   "cell_type": "code",
   "execution_count": null,
   "metadata": {},
   "outputs": [],
   "source": [
    "df_merge_tra[\"registration_init_time\"]=pd.to_datetime(df_merge_tra[\"registration_init_time\"],format=\"%Y%m%d\")\n",
    "df_merge_tra[\"transaction_date\"]=pd.to_datetime(df_merge_tra[\"transaction_date\"],format=\"%Y%m%d\")\n",
    "df_merge_tra[\"membership_expire_date\"]=pd.to_datetime(df_merge_tra[\"membership_expire_date\"],format=\"%Y%m%d\")\n",
    "df_merge_tra.head(10)"
   ]
  },
  {
   "cell_type": "code",
   "execution_count": null,
   "metadata": {},
   "outputs": [],
   "source": [
    "df_ul[\"date\"]=pd.to_datetime(df_ul[\"date\"],format=\"%Y%m%d\")\n",
    "df_ul.head(10)"
   ]
  },
  {
   "cell_type": "markdown",
   "metadata": {},
   "source": [
    "Maybe make a second category for returning customers, else need to dense down the information per user for example from the logs, look at the distributions and have for example a look at the ratio of num_25/mum_50 etc songs, or look at the average number of seconds spend things like that."
   ]
  },
  {
   "cell_type": "code",
   "execution_count": null,
   "metadata": {},
   "outputs": [],
   "source": [
    "df_merge_tra[df_merge_tra.duplicated(subset=['msno'],keep=False)].head(50)"
   ]
  },
  {
   "cell_type": "code",
   "execution_count": null,
   "metadata": {},
   "outputs": [],
   "source": [
    "print(df_merge_tra[df_merge_tra.duplicated(subset=['msno'],keep=False)].shape)\n",
    "print(df_merge_tra[df_merge_tra.duplicated(subset=['msno'],keep=False) & df_merge_tra[\"is_churn\"]==1].shape)\n",
    "print(\"count of churns in transaction dupolicates\",len(df_merge_tra[df_merge_tra.duplicated(subset=['msno'],keep=False) & df_merge_tra[\"is_churn\"]==1][\"msno\"].unique()))\n",
    "print(\"count of no churns in transaction dupolicates\",len(df_merge_tra[df_merge_tra.duplicated(subset=['msno'],keep=False) & df_merge_tra[\"is_churn\"]==0][\"msno\"].unique()))\n",
    "print(\"churn rate in transaction duplicates\",len(df_merge_tra[df_merge_tra.duplicated(subset=['msno'],keep=False) & df_merge_tra[\"is_churn\"]==1][\"msno\"].unique())/len(df_merge_tra[df_merge_tra.duplicated(subset=['msno'],keep=False)][\"msno\"].unique()))\n",
    "print(\"overall churn rate\",len(df_merge[df_merge[\"is_churn\"]==1][\"msno\"].unique())/len(df_merge[\"msno\"].unique()))\n",
    "print(\"no churn rate in no duplicates transaction data\")\n",
    "print(df_merge_tra[df_merge_tra[\"is_churn\"]==0].drop_duplicates(subset=['msno'],keep=False).count()/df_merge_tra.drop_duplicates(subset=['msno'],keep=False).count())\n",
    "#print(len(df_merge_tra[not df_merge_tra.duplicated(subset=['msno'],keep=False) & df_merge_tra[\"is_churn\"]==1][\"msno\"].unique())/len(df_merge_tra[df_merge_tra.duplica"
   ]
  },
  {
   "cell_type": "markdown",
   "metadata": {},
   "source": [
    "We wondered how we should deal with the duplicate entries (with respect to userID) in the transaction data. If we check the amount of churns in terms of total members, the rate is about 8.9%. If we consider now duplicate appearance in the transaction, the people who churned appear there with about 19.8 %, so more as double the rate. Thus it is something which we should investigate further. The rate of churns is lower than average in the transaction data when duplicates are removed"
   ]
  },
  {
   "cell_type": "code",
   "execution_count": null,
   "metadata": {},
   "outputs": [],
   "source": [
    "#fig, ax = plt.subplots()\n",
    "df_merge_tra[df_merge_tra[\"is_churn\"]==0].drop_duplicates(subset=['msno'],keep=False).hist(figsize=(20,20),bins=20)\n",
    "df_merge_tra[df_merge_tra[\"is_churn\"]==1].drop_duplicates(subset=['msno'],keep=False).hist(figsize=(20,20),bins=20)"
   ]
  },
  {
   "cell_type": "code",
   "execution_count": null,
   "metadata": {},
   "outputs": [],
   "source": [
    "df_merge_tra_dupl=df_merge_tra[df_merge_tra.duplicated(subset=['msno'],keep=False)]\n",
    "df_merge_tra_dupl[df_merge_tra_dupl[\"is_churn\"]==0].hist(figsize=(20,20),bins=20)\n",
    "df_merge_tra_dupl[df_merge_tra_dupl[\"is_churn\"]==1].hist(figsize=(20,20),bins=20)"
   ]
  },
  {
   "cell_type": "code",
   "execution_count": null,
   "metadata": {},
   "outputs": [],
   "source": [
    "fig, ax = plt.subplots()\n",
    "df_merge_tra_dupl[df_merge_tra_dupl[\"is_churn\"]==0][\"msno\"].value_counts().hist(ax=ax,figsize=(10,10),bins=20)\n",
    "ax.set_yscale('log')\n",
    "#df_merge_tra_dupl[df_merge_tra_dupl[\"is_churn\"]==1].hist(figsize=(20,20),bins=20)\n",
    "fig, ax = plt.subplots()\n",
    "df_merge_tra_dupl[df_merge_tra_dupl[\"is_churn\"]==1][\"msno\"].value_counts().hist(ax=ax,figsize=(10,10),bins=20)\n",
    "ax.set_yscale('log')"
   ]
  },
  {
   "cell_type": "code",
   "execution_count": null,
   "metadata": {},
   "outputs": [],
   "source": [
    "df_merge_tra_dupl[df_merge_tra_dupl[\"is_churn\"]==0][\"msno\"].value_counts()"
   ]
  },
  {
   "cell_type": "code",
   "execution_count": null,
   "metadata": {},
   "outputs": [],
   "source": [
    "df_merge_tra_dupl[df_merge_tra_dupl['msno']==\"f/CqixCvjsoTwQRY8A09SMBMsM0cRcG8BSUe48Bd2Mg=\"].sort_values(by=[\"transaction_date\"]).head(50)"
   ]
  },
  {
   "cell_type": "code",
   "execution_count": null,
   "metadata": {},
   "outputs": [],
   "source": [
    "df_merge_tra_dupl[(df_merge_tra_dupl[\"is_churn\"]==1) & (df_merge_tra_dupl[\"plan_list_price\"]==0)][\"msno\"].value_counts()"
   ]
  },
  {
   "cell_type": "code",
   "execution_count": null,
   "metadata": {},
   "outputs": [],
   "source": [
    "df_merge_tra_dupl[(df_merge_tra_dupl[\"is_churn\"]==1) & (df_merge_tra_dupl[\"plan_list_price\"]!=0)]"
   ]
  },
  {
   "cell_type": "code",
   "execution_count": null,
   "metadata": {},
   "outputs": [],
   "source": [
    "df_merge_tra_dupl[df_merge_tra_dupl['msno']==\"SNlFRAsmUqnXKPofSXA8WYUc5DtmLcUMy4pXSJ3Ohz0=\"].sort_values(by=[\"actual_amount_paid\"]).head(210)"
   ]
  },
  {
   "cell_type": "code",
   "execution_count": null,
   "metadata": {},
   "outputs": [],
   "source": [
    "df_merge_tra_dupl[(df_merge_tra_dupl[\"is_churn\"]==0) & (df_merge_tra_dupl[\"plan_list_price\"]==0)]"
   ]
  },
  {
   "cell_type": "code",
   "execution_count": null,
   "metadata": {},
   "outputs": [],
   "source": [
    "df_merge_tra_dupl[(df_merge_tra_dupl[\"is_churn\"]==0) & (df_merge_tra_dupl[\"plan_list_price\"]==0)][\"msno\"].value_counts()"
   ]
  },
  {
   "cell_type": "code",
   "execution_count": null,
   "metadata": {},
   "outputs": [],
   "source": []
  }
 ],
 "metadata": {
  "kernelspec": {
   "display_name": "Python 3",
   "language": "python",
   "name": "python3"
  },
  "language_info": {
   "codemirror_mode": {
    "name": "ipython",
    "version": 3
   },
   "file_extension": ".py",
   "mimetype": "text/x-python",
   "name": "python",
   "nbconvert_exporter": "python",
   "pygments_lexer": "ipython3",
   "version": "3.8.5"
  }
 },
 "nbformat": 4,
 "nbformat_minor": 4
}

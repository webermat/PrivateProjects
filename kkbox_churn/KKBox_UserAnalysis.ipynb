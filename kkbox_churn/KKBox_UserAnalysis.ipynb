{
 "cells": [
  {
   "cell_type": "markdown",
   "metadata": {},
   "source": [
    "# General remarks from preprocessing stage\n",
    "\n",
    "It has been studied previously, that the membership data, the user log data, and the training member data (including the churn flag) contain no duplicates. Duplicates can be found in the transaction data, those have been removed before aggregating information. The user log data is too large to be dealt with in one go using pandas, due to insufficient memory of my laptop, thus aggregation has to be dealt with in chunks in pandas. All of that has been performed in the DataProcessor_KKBox notebook."
   ]
  },
  {
   "cell_type": "code",
   "execution_count": 20,
   "metadata": {},
   "outputs": [],
   "source": [
    "import numpy as np\n",
    "import pandas as pd\n",
    "import matplotlib.pyplot as plt\n",
    "import math\n",
    "\n",
    "from sklearn import metrics\n",
    "import datetime as dt\n",
    "from sklearn.pipeline import Pipeline\n",
    "from sklearn.linear_model import LinearRegression\n",
    "from sklearn.model_selection import train_test_split\n",
    "from sklearn.model_selection import cross_val_score, cross_val_predict, RandomizedSearchCV, GridSearchCV\n",
    "from sklearn.preprocessing import StandardScaler\n",
    "from sklearn.metrics import classification_report, confusion_matrix, accuracy_score, f1_score\n",
    "\n",
    "import seaborn as sns\n",
    "\n",
    "import plotly.offline as pyoff\n",
    "import plotly.graph_objs as go\n",
    "import plotly.io as pio"
   ]
  },
  {
   "cell_type": "markdown",
   "metadata": {},
   "source": [
    "## User Activity Time Evolution\n",
    "\n",
    "Check activity of users by user logs, since we care about churn as inactivity of 30 days, group the user logs in intervals of 30 days. Churn is in fact defined as no renewal of subscription 30 days after a previous membership has been expired. In fact a membership might be ongoing, but a user shows now activity in terms of songs listened to. But user acitivity in terms of played songs can give us an idea about churn, retained or reactivated active users."
   ]
  },
  {
   "cell_type": "code",
   "execution_count": 2,
   "metadata": {},
   "outputs": [
    {
     "data": {
      "text/html": [
       "<div>\n",
       "<style scoped>\n",
       "    .dataframe tbody tr th:only-of-type {\n",
       "        vertical-align: middle;\n",
       "    }\n",
       "\n",
       "    .dataframe tbody tr th {\n",
       "        vertical-align: top;\n",
       "    }\n",
       "\n",
       "    .dataframe thead th {\n",
       "        text-align: right;\n",
       "    }\n",
       "</style>\n",
       "<table border=\"1\" class=\"dataframe\">\n",
       "  <thead>\n",
       "    <tr style=\"text-align: right;\">\n",
       "      <th></th>\n",
       "      <th>msno</th>\n",
       "      <th>date</th>\n",
       "    </tr>\n",
       "  </thead>\n",
       "  <tbody>\n",
       "    <tr>\n",
       "      <th>0</th>\n",
       "      <td>rxIP2f2aN0rYNp+toI0Obt/N/FYQX8hcO1fTmmy2h34=</td>\n",
       "      <td>2015-05-13</td>\n",
       "    </tr>\n",
       "    <tr>\n",
       "      <th>1</th>\n",
       "      <td>rxIP2f2aN0rYNp+toI0Obt/N/FYQX8hcO1fTmmy2h34=</td>\n",
       "      <td>2015-07-09</td>\n",
       "    </tr>\n",
       "    <tr>\n",
       "      <th>2</th>\n",
       "      <td>yxiEWwE9VR5utpUecLxVdQ5B7NysUPfrNtGINaM2zA8=</td>\n",
       "      <td>2015-01-05</td>\n",
       "    </tr>\n",
       "    <tr>\n",
       "      <th>3</th>\n",
       "      <td>yxiEWwE9VR5utpUecLxVdQ5B7NysUPfrNtGINaM2zA8=</td>\n",
       "      <td>2015-03-06</td>\n",
       "    </tr>\n",
       "    <tr>\n",
       "      <th>4</th>\n",
       "      <td>yxiEWwE9VR5utpUecLxVdQ5B7NysUPfrNtGINaM2zA8=</td>\n",
       "      <td>2015-05-01</td>\n",
       "    </tr>\n",
       "  </tbody>\n",
       "</table>\n",
       "</div>"
      ],
      "text/plain": [
       "                                           msno       date\n",
       "0  rxIP2f2aN0rYNp+toI0Obt/N/FYQX8hcO1fTmmy2h34= 2015-05-13\n",
       "1  rxIP2f2aN0rYNp+toI0Obt/N/FYQX8hcO1fTmmy2h34= 2015-07-09\n",
       "2  yxiEWwE9VR5utpUecLxVdQ5B7NysUPfrNtGINaM2zA8= 2015-01-05\n",
       "3  yxiEWwE9VR5utpUecLxVdQ5B7NysUPfrNtGINaM2zA8= 2015-03-06\n",
       "4  yxiEWwE9VR5utpUecLxVdQ5B7NysUPfrNtGINaM2zA8= 2015-05-01"
      ]
     },
     "execution_count": 2,
     "metadata": {},
     "output_type": "execute_result"
    }
   ],
   "source": [
    "df_ul=pd.read_csv(\"data/user_logs.csv\",usecols=['msno','date'])\n",
    "df_ul[\"date\"]=pd.to_datetime(df_ul[\"date\"], format='%Y%m%d', errors='ignore')\n",
    "df_ul.head()"
   ]
  },
  {
   "cell_type": "code",
   "execution_count": 3,
   "metadata": {},
   "outputs": [
    {
     "data": {
      "text/html": [
       "<div>\n",
       "<style scoped>\n",
       "    .dataframe tbody tr th:only-of-type {\n",
       "        vertical-align: middle;\n",
       "    }\n",
       "\n",
       "    .dataframe tbody tr th {\n",
       "        vertical-align: top;\n",
       "    }\n",
       "\n",
       "    .dataframe thead th {\n",
       "        text-align: right;\n",
       "    }\n",
       "</style>\n",
       "<table border=\"1\" class=\"dataframe\">\n",
       "  <thead>\n",
       "    <tr style=\"text-align: right;\">\n",
       "      <th></th>\n",
       "      <th>msno</th>\n",
       "      <th>date</th>\n",
       "    </tr>\n",
       "  </thead>\n",
       "  <tbody>\n",
       "    <tr>\n",
       "      <th>0</th>\n",
       "      <td>u9E91QDTvHLq6NXjEaWv8u4QIqhrHk72kE+w31Gnhdg=</td>\n",
       "      <td>2017-03-31</td>\n",
       "    </tr>\n",
       "    <tr>\n",
       "      <th>1</th>\n",
       "      <td>nTeWW/eOZA/UHKdD5L7DEqKKFTjaAj3ALLPoAWsU8n0=</td>\n",
       "      <td>2017-03-30</td>\n",
       "    </tr>\n",
       "    <tr>\n",
       "      <th>2</th>\n",
       "      <td>2UqkWXwZbIjs03dHLU9KHJNNEvEkZVzm69f3jCS+uLI=</td>\n",
       "      <td>2017-03-31</td>\n",
       "    </tr>\n",
       "    <tr>\n",
       "      <th>3</th>\n",
       "      <td>ycwLc+m2O0a85jSLALtr941AaZt9ai8Qwlg9n0Nql5U=</td>\n",
       "      <td>2017-03-31</td>\n",
       "    </tr>\n",
       "    <tr>\n",
       "      <th>4</th>\n",
       "      <td>EGcbTofOSOkMmQyN1NMLxHEXJ1yV3t/JdhGwQ9wXjnI=</td>\n",
       "      <td>2017-03-31</td>\n",
       "    </tr>\n",
       "    <tr>\n",
       "      <th>...</th>\n",
       "      <td>...</td>\n",
       "      <td>...</td>\n",
       "    </tr>\n",
       "    <tr>\n",
       "      <th>18396357</th>\n",
       "      <td>FGpiy2mB+vXLKziYRcY/xJcJEFJfRDfUqlU+p760f7E=</td>\n",
       "      <td>2017-03-14</td>\n",
       "    </tr>\n",
       "    <tr>\n",
       "      <th>18396358</th>\n",
       "      <td>iZRjKNMrw5ffEbfXODLhV/0tJLPbOH3am1WYDgqBf8Q=</td>\n",
       "      <td>2017-03-06</td>\n",
       "    </tr>\n",
       "    <tr>\n",
       "      <th>18396359</th>\n",
       "      <td>yztw4Y0EggG0w2wPkbMZx7ke7saSx7dLSfMheHZG/DQ=</td>\n",
       "      <td>2017-03-31</td>\n",
       "    </tr>\n",
       "    <tr>\n",
       "      <th>18396360</th>\n",
       "      <td>swCHwkNx30/aENjq30qqaLlm7bUUytbMXdz1bH7g0Jk=</td>\n",
       "      <td>2017-03-07</td>\n",
       "    </tr>\n",
       "    <tr>\n",
       "      <th>18396361</th>\n",
       "      <td>pDQSIFZchNPmOproRzaNzy51/8yRXzLK3vvDXKzzGLQ=</td>\n",
       "      <td>2017-03-29</td>\n",
       "    </tr>\n",
       "  </tbody>\n",
       "</table>\n",
       "<p>18396362 rows × 2 columns</p>\n",
       "</div>"
      ],
      "text/plain": [
       "                                                  msno       date\n",
       "0         u9E91QDTvHLq6NXjEaWv8u4QIqhrHk72kE+w31Gnhdg= 2017-03-31\n",
       "1         nTeWW/eOZA/UHKdD5L7DEqKKFTjaAj3ALLPoAWsU8n0= 2017-03-30\n",
       "2         2UqkWXwZbIjs03dHLU9KHJNNEvEkZVzm69f3jCS+uLI= 2017-03-31\n",
       "3         ycwLc+m2O0a85jSLALtr941AaZt9ai8Qwlg9n0Nql5U= 2017-03-31\n",
       "4         EGcbTofOSOkMmQyN1NMLxHEXJ1yV3t/JdhGwQ9wXjnI= 2017-03-31\n",
       "...                                                ...        ...\n",
       "18396357  FGpiy2mB+vXLKziYRcY/xJcJEFJfRDfUqlU+p760f7E= 2017-03-14\n",
       "18396358  iZRjKNMrw5ffEbfXODLhV/0tJLPbOH3am1WYDgqBf8Q= 2017-03-06\n",
       "18396359  yztw4Y0EggG0w2wPkbMZx7ke7saSx7dLSfMheHZG/DQ= 2017-03-31\n",
       "18396360  swCHwkNx30/aENjq30qqaLlm7bUUytbMXdz1bH7g0Jk= 2017-03-07\n",
       "18396361  pDQSIFZchNPmOproRzaNzy51/8yRXzLK3vvDXKzzGLQ= 2017-03-29\n",
       "\n",
       "[18396362 rows x 2 columns]"
      ]
     },
     "execution_count": 3,
     "metadata": {},
     "output_type": "execute_result"
    }
   ],
   "source": [
    "df_ul_v2=pd.read_csv(\"data/user_logs_V2.csv\",usecols=['msno','date'])\n",
    "df_ul_v2[\"date\"]=pd.to_datetime(df_ul_v2[\"date\"], format='%Y%m%d', errors='ignore')\n",
    "df_ul_v2"
   ]
  },
  {
   "cell_type": "code",
   "execution_count": 4,
   "metadata": {},
   "outputs": [
    {
     "data": {
      "text/html": [
       "<div>\n",
       "<style scoped>\n",
       "    .dataframe tbody tr th:only-of-type {\n",
       "        vertical-align: middle;\n",
       "    }\n",
       "\n",
       "    .dataframe tbody tr th {\n",
       "        vertical-align: top;\n",
       "    }\n",
       "\n",
       "    .dataframe thead th {\n",
       "        text-align: right;\n",
       "    }\n",
       "</style>\n",
       "<table border=\"1\" class=\"dataframe\">\n",
       "  <thead>\n",
       "    <tr style=\"text-align: right;\">\n",
       "      <th></th>\n",
       "      <th>msno</th>\n",
       "      <th>date</th>\n",
       "    </tr>\n",
       "  </thead>\n",
       "  <tbody>\n",
       "    <tr>\n",
       "      <th>0</th>\n",
       "      <td>rxIP2f2aN0rYNp+toI0Obt/N/FYQX8hcO1fTmmy2h34=</td>\n",
       "      <td>2015-05-13</td>\n",
       "    </tr>\n",
       "    <tr>\n",
       "      <th>1</th>\n",
       "      <td>rxIP2f2aN0rYNp+toI0Obt/N/FYQX8hcO1fTmmy2h34=</td>\n",
       "      <td>2015-07-09</td>\n",
       "    </tr>\n",
       "    <tr>\n",
       "      <th>2</th>\n",
       "      <td>yxiEWwE9VR5utpUecLxVdQ5B7NysUPfrNtGINaM2zA8=</td>\n",
       "      <td>2015-01-05</td>\n",
       "    </tr>\n",
       "    <tr>\n",
       "      <th>3</th>\n",
       "      <td>yxiEWwE9VR5utpUecLxVdQ5B7NysUPfrNtGINaM2zA8=</td>\n",
       "      <td>2015-03-06</td>\n",
       "    </tr>\n",
       "    <tr>\n",
       "      <th>4</th>\n",
       "      <td>yxiEWwE9VR5utpUecLxVdQ5B7NysUPfrNtGINaM2zA8=</td>\n",
       "      <td>2015-05-01</td>\n",
       "    </tr>\n",
       "    <tr>\n",
       "      <th>...</th>\n",
       "      <td>...</td>\n",
       "      <td>...</td>\n",
       "    </tr>\n",
       "    <tr>\n",
       "      <th>18396357</th>\n",
       "      <td>FGpiy2mB+vXLKziYRcY/xJcJEFJfRDfUqlU+p760f7E=</td>\n",
       "      <td>2017-03-14</td>\n",
       "    </tr>\n",
       "    <tr>\n",
       "      <th>18396358</th>\n",
       "      <td>iZRjKNMrw5ffEbfXODLhV/0tJLPbOH3am1WYDgqBf8Q=</td>\n",
       "      <td>2017-03-06</td>\n",
       "    </tr>\n",
       "    <tr>\n",
       "      <th>18396359</th>\n",
       "      <td>yztw4Y0EggG0w2wPkbMZx7ke7saSx7dLSfMheHZG/DQ=</td>\n",
       "      <td>2017-03-31</td>\n",
       "    </tr>\n",
       "    <tr>\n",
       "      <th>18396360</th>\n",
       "      <td>swCHwkNx30/aENjq30qqaLlm7bUUytbMXdz1bH7g0Jk=</td>\n",
       "      <td>2017-03-07</td>\n",
       "    </tr>\n",
       "    <tr>\n",
       "      <th>18396361</th>\n",
       "      <td>pDQSIFZchNPmOproRzaNzy51/8yRXzLK3vvDXKzzGLQ=</td>\n",
       "      <td>2017-03-29</td>\n",
       "    </tr>\n",
       "  </tbody>\n",
       "</table>\n",
       "<p>410502905 rows × 2 columns</p>\n",
       "</div>"
      ],
      "text/plain": [
       "                                                  msno       date\n",
       "0         rxIP2f2aN0rYNp+toI0Obt/N/FYQX8hcO1fTmmy2h34= 2015-05-13\n",
       "1         rxIP2f2aN0rYNp+toI0Obt/N/FYQX8hcO1fTmmy2h34= 2015-07-09\n",
       "2         yxiEWwE9VR5utpUecLxVdQ5B7NysUPfrNtGINaM2zA8= 2015-01-05\n",
       "3         yxiEWwE9VR5utpUecLxVdQ5B7NysUPfrNtGINaM2zA8= 2015-03-06\n",
       "4         yxiEWwE9VR5utpUecLxVdQ5B7NysUPfrNtGINaM2zA8= 2015-05-01\n",
       "...                                                ...        ...\n",
       "18396357  FGpiy2mB+vXLKziYRcY/xJcJEFJfRDfUqlU+p760f7E= 2017-03-14\n",
       "18396358  iZRjKNMrw5ffEbfXODLhV/0tJLPbOH3am1WYDgqBf8Q= 2017-03-06\n",
       "18396359  yztw4Y0EggG0w2wPkbMZx7ke7saSx7dLSfMheHZG/DQ= 2017-03-31\n",
       "18396360  swCHwkNx30/aENjq30qqaLlm7bUUytbMXdz1bH7g0Jk= 2017-03-07\n",
       "18396361  pDQSIFZchNPmOproRzaNzy51/8yRXzLK3vvDXKzzGLQ= 2017-03-29\n",
       "\n",
       "[410502905 rows x 2 columns]"
      ]
     },
     "execution_count": 4,
     "metadata": {},
     "output_type": "execute_result"
    }
   ],
   "source": [
    "df_ul=df_ul.append(df_ul_v2)\n",
    "df_ul"
   ]
  },
  {
   "cell_type": "code",
   "execution_count": 5,
   "metadata": {},
   "outputs": [],
   "source": [
    "min_date=df_ul['date'].min()"
   ]
  },
  {
   "cell_type": "code",
   "execution_count": 6,
   "metadata": {},
   "outputs": [],
   "source": [
    "#df_ul.groupby([\"msno\",pd.Grouper(key=\"date\",freq=\"30D\", origin='2015-01-01')])"
   ]
  },
  {
   "cell_type": "code",
   "execution_count": 7,
   "metadata": {},
   "outputs": [],
   "source": [
    "max_date=df_ul['date'].max()"
   ]
  },
  {
   "cell_type": "markdown",
   "metadata": {},
   "source": [
    "Using the full logging information in terms of active days seems not to work as desired due to high memory consumption while grouping the dates in 30 day intervals, checking on how many days the users had been active. Try now to operate in junks of 180 days, and grouping those per user to reduce the overall load, aka always 6 group periods and then sum up all at the end."
   ]
  },
  {
   "cell_type": "code",
   "execution_count": 8,
   "metadata": {},
   "outputs": [
    {
     "data": {
      "text/plain": [
       "[Timestamp('2015-01-01 00:00:00'),\n",
       " Timestamp('2015-04-01 00:00:00'),\n",
       " Timestamp('2015-06-30 00:00:00'),\n",
       " Timestamp('2015-09-28 00:00:00'),\n",
       " Timestamp('2015-12-27 00:00:00'),\n",
       " Timestamp('2016-03-26 00:00:00'),\n",
       " Timestamp('2016-06-24 00:00:00'),\n",
       " Timestamp('2016-09-22 00:00:00'),\n",
       " Timestamp('2016-12-21 00:00:00'),\n",
       " Timestamp('2017-03-21 00:00:00'),\n",
       " Timestamp('2017-06-19 00:00:00')]"
      ]
     },
     "execution_count": 8,
     "metadata": {},
     "output_type": "execute_result"
    }
   ],
   "source": [
    "day_period=90\n",
    "n_time_periods=math.ceil((max_date-min_date)/dt.timedelta(days=day_period))\n",
    "time_periods=[min_date + i*dt.timedelta(days=day_period) for i in range (0,n_time_periods+1)]\n",
    "time_periods"
   ]
  },
  {
   "cell_type": "code",
   "execution_count": 9,
   "metadata": {},
   "outputs": [
    {
     "name": "stdout",
     "output_type": "stream",
     "text": [
      "address periods 2015-01-01 00:00:00 2015-04-01 00:00:00\n",
      "address periods 2015-04-01 00:00:00 2015-06-30 00:00:00\n",
      "address periods 2015-06-30 00:00:00 2015-09-28 00:00:00\n",
      "address periods 2015-09-28 00:00:00 2015-12-27 00:00:00\n",
      "address periods 2015-12-27 00:00:00 2016-03-26 00:00:00\n",
      "address periods 2016-03-26 00:00:00 2016-06-24 00:00:00\n",
      "address periods 2016-06-24 00:00:00 2016-09-22 00:00:00\n",
      "address periods 2016-09-22 00:00:00 2016-12-21 00:00:00\n",
      "address periods 2016-12-21 00:00:00 2017-03-21 00:00:00\n",
      "address periods 2017-03-21 00:00:00 2017-06-19 00:00:00\n"
     ]
    }
   ],
   "source": [
    "df_activity_per_user_list=[]\n",
    "for tp in range(0,len(time_periods)-1):\n",
    "    print(\"address periods\",time_periods[tp],time_periods[tp+1])\n",
    "    df_ul_in_period=df_ul[(df_ul['date']>=time_periods[tp]) & (df_ul['date']<time_periods[tp+1])].groupby([\"msno\",pd.Grouper(\n",
    "        key=\"date\",freq=\"30D\", origin='2015-01-01')]).agg(\n",
    "        activedays_per_msno=('msno','count')).reset_index()\n",
    "    df_activity_per_user_list.append(df_ul_in_period)"
   ]
  },
  {
   "cell_type": "code",
   "execution_count": 11,
   "metadata": {},
   "outputs": [
    {
     "data": {
      "text/html": [
       "<div>\n",
       "<style scoped>\n",
       "    .dataframe tbody tr th:only-of-type {\n",
       "        vertical-align: middle;\n",
       "    }\n",
       "\n",
       "    .dataframe tbody tr th {\n",
       "        vertical-align: top;\n",
       "    }\n",
       "\n",
       "    .dataframe thead th {\n",
       "        text-align: right;\n",
       "    }\n",
       "</style>\n",
       "<table border=\"1\" class=\"dataframe\">\n",
       "  <thead>\n",
       "    <tr style=\"text-align: right;\">\n",
       "      <th></th>\n",
       "      <th>msno</th>\n",
       "      <th>date</th>\n",
       "      <th>activedays_per_msno</th>\n",
       "    </tr>\n",
       "  </thead>\n",
       "  <tbody>\n",
       "    <tr>\n",
       "      <th>0</th>\n",
       "      <td>+++IZseRRiQS9aaSkH6cMYU6bGDcxUieAi/tH67sC5s=</td>\n",
       "      <td>2015-01-01</td>\n",
       "      <td>20</td>\n",
       "    </tr>\n",
       "    <tr>\n",
       "      <th>1</th>\n",
       "      <td>+++IZseRRiQS9aaSkH6cMYU6bGDcxUieAi/tH67sC5s=</td>\n",
       "      <td>2015-01-31</td>\n",
       "      <td>15</td>\n",
       "    </tr>\n",
       "    <tr>\n",
       "      <th>2</th>\n",
       "      <td>+++IZseRRiQS9aaSkH6cMYU6bGDcxUieAi/tH67sC5s=</td>\n",
       "      <td>2015-03-02</td>\n",
       "      <td>30</td>\n",
       "    </tr>\n",
       "    <tr>\n",
       "      <th>3</th>\n",
       "      <td>+++l/EXNMLTijfLBa8p2TUVVVp2aFGSuUI/h7mLmthw=</td>\n",
       "      <td>2015-01-01</td>\n",
       "      <td>12</td>\n",
       "    </tr>\n",
       "    <tr>\n",
       "      <th>4</th>\n",
       "      <td>+++l/EXNMLTijfLBa8p2TUVVVp2aFGSuUI/h7mLmthw=</td>\n",
       "      <td>2015-01-31</td>\n",
       "      <td>9</td>\n",
       "    </tr>\n",
       "    <tr>\n",
       "      <th>...</th>\n",
       "      <td>...</td>\n",
       "      <td>...</td>\n",
       "      <td>...</td>\n",
       "    </tr>\n",
       "    <tr>\n",
       "      <th>28702517</th>\n",
       "      <td>zzy0oyiTnRTo5Mbg23oKbBkf9eoaS7+eU4V+d14bzfY=</td>\n",
       "      <td>2017-03-21</td>\n",
       "      <td>8</td>\n",
       "    </tr>\n",
       "    <tr>\n",
       "      <th>28702518</th>\n",
       "      <td>zzy7iqSpfcRq7R4hmKKuhI+CJRs79a6pteqEggpiNO0=</td>\n",
       "      <td>2017-03-21</td>\n",
       "      <td>11</td>\n",
       "    </tr>\n",
       "    <tr>\n",
       "      <th>28702519</th>\n",
       "      <td>zzyHq6TK2+cBkeGFUHvh12Z7UxFZiSM7dOOSllSBPDw=</td>\n",
       "      <td>2017-03-21</td>\n",
       "      <td>10</td>\n",
       "    </tr>\n",
       "    <tr>\n",
       "      <th>28702520</th>\n",
       "      <td>zzz1Dc3P9s53HAowRTrm3fNsWju5yeN4YBfNDq7Z99Q=</td>\n",
       "      <td>2017-03-21</td>\n",
       "      <td>5</td>\n",
       "    </tr>\n",
       "    <tr>\n",
       "      <th>28702521</th>\n",
       "      <td>zzzF1KsGfHH3qI6qiSNSXC35UXmVKMVFdxkp7xmDMc0=</td>\n",
       "      <td>2017-03-21</td>\n",
       "      <td>5</td>\n",
       "    </tr>\n",
       "  </tbody>\n",
       "</table>\n",
       "<p>28702522 rows × 3 columns</p>\n",
       "</div>"
      ],
      "text/plain": [
       "                                                  msno       date  \\\n",
       "0         +++IZseRRiQS9aaSkH6cMYU6bGDcxUieAi/tH67sC5s= 2015-01-01   \n",
       "1         +++IZseRRiQS9aaSkH6cMYU6bGDcxUieAi/tH67sC5s= 2015-01-31   \n",
       "2         +++IZseRRiQS9aaSkH6cMYU6bGDcxUieAi/tH67sC5s= 2015-03-02   \n",
       "3         +++l/EXNMLTijfLBa8p2TUVVVp2aFGSuUI/h7mLmthw= 2015-01-01   \n",
       "4         +++l/EXNMLTijfLBa8p2TUVVVp2aFGSuUI/h7mLmthw= 2015-01-31   \n",
       "...                                                ...        ...   \n",
       "28702517  zzy0oyiTnRTo5Mbg23oKbBkf9eoaS7+eU4V+d14bzfY= 2017-03-21   \n",
       "28702518  zzy7iqSpfcRq7R4hmKKuhI+CJRs79a6pteqEggpiNO0= 2017-03-21   \n",
       "28702519  zzyHq6TK2+cBkeGFUHvh12Z7UxFZiSM7dOOSllSBPDw= 2017-03-21   \n",
       "28702520  zzz1Dc3P9s53HAowRTrm3fNsWju5yeN4YBfNDq7Z99Q= 2017-03-21   \n",
       "28702521  zzzF1KsGfHH3qI6qiSNSXC35UXmVKMVFdxkp7xmDMc0= 2017-03-21   \n",
       "\n",
       "          activedays_per_msno  \n",
       "0                          20  \n",
       "1                          15  \n",
       "2                          30  \n",
       "3                          12  \n",
       "4                           9  \n",
       "...                       ...  \n",
       "28702517                    8  \n",
       "28702518                   11  \n",
       "28702519                   10  \n",
       "28702520                    5  \n",
       "28702521                    5  \n",
       "\n",
       "[28702522 rows x 3 columns]"
      ]
     },
     "execution_count": 11,
     "metadata": {},
     "output_type": "execute_result"
    }
   ],
   "source": [
    "large_df_activity_30day_intervalslarge_df_activity_30day_intervalslarge_df_activity_30day_intervals = pd.concat(df_activity_per_user_list, ignore_index=True)\n",
    "large_df_activity_30day_intervals"
   ]
  },
  {
   "cell_type": "code",
   "execution_count": 12,
   "metadata": {},
   "outputs": [
    {
     "data": {
      "text/html": [
       "<div>\n",
       "<style scoped>\n",
       "    .dataframe tbody tr th:only-of-type {\n",
       "        vertical-align: middle;\n",
       "    }\n",
       "\n",
       "    .dataframe tbody tr th {\n",
       "        vertical-align: top;\n",
       "    }\n",
       "\n",
       "    .dataframe thead th {\n",
       "        text-align: right;\n",
       "    }\n",
       "</style>\n",
       "<table border=\"1\" class=\"dataframe\">\n",
       "  <thead>\n",
       "    <tr style=\"text-align: right;\">\n",
       "      <th></th>\n",
       "      <th>msno</th>\n",
       "      <th>2015-01-01</th>\n",
       "      <th>2015-01-31</th>\n",
       "      <th>2015-03-02</th>\n",
       "      <th>2015-04-01</th>\n",
       "      <th>2015-05-01</th>\n",
       "      <th>2015-05-31</th>\n",
       "      <th>2015-06-30</th>\n",
       "      <th>2015-07-30</th>\n",
       "      <th>2015-08-29</th>\n",
       "      <th>...</th>\n",
       "      <th>2016-07-24</th>\n",
       "      <th>2016-08-23</th>\n",
       "      <th>2016-09-22</th>\n",
       "      <th>2016-10-22</th>\n",
       "      <th>2016-11-21</th>\n",
       "      <th>2016-12-21</th>\n",
       "      <th>2017-01-20</th>\n",
       "      <th>2017-02-19</th>\n",
       "      <th>2017-03-21</th>\n",
       "      <th>min_activity_date</th>\n",
       "    </tr>\n",
       "  </thead>\n",
       "  <tbody>\n",
       "    <tr>\n",
       "      <th>0</th>\n",
       "      <td>+++4vcS9aMH7KWdfh5git6nA5fC5jjisd5H/NcM++WM=</td>\n",
       "      <td>0</td>\n",
       "      <td>0</td>\n",
       "      <td>0</td>\n",
       "      <td>1</td>\n",
       "      <td>0</td>\n",
       "      <td>0</td>\n",
       "      <td>0</td>\n",
       "      <td>0</td>\n",
       "      <td>0</td>\n",
       "      <td>...</td>\n",
       "      <td>0</td>\n",
       "      <td>0</td>\n",
       "      <td>0</td>\n",
       "      <td>0</td>\n",
       "      <td>0</td>\n",
       "      <td>0</td>\n",
       "      <td>0</td>\n",
       "      <td>0</td>\n",
       "      <td>0</td>\n",
       "      <td>2015-04-01</td>\n",
       "    </tr>\n",
       "    <tr>\n",
       "      <th>1</th>\n",
       "      <td>+++EI4HgyhgcJHIPXk/VRP7bt17+2joG39T6oEfJ+tc=</td>\n",
       "      <td>0</td>\n",
       "      <td>0</td>\n",
       "      <td>0</td>\n",
       "      <td>0</td>\n",
       "      <td>0</td>\n",
       "      <td>0</td>\n",
       "      <td>0</td>\n",
       "      <td>0</td>\n",
       "      <td>0</td>\n",
       "      <td>...</td>\n",
       "      <td>0</td>\n",
       "      <td>0</td>\n",
       "      <td>0</td>\n",
       "      <td>0</td>\n",
       "      <td>0</td>\n",
       "      <td>0</td>\n",
       "      <td>0</td>\n",
       "      <td>0</td>\n",
       "      <td>0</td>\n",
       "      <td>2016-03-26</td>\n",
       "    </tr>\n",
       "    <tr>\n",
       "      <th>2</th>\n",
       "      <td>+++FOrTS7ab3tIgIh8eWwX4FqRv8w/FoiOuyXsFvphY=</td>\n",
       "      <td>0</td>\n",
       "      <td>0</td>\n",
       "      <td>0</td>\n",
       "      <td>0</td>\n",
       "      <td>0</td>\n",
       "      <td>0</td>\n",
       "      <td>0</td>\n",
       "      <td>0</td>\n",
       "      <td>0</td>\n",
       "      <td>...</td>\n",
       "      <td>0</td>\n",
       "      <td>1</td>\n",
       "      <td>0</td>\n",
       "      <td>0</td>\n",
       "      <td>0</td>\n",
       "      <td>0</td>\n",
       "      <td>0</td>\n",
       "      <td>0</td>\n",
       "      <td>0</td>\n",
       "      <td>2016-08-23</td>\n",
       "    </tr>\n",
       "    <tr>\n",
       "      <th>3</th>\n",
       "      <td>+++IZseRRiQS9aaSkH6cMYU6bGDcxUieAi/tH67sC5s=</td>\n",
       "      <td>1</td>\n",
       "      <td>1</td>\n",
       "      <td>1</td>\n",
       "      <td>1</td>\n",
       "      <td>1</td>\n",
       "      <td>1</td>\n",
       "      <td>1</td>\n",
       "      <td>1</td>\n",
       "      <td>1</td>\n",
       "      <td>...</td>\n",
       "      <td>1</td>\n",
       "      <td>1</td>\n",
       "      <td>1</td>\n",
       "      <td>1</td>\n",
       "      <td>1</td>\n",
       "      <td>1</td>\n",
       "      <td>1</td>\n",
       "      <td>1</td>\n",
       "      <td>1</td>\n",
       "      <td>2015-01-01</td>\n",
       "    </tr>\n",
       "    <tr>\n",
       "      <th>4</th>\n",
       "      <td>+++TipL0Kt3JvgNE9ahuJ8o+drJAnQINtxD4c5GePXI=</td>\n",
       "      <td>0</td>\n",
       "      <td>0</td>\n",
       "      <td>0</td>\n",
       "      <td>0</td>\n",
       "      <td>0</td>\n",
       "      <td>0</td>\n",
       "      <td>0</td>\n",
       "      <td>0</td>\n",
       "      <td>0</td>\n",
       "      <td>...</td>\n",
       "      <td>0</td>\n",
       "      <td>0</td>\n",
       "      <td>0</td>\n",
       "      <td>0</td>\n",
       "      <td>0</td>\n",
       "      <td>0</td>\n",
       "      <td>0</td>\n",
       "      <td>0</td>\n",
       "      <td>0</td>\n",
       "      <td>2015-12-27</td>\n",
       "    </tr>\n",
       "    <tr>\n",
       "      <th>...</th>\n",
       "      <td>...</td>\n",
       "      <td>...</td>\n",
       "      <td>...</td>\n",
       "      <td>...</td>\n",
       "      <td>...</td>\n",
       "      <td>...</td>\n",
       "      <td>...</td>\n",
       "      <td>...</td>\n",
       "      <td>...</td>\n",
       "      <td>...</td>\n",
       "      <td>...</td>\n",
       "      <td>...</td>\n",
       "      <td>...</td>\n",
       "      <td>...</td>\n",
       "      <td>...</td>\n",
       "      <td>...</td>\n",
       "      <td>...</td>\n",
       "      <td>...</td>\n",
       "      <td>...</td>\n",
       "      <td>...</td>\n",
       "      <td>...</td>\n",
       "    </tr>\n",
       "    <tr>\n",
       "      <th>5339417</th>\n",
       "      <td>zzzqx+aMPSFYjW71JqJ6T/hita+iVemVWzJTE4yQRx8=</td>\n",
       "      <td>0</td>\n",
       "      <td>0</td>\n",
       "      <td>0</td>\n",
       "      <td>0</td>\n",
       "      <td>0</td>\n",
       "      <td>0</td>\n",
       "      <td>0</td>\n",
       "      <td>0</td>\n",
       "      <td>0</td>\n",
       "      <td>...</td>\n",
       "      <td>0</td>\n",
       "      <td>0</td>\n",
       "      <td>0</td>\n",
       "      <td>0</td>\n",
       "      <td>0</td>\n",
       "      <td>0</td>\n",
       "      <td>0</td>\n",
       "      <td>0</td>\n",
       "      <td>0</td>\n",
       "      <td>2016-02-25</td>\n",
       "    </tr>\n",
       "    <tr>\n",
       "      <th>5339418</th>\n",
       "      <td>zzztPAN9xjMytpZ0RN2gU9mScDULJnHQZK8eZb4uELU=</td>\n",
       "      <td>1</td>\n",
       "      <td>1</td>\n",
       "      <td>1</td>\n",
       "      <td>1</td>\n",
       "      <td>0</td>\n",
       "      <td>0</td>\n",
       "      <td>0</td>\n",
       "      <td>0</td>\n",
       "      <td>0</td>\n",
       "      <td>...</td>\n",
       "      <td>0</td>\n",
       "      <td>0</td>\n",
       "      <td>0</td>\n",
       "      <td>0</td>\n",
       "      <td>0</td>\n",
       "      <td>0</td>\n",
       "      <td>0</td>\n",
       "      <td>0</td>\n",
       "      <td>0</td>\n",
       "      <td>2015-01-01</td>\n",
       "    </tr>\n",
       "    <tr>\n",
       "      <th>5339419</th>\n",
       "      <td>zzztsqkufVj9DPVJDM3FxDkhlbCL5z4aiYxgPSGkIK4=</td>\n",
       "      <td>0</td>\n",
       "      <td>1</td>\n",
       "      <td>1</td>\n",
       "      <td>1</td>\n",
       "      <td>1</td>\n",
       "      <td>0</td>\n",
       "      <td>0</td>\n",
       "      <td>0</td>\n",
       "      <td>0</td>\n",
       "      <td>...</td>\n",
       "      <td>0</td>\n",
       "      <td>0</td>\n",
       "      <td>0</td>\n",
       "      <td>0</td>\n",
       "      <td>0</td>\n",
       "      <td>0</td>\n",
       "      <td>0</td>\n",
       "      <td>0</td>\n",
       "      <td>0</td>\n",
       "      <td>2015-01-31</td>\n",
       "    </tr>\n",
       "    <tr>\n",
       "      <th>5339420</th>\n",
       "      <td>zzzueVTwIa5TjXnG2c77bohCVkuksqLkd5mQTP0wTwQ=</td>\n",
       "      <td>0</td>\n",
       "      <td>0</td>\n",
       "      <td>0</td>\n",
       "      <td>0</td>\n",
       "      <td>0</td>\n",
       "      <td>0</td>\n",
       "      <td>0</td>\n",
       "      <td>0</td>\n",
       "      <td>0</td>\n",
       "      <td>...</td>\n",
       "      <td>0</td>\n",
       "      <td>0</td>\n",
       "      <td>0</td>\n",
       "      <td>0</td>\n",
       "      <td>0</td>\n",
       "      <td>0</td>\n",
       "      <td>0</td>\n",
       "      <td>1</td>\n",
       "      <td>0</td>\n",
       "      <td>2017-02-19</td>\n",
       "    </tr>\n",
       "    <tr>\n",
       "      <th>5339421</th>\n",
       "      <td>zzzyOgMk9MljCerbCCYrVtvu85aSCiy7yCMjAEgNYMs=</td>\n",
       "      <td>0</td>\n",
       "      <td>0</td>\n",
       "      <td>0</td>\n",
       "      <td>0</td>\n",
       "      <td>0</td>\n",
       "      <td>1</td>\n",
       "      <td>0</td>\n",
       "      <td>0</td>\n",
       "      <td>0</td>\n",
       "      <td>...</td>\n",
       "      <td>0</td>\n",
       "      <td>0</td>\n",
       "      <td>0</td>\n",
       "      <td>0</td>\n",
       "      <td>0</td>\n",
       "      <td>0</td>\n",
       "      <td>0</td>\n",
       "      <td>0</td>\n",
       "      <td>0</td>\n",
       "      <td>2015-05-31</td>\n",
       "    </tr>\n",
       "  </tbody>\n",
       "</table>\n",
       "<p>5339422 rows × 30 columns</p>\n",
       "</div>"
      ],
      "text/plain": [
       "                                                 msno  2015-01-01  2015-01-31  \\\n",
       "0        +++4vcS9aMH7KWdfh5git6nA5fC5jjisd5H/NcM++WM=           0           0   \n",
       "1        +++EI4HgyhgcJHIPXk/VRP7bt17+2joG39T6oEfJ+tc=           0           0   \n",
       "2        +++FOrTS7ab3tIgIh8eWwX4FqRv8w/FoiOuyXsFvphY=           0           0   \n",
       "3        +++IZseRRiQS9aaSkH6cMYU6bGDcxUieAi/tH67sC5s=           1           1   \n",
       "4        +++TipL0Kt3JvgNE9ahuJ8o+drJAnQINtxD4c5GePXI=           0           0   \n",
       "...                                               ...         ...         ...   \n",
       "5339417  zzzqx+aMPSFYjW71JqJ6T/hita+iVemVWzJTE4yQRx8=           0           0   \n",
       "5339418  zzztPAN9xjMytpZ0RN2gU9mScDULJnHQZK8eZb4uELU=           1           1   \n",
       "5339419  zzztsqkufVj9DPVJDM3FxDkhlbCL5z4aiYxgPSGkIK4=           0           1   \n",
       "5339420  zzzueVTwIa5TjXnG2c77bohCVkuksqLkd5mQTP0wTwQ=           0           0   \n",
       "5339421  zzzyOgMk9MljCerbCCYrVtvu85aSCiy7yCMjAEgNYMs=           0           0   \n",
       "\n",
       "         2015-03-02  2015-04-01  2015-05-01  2015-05-31  2015-06-30  \\\n",
       "0                 0           1           0           0           0   \n",
       "1                 0           0           0           0           0   \n",
       "2                 0           0           0           0           0   \n",
       "3                 1           1           1           1           1   \n",
       "4                 0           0           0           0           0   \n",
       "...             ...         ...         ...         ...         ...   \n",
       "5339417           0           0           0           0           0   \n",
       "5339418           1           1           0           0           0   \n",
       "5339419           1           1           1           0           0   \n",
       "5339420           0           0           0           0           0   \n",
       "5339421           0           0           0           1           0   \n",
       "\n",
       "         2015-07-30  2015-08-29  ...  2016-07-24  2016-08-23  2016-09-22  \\\n",
       "0                 0           0  ...           0           0           0   \n",
       "1                 0           0  ...           0           0           0   \n",
       "2                 0           0  ...           0           1           0   \n",
       "3                 1           1  ...           1           1           1   \n",
       "4                 0           0  ...           0           0           0   \n",
       "...             ...         ...  ...         ...         ...         ...   \n",
       "5339417           0           0  ...           0           0           0   \n",
       "5339418           0           0  ...           0           0           0   \n",
       "5339419           0           0  ...           0           0           0   \n",
       "5339420           0           0  ...           0           0           0   \n",
       "5339421           0           0  ...           0           0           0   \n",
       "\n",
       "         2016-10-22  2016-11-21  2016-12-21  2017-01-20  2017-02-19  \\\n",
       "0                 0           0           0           0           0   \n",
       "1                 0           0           0           0           0   \n",
       "2                 0           0           0           0           0   \n",
       "3                 1           1           1           1           1   \n",
       "4                 0           0           0           0           0   \n",
       "...             ...         ...         ...         ...         ...   \n",
       "5339417           0           0           0           0           0   \n",
       "5339418           0           0           0           0           0   \n",
       "5339419           0           0           0           0           0   \n",
       "5339420           0           0           0           0           1   \n",
       "5339421           0           0           0           0           0   \n",
       "\n",
       "         2017-03-21  min_activity_date  \n",
       "0                 0         2015-04-01  \n",
       "1                 0         2016-03-26  \n",
       "2                 0         2016-08-23  \n",
       "3                 1         2015-01-01  \n",
       "4                 0         2015-12-27  \n",
       "...             ...                ...  \n",
       "5339417           0         2016-02-25  \n",
       "5339418           0         2015-01-01  \n",
       "5339419           0         2015-01-31  \n",
       "5339420           0         2017-02-19  \n",
       "5339421           0         2015-05-31  \n",
       "\n",
       "[5339422 rows x 30 columns]"
      ]
     },
     "execution_count": 12,
     "metadata": {},
     "output_type": "execute_result"
    }
   ],
   "source": [
    "df_user_act_retention_30days = pd.crosstab(large_df_activity_30day_intervals['msno'], large_df_activity_30day_intervals['date'].dt.date).reset_index()\n",
    "\n",
    "df_30days_mindate_of_msno = large_df_activity_30day_intervals.groupby('msno')['date'].min().reset_index()\n",
    "df_30days_mindate_of_msno=df_30days_mindate_of_msno.rename(columns={\"date\": \"min_activity_date\"})\n",
    "\n",
    "df_user_act_retention_30days= pd.merge(df_user_act_retention_30days,df_30days_mindate_of_msno,on=\"msno\")\n",
    "df_user_act_retention_30days"
   ]
  },
  {
   "cell_type": "code",
   "execution_count": 13,
   "metadata": {},
   "outputs": [
    {
     "name": "stdout",
     "output_type": "stream",
     "text": [
      "Index([2015-01-01, 2015-01-31, 2015-03-02, 2015-04-01, 2015-05-01, 2015-05-31,\n",
      "       2015-06-30, 2015-07-30, 2015-08-29, 2015-09-28, 2015-10-28, 2015-11-27,\n",
      "       2015-12-27, 2016-01-26, 2016-02-25, 2016-03-26, 2016-04-25, 2016-05-25,\n",
      "       2016-06-24, 2016-07-24, 2016-08-23, 2016-09-22, 2016-10-22, 2016-11-21,\n",
      "       2016-12-21, 2017-01-20, 2017-02-19, 2017-03-21],\n",
      "      dtype='object')\n"
     ]
    }
   ],
   "source": [
    "check_dates_30d = df_user_act_retention_30days.columns[1:-1]\n",
    "print(check_dates_30d)"
   ]
  },
  {
   "cell_type": "code",
   "execution_count": 15,
   "metadata": {},
   "outputs": [],
   "source": [
    "retention_array = []\n",
    "for i in range(len(check_dates_30d)-1):\n",
    "    retention_data = {}\n",
    "    selected_check_date = check_dates_30d[i+1]\n",
    "    prev_check_date = check_dates_30d[i]\n",
    "    retention_data['min_activity_date'] = selected_check_date\n",
    "    retention_data['TotalActiveUserCount'] = df_user_act_retention_30days[selected_check_date].sum()\n",
    "    retention_data['NewUserCount'] = df_user_act_retention_30days[(df_user_act_retention_30days[selected_check_date]>0) & (selected_check_date==df_user_act_retention_30days['min_activity_date'].dt.date)][selected_check_date].sum()\n",
    "    retention_data['RetainedUserCount'] = df_user_act_retention_30days[(df_user_act_retention_30days[selected_check_date]>0) & (df_user_act_retention_30days[prev_check_date]>0)][selected_check_date].sum()\n",
    "    retention_data['InactiveUserCount'] = df_user_act_retention_30days[(df_user_act_retention_30days[selected_check_date]==0) & (df_user_act_retention_30days[prev_check_date]>0)][selected_check_date].count()\n",
    "    #Customers reactivated after at least 1 period of inactivity\n",
    "    retention_data['Reactivated_1Period_PLUS_UserCount'] = df_user_act_retention_30days[(df_user_act_retention_30days[selected_check_date]>0) & (df_user_act_retention_30days[prev_check_date]==0) & (prev_check_date>df_user_act_retention_30days['min_activity_date'].dt.date)][selected_check_date].count()\n",
    "    # Customers reactivated after at least 2 periods of inactivity, we can only check that if we are two periods in\n",
    "    if (i>0):\n",
    "        second_prev_check_date = check_dates_30d[i-1] # if months[i-1].isna() == False else 0\n",
    "        retention_data['Reactivated_2Period_PLUS_UserCount'] = df_user_act_retention_30days[(df_user_act_retention_30days[selected_check_date]>0) & (df_user_act_retention_30days[prev_check_date]==0) & (df_user_act_retention_30days[second_prev_check_date]==0) & (prev_check_date>df_user_act_retention_30days['min_activity_date'].dt.date)][selected_check_date].count()\n",
    "    else:\n",
    "        retention_data['Reactivated_2Period_PLUS_UserCount'] = 0\n",
    "    # Customers reactivated after at least 3 periods of inactivity\n",
    "    if (i>1):\n",
    "        second_prev_check_date = check_dates_30d[i-1] # if months[i-1].isna() == False else 0\n",
    "        third_prev_check_date = check_dates_30d[i-2] # if months[i-2].isna() == False else 0\n",
    "        retention_data['Reactivated_3Period_PLUS_UserCount'] = df_user_act_retention_30days[(df_user_act_retention_30days[selected_check_date]>0) & (df_user_act_retention_30days[prev_check_date]==0) & (df_user_act_retention_30days[second_prev_check_date]==0) & (df_user_act_retention_30days[third_prev_check_date]==0) & (prev_check_date>df_user_act_retention_30days['min_activity_date'].dt.date)][selected_check_date].count()\n",
    "    else:\n",
    "        retention_data['Reactivated_3Period_PLUS_UserCount'] = 0\n",
    "        \n",
    "    # Customers reactivated after at ONLY 1 period of inactivity\n",
    "    if(i==0):\n",
    "        retention_data['Reactivated_1Period_ONLY_UserCount'] = df_user_act_retention_30days[(df_user_act_retention_30days[selected_check_date]>0) & (df_user_act_retention_30days[prev_check_date]==0) &  (prev_check_date>df_user_act_retention_30days['min_activity_date'].dt.date)][selected_check_date].count()\n",
    "    else: \n",
    "        retention_data['Reactivated_1Period_ONLY_UserCount'] = df_user_act_retention_30days[(df_user_act_retention_30days[selected_check_date]>0) & (df_user_act_retention_30days[prev_check_date]==0) & (df_user_act_retention_30days[second_prev_check_date]>0) & (prev_check_date>df_user_act_retention_30days['min_activity_date'].dt.date)][selected_check_date].count() \n",
    "    \n",
    "    # Customers reactivated after at ONLY 2 periods of inactivity\n",
    "    if(i>0):\n",
    "        second_prev_check_date = check_dates_30d[i-1] # if months[i-1].isna() == False else 0\n",
    "        retention_data['Reactivated_2Period_ONLY_UserCount'] = df_user_act_retention_30days[(df_user_act_retention_30days[selected_check_date]>0) & (df_user_act_retention_30days[prev_check_date]==0) & (df_user_act_retention_30days[second_prev_check_date]==0) & (df_user_act_retention_30days[third_prev_check_date]>0) & (prev_check_date>df_user_act_retention_30days['min_activity_date'].dt.date)][selected_check_date].count()\n",
    "    else:\n",
    "        retention_data['Reactivated_2Period_ONLY_UserCount'] = 0\n",
    "    # Customers reactivated after at ONLY 3 periods of inactivity\n",
    "    third_prev_check_date = check_dates_30d[i-2] # if months[i-2].isna() == False else 0\n",
    "    if(i>2):\n",
    "        second_prev_check_date = check_dates_30d[i-1] # if months[i-1].isna() == False else 0\n",
    "        fourth_prev_check_date = check_dates_30d[i-3] # if months[i-2].isna() == False else 0\n",
    "        third_prev_check_date = check_dates_30d[i-2] # if months[i-2].isna() == False else 0\n",
    "        retention_data['Reactivated_3Period_ONLY_UserCount'] = df_user_act_retention_30days[(df_user_act_retention_30days[selected_check_date]>0) & (df_user_act_retention_30days[prev_check_date]==0) & (df_user_act_retention_30days[second_prev_check_date]==0) & (df_user_act_retention_30days[third_prev_check_date]==0) & (prev_check_date>df_user_act_retention_30days['min_activity_date'].dt.date)][selected_check_date].count()\n",
    "    else:\n",
    "        retention_data['Reactivated_3Period_ONLY_UserCount'] = 0\n",
    "    retention_array.append(retention_data)"
   ]
  },
  {
   "cell_type": "code",
   "execution_count": 16,
   "metadata": {},
   "outputs": [
    {
     "data": {
      "text/html": [
       "<div>\n",
       "<style scoped>\n",
       "    .dataframe tbody tr th:only-of-type {\n",
       "        vertical-align: middle;\n",
       "    }\n",
       "\n",
       "    .dataframe tbody tr th {\n",
       "        vertical-align: top;\n",
       "    }\n",
       "\n",
       "    .dataframe thead th {\n",
       "        text-align: right;\n",
       "    }\n",
       "</style>\n",
       "<table border=\"1\" class=\"dataframe\">\n",
       "  <thead>\n",
       "    <tr style=\"text-align: right;\">\n",
       "      <th></th>\n",
       "      <th>min_activity_date</th>\n",
       "      <th>TotalActiveUserCount</th>\n",
       "      <th>NewUserCount</th>\n",
       "      <th>RetainedUserCount</th>\n",
       "      <th>InactiveUserCount</th>\n",
       "      <th>Reactivated_1Period_PLUS_UserCount</th>\n",
       "      <th>Reactivated_2Period_PLUS_UserCount</th>\n",
       "      <th>Reactivated_3Period_PLUS_UserCount</th>\n",
       "      <th>Reactivated_1Period_ONLY_UserCount</th>\n",
       "      <th>Reactivated_2Period_ONLY_UserCount</th>\n",
       "      <th>Reactivated_3Period_ONLY_UserCount</th>\n",
       "      <th>TotalActiveUserCount_prevPeriod</th>\n",
       "      <th>ActiveUserRate</th>\n",
       "      <th>NewUserRate</th>\n",
       "      <th>RetainedUserRate</th>\n",
       "      <th>ChurnRate</th>\n",
       "      <th>ReactivationRate</th>\n",
       "    </tr>\n",
       "  </thead>\n",
       "  <tbody>\n",
       "    <tr>\n",
       "      <th>0</th>\n",
       "      <td>2015-01-31</td>\n",
       "      <td>948986</td>\n",
       "      <td>210603</td>\n",
       "      <td>738383</td>\n",
       "      <td>191354</td>\n",
       "      <td>0</td>\n",
       "      <td>0</td>\n",
       "      <td>0</td>\n",
       "      <td>0</td>\n",
       "      <td>0</td>\n",
       "      <td>0</td>\n",
       "      <td>NaN</td>\n",
       "      <td>NaN</td>\n",
       "      <td>NaN</td>\n",
       "      <td>NaN</td>\n",
       "      <td>NaN</td>\n",
       "      <td>NaN</td>\n",
       "    </tr>\n",
       "    <tr>\n",
       "      <th>1</th>\n",
       "      <td>2015-03-02</td>\n",
       "      <td>936596</td>\n",
       "      <td>172092</td>\n",
       "      <td>739768</td>\n",
       "      <td>209218</td>\n",
       "      <td>24736</td>\n",
       "      <td>0</td>\n",
       "      <td>0</td>\n",
       "      <td>24736</td>\n",
       "      <td>0</td>\n",
       "      <td>0</td>\n",
       "      <td>948986.0</td>\n",
       "      <td>0.986944</td>\n",
       "      <td>0.181343</td>\n",
       "      <td>0.779535</td>\n",
       "      <td>0.220465</td>\n",
       "      <td>0.026066</td>\n",
       "    </tr>\n",
       "    <tr>\n",
       "      <th>2</th>\n",
       "      <td>2015-04-01</td>\n",
       "      <td>939930</td>\n",
       "      <td>145035</td>\n",
       "      <td>751170</td>\n",
       "      <td>185426</td>\n",
       "      <td>43725</td>\n",
       "      <td>13984</td>\n",
       "      <td>0</td>\n",
       "      <td>29741</td>\n",
       "      <td>13984</td>\n",
       "      <td>0</td>\n",
       "      <td>936596.0</td>\n",
       "      <td>1.003560</td>\n",
       "      <td>0.154853</td>\n",
       "      <td>0.802021</td>\n",
       "      <td>0.197979</td>\n",
       "      <td>0.046685</td>\n",
       "    </tr>\n",
       "    <tr>\n",
       "      <th>3</th>\n",
       "      <td>2015-05-01</td>\n",
       "      <td>917844</td>\n",
       "      <td>118848</td>\n",
       "      <td>754980</td>\n",
       "      <td>184950</td>\n",
       "      <td>44016</td>\n",
       "      <td>19584</td>\n",
       "      <td>6842</td>\n",
       "      <td>24432</td>\n",
       "      <td>12742</td>\n",
       "      <td>6842</td>\n",
       "      <td>939930.0</td>\n",
       "      <td>0.976503</td>\n",
       "      <td>0.126443</td>\n",
       "      <td>0.803230</td>\n",
       "      <td>0.196770</td>\n",
       "      <td>0.046829</td>\n",
       "    </tr>\n",
       "    <tr>\n",
       "      <th>4</th>\n",
       "      <td>2015-05-31</td>\n",
       "      <td>918345</td>\n",
       "      <td>116150</td>\n",
       "      <td>751769</td>\n",
       "      <td>166075</td>\n",
       "      <td>50426</td>\n",
       "      <td>23933</td>\n",
       "      <td>12765</td>\n",
       "      <td>26493</td>\n",
       "      <td>11168</td>\n",
       "      <td>12765</td>\n",
       "      <td>917844.0</td>\n",
       "      <td>1.000546</td>\n",
       "      <td>0.126547</td>\n",
       "      <td>0.819060</td>\n",
       "      <td>0.180940</td>\n",
       "      <td>0.054940</td>\n",
       "    </tr>\n",
       "    <tr>\n",
       "      <th>5</th>\n",
       "      <td>2015-06-30</td>\n",
       "      <td>866356</td>\n",
       "      <td>119409</td>\n",
       "      <td>713611</td>\n",
       "      <td>204734</td>\n",
       "      <td>33336</td>\n",
       "      <td>15762</td>\n",
       "      <td>8462</td>\n",
       "      <td>17574</td>\n",
       "      <td>7300</td>\n",
       "      <td>8462</td>\n",
       "      <td>918345.0</td>\n",
       "      <td>0.943388</td>\n",
       "      <td>0.130026</td>\n",
       "      <td>0.777062</td>\n",
       "      <td>0.222938</td>\n",
       "      <td>0.036300</td>\n",
       "    </tr>\n",
       "    <tr>\n",
       "      <th>6</th>\n",
       "      <td>2015-07-30</td>\n",
       "      <td>907676</td>\n",
       "      <td>167353</td>\n",
       "      <td>703728</td>\n",
       "      <td>162628</td>\n",
       "      <td>36595</td>\n",
       "      <td>17419</td>\n",
       "      <td>10249</td>\n",
       "      <td>19176</td>\n",
       "      <td>7170</td>\n",
       "      <td>10249</td>\n",
       "      <td>866356.0</td>\n",
       "      <td>1.047694</td>\n",
       "      <td>0.193169</td>\n",
       "      <td>0.812285</td>\n",
       "      <td>0.187715</td>\n",
       "      <td>0.042240</td>\n",
       "    </tr>\n",
       "    <tr>\n",
       "      <th>7</th>\n",
       "      <td>2015-08-29</td>\n",
       "      <td>907009</td>\n",
       "      <td>137981</td>\n",
       "      <td>730609</td>\n",
       "      <td>177067</td>\n",
       "      <td>38419</td>\n",
       "      <td>20697</td>\n",
       "      <td>11783</td>\n",
       "      <td>17722</td>\n",
       "      <td>8914</td>\n",
       "      <td>11783</td>\n",
       "      <td>907676.0</td>\n",
       "      <td>0.999265</td>\n",
       "      <td>0.152016</td>\n",
       "      <td>0.804923</td>\n",
       "      <td>0.195077</td>\n",
       "      <td>0.042327</td>\n",
       "    </tr>\n",
       "    <tr>\n",
       "      <th>8</th>\n",
       "      <td>2015-09-28</td>\n",
       "      <td>992513</td>\n",
       "      <td>214981</td>\n",
       "      <td>742114</td>\n",
       "      <td>164895</td>\n",
       "      <td>35418</td>\n",
       "      <td>20591</td>\n",
       "      <td>13955</td>\n",
       "      <td>14827</td>\n",
       "      <td>6636</td>\n",
       "      <td>13955</td>\n",
       "      <td>907009.0</td>\n",
       "      <td>1.094270</td>\n",
       "      <td>0.237022</td>\n",
       "      <td>0.818199</td>\n",
       "      <td>0.181801</td>\n",
       "      <td>0.039049</td>\n",
       "    </tr>\n",
       "    <tr>\n",
       "      <th>9</th>\n",
       "      <td>2015-10-28</td>\n",
       "      <td>1039647</td>\n",
       "      <td>242735</td>\n",
       "      <td>761638</td>\n",
       "      <td>230875</td>\n",
       "      <td>35274</td>\n",
       "      <td>20192</td>\n",
       "      <td>14093</td>\n",
       "      <td>15082</td>\n",
       "      <td>6099</td>\n",
       "      <td>14093</td>\n",
       "      <td>992513.0</td>\n",
       "      <td>1.047490</td>\n",
       "      <td>0.244566</td>\n",
       "      <td>0.767383</td>\n",
       "      <td>0.232617</td>\n",
       "      <td>0.035540</td>\n",
       "    </tr>\n",
       "    <tr>\n",
       "      <th>10</th>\n",
       "      <td>2015-11-27</td>\n",
       "      <td>1031767</td>\n",
       "      <td>216285</td>\n",
       "      <td>778852</td>\n",
       "      <td>260795</td>\n",
       "      <td>36630</td>\n",
       "      <td>20411</td>\n",
       "      <td>14428</td>\n",
       "      <td>16219</td>\n",
       "      <td>5983</td>\n",
       "      <td>14428</td>\n",
       "      <td>1039647.0</td>\n",
       "      <td>0.992421</td>\n",
       "      <td>0.208037</td>\n",
       "      <td>0.749150</td>\n",
       "      <td>0.250850</td>\n",
       "      <td>0.035233</td>\n",
       "    </tr>\n",
       "    <tr>\n",
       "      <th>11</th>\n",
       "      <td>2015-12-27</td>\n",
       "      <td>1063238</td>\n",
       "      <td>230213</td>\n",
       "      <td>795314</td>\n",
       "      <td>236453</td>\n",
       "      <td>37711</td>\n",
       "      <td>21600</td>\n",
       "      <td>14885</td>\n",
       "      <td>16111</td>\n",
       "      <td>6715</td>\n",
       "      <td>14885</td>\n",
       "      <td>1031767.0</td>\n",
       "      <td>1.030502</td>\n",
       "      <td>0.223125</td>\n",
       "      <td>0.770827</td>\n",
       "      <td>0.229173</td>\n",
       "      <td>0.036550</td>\n",
       "    </tr>\n",
       "    <tr>\n",
       "      <th>12</th>\n",
       "      <td>2016-01-26</td>\n",
       "      <td>1048244</td>\n",
       "      <td>209721</td>\n",
       "      <td>802637</td>\n",
       "      <td>260601</td>\n",
       "      <td>35886</td>\n",
       "      <td>20966</td>\n",
       "      <td>14790</td>\n",
       "      <td>14920</td>\n",
       "      <td>6176</td>\n",
       "      <td>14790</td>\n",
       "      <td>1063238.0</td>\n",
       "      <td>0.985898</td>\n",
       "      <td>0.197247</td>\n",
       "      <td>0.754899</td>\n",
       "      <td>0.245101</td>\n",
       "      <td>0.033752</td>\n",
       "    </tr>\n",
       "    <tr>\n",
       "      <th>13</th>\n",
       "      <td>2016-02-25</td>\n",
       "      <td>1046477</td>\n",
       "      <td>185783</td>\n",
       "      <td>822741</td>\n",
       "      <td>225503</td>\n",
       "      <td>37953</td>\n",
       "      <td>21521</td>\n",
       "      <td>15713</td>\n",
       "      <td>16432</td>\n",
       "      <td>5808</td>\n",
       "      <td>15713</td>\n",
       "      <td>1048244.0</td>\n",
       "      <td>0.998314</td>\n",
       "      <td>0.177233</td>\n",
       "      <td>0.784875</td>\n",
       "      <td>0.215125</td>\n",
       "      <td>0.036206</td>\n",
       "    </tr>\n",
       "    <tr>\n",
       "      <th>14</th>\n",
       "      <td>2016-03-26</td>\n",
       "      <td>1044692</td>\n",
       "      <td>168665</td>\n",
       "      <td>839002</td>\n",
       "      <td>207475</td>\n",
       "      <td>37025</td>\n",
       "      <td>20865</td>\n",
       "      <td>14521</td>\n",
       "      <td>16160</td>\n",
       "      <td>6344</td>\n",
       "      <td>14521</td>\n",
       "      <td>1046477.0</td>\n",
       "      <td>0.998294</td>\n",
       "      <td>0.161174</td>\n",
       "      <td>0.801740</td>\n",
       "      <td>0.198260</td>\n",
       "      <td>0.035381</td>\n",
       "    </tr>\n",
       "    <tr>\n",
       "      <th>15</th>\n",
       "      <td>2016-04-25</td>\n",
       "      <td>1044244</td>\n",
       "      <td>161749</td>\n",
       "      <td>846807</td>\n",
       "      <td>197885</td>\n",
       "      <td>35688</td>\n",
       "      <td>20284</td>\n",
       "      <td>14084</td>\n",
       "      <td>15404</td>\n",
       "      <td>6200</td>\n",
       "      <td>14084</td>\n",
       "      <td>1044692.0</td>\n",
       "      <td>0.999571</td>\n",
       "      <td>0.154829</td>\n",
       "      <td>0.810581</td>\n",
       "      <td>0.189419</td>\n",
       "      <td>0.034161</td>\n",
       "    </tr>\n",
       "    <tr>\n",
       "      <th>16</th>\n",
       "      <td>2016-05-25</td>\n",
       "      <td>1067073</td>\n",
       "      <td>173835</td>\n",
       "      <td>855201</td>\n",
       "      <td>189043</td>\n",
       "      <td>38037</td>\n",
       "      <td>21461</td>\n",
       "      <td>14886</td>\n",
       "      <td>16576</td>\n",
       "      <td>6575</td>\n",
       "      <td>14886</td>\n",
       "      <td>1044244.0</td>\n",
       "      <td>1.021862</td>\n",
       "      <td>0.166470</td>\n",
       "      <td>0.818967</td>\n",
       "      <td>0.181033</td>\n",
       "      <td>0.036425</td>\n",
       "    </tr>\n",
       "    <tr>\n",
       "      <th>17</th>\n",
       "      <td>2016-06-24</td>\n",
       "      <td>1097448</td>\n",
       "      <td>183561</td>\n",
       "      <td>869337</td>\n",
       "      <td>197736</td>\n",
       "      <td>44550</td>\n",
       "      <td>29303</td>\n",
       "      <td>22782</td>\n",
       "      <td>15247</td>\n",
       "      <td>6521</td>\n",
       "      <td>22782</td>\n",
       "      <td>1067073.0</td>\n",
       "      <td>1.028466</td>\n",
       "      <td>0.172023</td>\n",
       "      <td>0.814693</td>\n",
       "      <td>0.185307</td>\n",
       "      <td>0.041750</td>\n",
       "    </tr>\n",
       "    <tr>\n",
       "      <th>18</th>\n",
       "      <td>2016-07-24</td>\n",
       "      <td>1091889</td>\n",
       "      <td>169572</td>\n",
       "      <td>885113</td>\n",
       "      <td>212335</td>\n",
       "      <td>37204</td>\n",
       "      <td>21696</td>\n",
       "      <td>15698</td>\n",
       "      <td>15508</td>\n",
       "      <td>5998</td>\n",
       "      <td>15698</td>\n",
       "      <td>1097448.0</td>\n",
       "      <td>0.994935</td>\n",
       "      <td>0.154515</td>\n",
       "      <td>0.806519</td>\n",
       "      <td>0.193481</td>\n",
       "      <td>0.033900</td>\n",
       "    </tr>\n",
       "    <tr>\n",
       "      <th>19</th>\n",
       "      <td>2016-08-23</td>\n",
       "      <td>1114358</td>\n",
       "      <td>161304</td>\n",
       "      <td>895876</td>\n",
       "      <td>196013</td>\n",
       "      <td>57178</td>\n",
       "      <td>38752</td>\n",
       "      <td>30510</td>\n",
       "      <td>18426</td>\n",
       "      <td>8242</td>\n",
       "      <td>30510</td>\n",
       "      <td>1091889.0</td>\n",
       "      <td>1.020578</td>\n",
       "      <td>0.147729</td>\n",
       "      <td>0.820483</td>\n",
       "      <td>0.179517</td>\n",
       "      <td>0.052366</td>\n",
       "    </tr>\n",
       "    <tr>\n",
       "      <th>20</th>\n",
       "      <td>2016-09-22</td>\n",
       "      <td>1100099</td>\n",
       "      <td>152688</td>\n",
       "      <td>904822</td>\n",
       "      <td>209536</td>\n",
       "      <td>42589</td>\n",
       "      <td>25431</td>\n",
       "      <td>18237</td>\n",
       "      <td>17158</td>\n",
       "      <td>7194</td>\n",
       "      <td>18237</td>\n",
       "      <td>1114358.0</td>\n",
       "      <td>0.987204</td>\n",
       "      <td>0.137019</td>\n",
       "      <td>0.811967</td>\n",
       "      <td>0.188033</td>\n",
       "      <td>0.038218</td>\n",
       "    </tr>\n",
       "    <tr>\n",
       "      <th>21</th>\n",
       "      <td>2016-10-22</td>\n",
       "      <td>1183203</td>\n",
       "      <td>178202</td>\n",
       "      <td>913910</td>\n",
       "      <td>186189</td>\n",
       "      <td>91091</td>\n",
       "      <td>67175</td>\n",
       "      <td>55188</td>\n",
       "      <td>23916</td>\n",
       "      <td>11987</td>\n",
       "      <td>55188</td>\n",
       "      <td>1100099.0</td>\n",
       "      <td>1.075542</td>\n",
       "      <td>0.161987</td>\n",
       "      <td>0.830753</td>\n",
       "      <td>0.169247</td>\n",
       "      <td>0.082803</td>\n",
       "    </tr>\n",
       "    <tr>\n",
       "      <th>22</th>\n",
       "      <td>2016-11-21</td>\n",
       "      <td>1139352</td>\n",
       "      <td>143927</td>\n",
       "      <td>941372</td>\n",
       "      <td>241831</td>\n",
       "      <td>54053</td>\n",
       "      <td>37048</td>\n",
       "      <td>26157</td>\n",
       "      <td>17005</td>\n",
       "      <td>10891</td>\n",
       "      <td>26157</td>\n",
       "      <td>1183203.0</td>\n",
       "      <td>0.962939</td>\n",
       "      <td>0.121642</td>\n",
       "      <td>0.795613</td>\n",
       "      <td>0.204387</td>\n",
       "      <td>0.045684</td>\n",
       "    </tr>\n",
       "    <tr>\n",
       "      <th>23</th>\n",
       "      <td>2016-12-21</td>\n",
       "      <td>1118958</td>\n",
       "      <td>134682</td>\n",
       "      <td>936094</td>\n",
       "      <td>203258</td>\n",
       "      <td>48182</td>\n",
       "      <td>27441</td>\n",
       "      <td>20138</td>\n",
       "      <td>20741</td>\n",
       "      <td>7303</td>\n",
       "      <td>20138</td>\n",
       "      <td>1139352.0</td>\n",
       "      <td>0.982100</td>\n",
       "      <td>0.118209</td>\n",
       "      <td>0.821602</td>\n",
       "      <td>0.178398</td>\n",
       "      <td>0.042289</td>\n",
       "    </tr>\n",
       "    <tr>\n",
       "      <th>24</th>\n",
       "      <td>2017-01-20</td>\n",
       "      <td>1131298</td>\n",
       "      <td>143272</td>\n",
       "      <td>943138</td>\n",
       "      <td>175820</td>\n",
       "      <td>44888</td>\n",
       "      <td>27931</td>\n",
       "      <td>19571</td>\n",
       "      <td>16957</td>\n",
       "      <td>8360</td>\n",
       "      <td>19571</td>\n",
       "      <td>1118958.0</td>\n",
       "      <td>1.011028</td>\n",
       "      <td>0.128041</td>\n",
       "      <td>0.842872</td>\n",
       "      <td>0.157128</td>\n",
       "      <td>0.040116</td>\n",
       "    </tr>\n",
       "    <tr>\n",
       "      <th>25</th>\n",
       "      <td>2017-02-19</td>\n",
       "      <td>1120778</td>\n",
       "      <td>125589</td>\n",
       "      <td>954398</td>\n",
       "      <td>176900</td>\n",
       "      <td>40791</td>\n",
       "      <td>24108</td>\n",
       "      <td>17910</td>\n",
       "      <td>16683</td>\n",
       "      <td>6198</td>\n",
       "      <td>17910</td>\n",
       "      <td>1131298.0</td>\n",
       "      <td>0.990701</td>\n",
       "      <td>0.111013</td>\n",
       "      <td>0.843631</td>\n",
       "      <td>0.156369</td>\n",
       "      <td>0.036057</td>\n",
       "    </tr>\n",
       "    <tr>\n",
       "      <th>26</th>\n",
       "      <td>2017-03-21</td>\n",
       "      <td>954765</td>\n",
       "      <td>25450</td>\n",
       "      <td>910990</td>\n",
       "      <td>209788</td>\n",
       "      <td>18325</td>\n",
       "      <td>9630</td>\n",
       "      <td>6791</td>\n",
       "      <td>8695</td>\n",
       "      <td>2839</td>\n",
       "      <td>6791</td>\n",
       "      <td>1120778.0</td>\n",
       "      <td>0.851877</td>\n",
       "      <td>0.022707</td>\n",
       "      <td>0.812819</td>\n",
       "      <td>0.187181</td>\n",
       "      <td>0.016350</td>\n",
       "    </tr>\n",
       "  </tbody>\n",
       "</table>\n",
       "</div>"
      ],
      "text/plain": [
       "   min_activity_date  TotalActiveUserCount  NewUserCount  RetainedUserCount  \\\n",
       "0         2015-01-31                948986        210603             738383   \n",
       "1         2015-03-02                936596        172092             739768   \n",
       "2         2015-04-01                939930        145035             751170   \n",
       "3         2015-05-01                917844        118848             754980   \n",
       "4         2015-05-31                918345        116150             751769   \n",
       "5         2015-06-30                866356        119409             713611   \n",
       "6         2015-07-30                907676        167353             703728   \n",
       "7         2015-08-29                907009        137981             730609   \n",
       "8         2015-09-28                992513        214981             742114   \n",
       "9         2015-10-28               1039647        242735             761638   \n",
       "10        2015-11-27               1031767        216285             778852   \n",
       "11        2015-12-27               1063238        230213             795314   \n",
       "12        2016-01-26               1048244        209721             802637   \n",
       "13        2016-02-25               1046477        185783             822741   \n",
       "14        2016-03-26               1044692        168665             839002   \n",
       "15        2016-04-25               1044244        161749             846807   \n",
       "16        2016-05-25               1067073        173835             855201   \n",
       "17        2016-06-24               1097448        183561             869337   \n",
       "18        2016-07-24               1091889        169572             885113   \n",
       "19        2016-08-23               1114358        161304             895876   \n",
       "20        2016-09-22               1100099        152688             904822   \n",
       "21        2016-10-22               1183203        178202             913910   \n",
       "22        2016-11-21               1139352        143927             941372   \n",
       "23        2016-12-21               1118958        134682             936094   \n",
       "24        2017-01-20               1131298        143272             943138   \n",
       "25        2017-02-19               1120778        125589             954398   \n",
       "26        2017-03-21                954765         25450             910990   \n",
       "\n",
       "    InactiveUserCount  Reactivated_1Period_PLUS_UserCount  \\\n",
       "0              191354                                   0   \n",
       "1              209218                               24736   \n",
       "2              185426                               43725   \n",
       "3              184950                               44016   \n",
       "4              166075                               50426   \n",
       "5              204734                               33336   \n",
       "6              162628                               36595   \n",
       "7              177067                               38419   \n",
       "8              164895                               35418   \n",
       "9              230875                               35274   \n",
       "10             260795                               36630   \n",
       "11             236453                               37711   \n",
       "12             260601                               35886   \n",
       "13             225503                               37953   \n",
       "14             207475                               37025   \n",
       "15             197885                               35688   \n",
       "16             189043                               38037   \n",
       "17             197736                               44550   \n",
       "18             212335                               37204   \n",
       "19             196013                               57178   \n",
       "20             209536                               42589   \n",
       "21             186189                               91091   \n",
       "22             241831                               54053   \n",
       "23             203258                               48182   \n",
       "24             175820                               44888   \n",
       "25             176900                               40791   \n",
       "26             209788                               18325   \n",
       "\n",
       "    Reactivated_2Period_PLUS_UserCount  Reactivated_3Period_PLUS_UserCount  \\\n",
       "0                                    0                                   0   \n",
       "1                                    0                                   0   \n",
       "2                                13984                                   0   \n",
       "3                                19584                                6842   \n",
       "4                                23933                               12765   \n",
       "5                                15762                                8462   \n",
       "6                                17419                               10249   \n",
       "7                                20697                               11783   \n",
       "8                                20591                               13955   \n",
       "9                                20192                               14093   \n",
       "10                               20411                               14428   \n",
       "11                               21600                               14885   \n",
       "12                               20966                               14790   \n",
       "13                               21521                               15713   \n",
       "14                               20865                               14521   \n",
       "15                               20284                               14084   \n",
       "16                               21461                               14886   \n",
       "17                               29303                               22782   \n",
       "18                               21696                               15698   \n",
       "19                               38752                               30510   \n",
       "20                               25431                               18237   \n",
       "21                               67175                               55188   \n",
       "22                               37048                               26157   \n",
       "23                               27441                               20138   \n",
       "24                               27931                               19571   \n",
       "25                               24108                               17910   \n",
       "26                                9630                                6791   \n",
       "\n",
       "    Reactivated_1Period_ONLY_UserCount  Reactivated_2Period_ONLY_UserCount  \\\n",
       "0                                    0                                   0   \n",
       "1                                24736                                   0   \n",
       "2                                29741                               13984   \n",
       "3                                24432                               12742   \n",
       "4                                26493                               11168   \n",
       "5                                17574                                7300   \n",
       "6                                19176                                7170   \n",
       "7                                17722                                8914   \n",
       "8                                14827                                6636   \n",
       "9                                15082                                6099   \n",
       "10                               16219                                5983   \n",
       "11                               16111                                6715   \n",
       "12                               14920                                6176   \n",
       "13                               16432                                5808   \n",
       "14                               16160                                6344   \n",
       "15                               15404                                6200   \n",
       "16                               16576                                6575   \n",
       "17                               15247                                6521   \n",
       "18                               15508                                5998   \n",
       "19                               18426                                8242   \n",
       "20                               17158                                7194   \n",
       "21                               23916                               11987   \n",
       "22                               17005                               10891   \n",
       "23                               20741                                7303   \n",
       "24                               16957                                8360   \n",
       "25                               16683                                6198   \n",
       "26                                8695                                2839   \n",
       "\n",
       "    Reactivated_3Period_ONLY_UserCount  TotalActiveUserCount_prevPeriod  \\\n",
       "0                                    0                              NaN   \n",
       "1                                    0                         948986.0   \n",
       "2                                    0                         936596.0   \n",
       "3                                 6842                         939930.0   \n",
       "4                                12765                         917844.0   \n",
       "5                                 8462                         918345.0   \n",
       "6                                10249                         866356.0   \n",
       "7                                11783                         907676.0   \n",
       "8                                13955                         907009.0   \n",
       "9                                14093                         992513.0   \n",
       "10                               14428                        1039647.0   \n",
       "11                               14885                        1031767.0   \n",
       "12                               14790                        1063238.0   \n",
       "13                               15713                        1048244.0   \n",
       "14                               14521                        1046477.0   \n",
       "15                               14084                        1044692.0   \n",
       "16                               14886                        1044244.0   \n",
       "17                               22782                        1067073.0   \n",
       "18                               15698                        1097448.0   \n",
       "19                               30510                        1091889.0   \n",
       "20                               18237                        1114358.0   \n",
       "21                               55188                        1100099.0   \n",
       "22                               26157                        1183203.0   \n",
       "23                               20138                        1139352.0   \n",
       "24                               19571                        1118958.0   \n",
       "25                               17910                        1131298.0   \n",
       "26                                6791                        1120778.0   \n",
       "\n",
       "    ActiveUserRate  NewUserRate  RetainedUserRate  ChurnRate  ReactivationRate  \n",
       "0              NaN          NaN               NaN        NaN               NaN  \n",
       "1         0.986944     0.181343          0.779535   0.220465          0.026066  \n",
       "2         1.003560     0.154853          0.802021   0.197979          0.046685  \n",
       "3         0.976503     0.126443          0.803230   0.196770          0.046829  \n",
       "4         1.000546     0.126547          0.819060   0.180940          0.054940  \n",
       "5         0.943388     0.130026          0.777062   0.222938          0.036300  \n",
       "6         1.047694     0.193169          0.812285   0.187715          0.042240  \n",
       "7         0.999265     0.152016          0.804923   0.195077          0.042327  \n",
       "8         1.094270     0.237022          0.818199   0.181801          0.039049  \n",
       "9         1.047490     0.244566          0.767383   0.232617          0.035540  \n",
       "10        0.992421     0.208037          0.749150   0.250850          0.035233  \n",
       "11        1.030502     0.223125          0.770827   0.229173          0.036550  \n",
       "12        0.985898     0.197247          0.754899   0.245101          0.033752  \n",
       "13        0.998314     0.177233          0.784875   0.215125          0.036206  \n",
       "14        0.998294     0.161174          0.801740   0.198260          0.035381  \n",
       "15        0.999571     0.154829          0.810581   0.189419          0.034161  \n",
       "16        1.021862     0.166470          0.818967   0.181033          0.036425  \n",
       "17        1.028466     0.172023          0.814693   0.185307          0.041750  \n",
       "18        0.994935     0.154515          0.806519   0.193481          0.033900  \n",
       "19        1.020578     0.147729          0.820483   0.179517          0.052366  \n",
       "20        0.987204     0.137019          0.811967   0.188033          0.038218  \n",
       "21        1.075542     0.161987          0.830753   0.169247          0.082803  \n",
       "22        0.962939     0.121642          0.795613   0.204387          0.045684  \n",
       "23        0.982100     0.118209          0.821602   0.178398          0.042289  \n",
       "24        1.011028     0.128041          0.842872   0.157128          0.040116  \n",
       "25        0.990701     0.111013          0.843631   0.156369          0.036057  \n",
       "26        0.851877     0.022707          0.812819   0.187181          0.016350  "
      ]
     },
     "execution_count": 16,
     "metadata": {},
     "output_type": "execute_result"
    }
   ],
   "source": [
    "tx_retention_plot = pd.DataFrame(retention_array)\n",
    "tx_retention_plot[\"TotalActiveUserCount_prevPeriod\"]=tx_retention_plot[\"TotalActiveUserCount\"].shift(1)\n",
    "tx_retention_plot[\"ActiveUserRate\"]=tx_retention_plot[\"TotalActiveUserCount\"]/tx_retention_plot[\"TotalActiveUserCount_prevPeriod\"]\n",
    "tx_retention_plot[\"NewUserRate\"]=tx_retention_plot[\"NewUserCount\"]/tx_retention_plot[\"TotalActiveUserCount_prevPeriod\"]\n",
    "tx_retention_plot[\"RetainedUserRate\"]=tx_retention_plot[\"RetainedUserCount\"]/tx_retention_plot[\"TotalActiveUserCount_prevPeriod\"]\n",
    "tx_retention_plot[\"ChurnRate\"]=tx_retention_plot[\"InactiveUserCount\"]/tx_retention_plot[\"TotalActiveUserCount_prevPeriod\"]\n",
    "tx_retention_plot[\"ReactivationRate\"]=tx_retention_plot[\"Reactivated_1Period_PLUS_UserCount\"]/tx_retention_plot[\"TotalActiveUserCount_prevPeriod\"]\n",
    "#print(np.max(tx_retention_plot[\"TotalActiveUserCount\"]-tx_retention_plot[\"NewUserCount\"]-tx_retention_plot[\"RetainedUserCount\"]-tx_retention_plot[\"Reactivated_1Period_PLUS_UserCount\"]))\n",
    "tx_retention_plot.head(50)"
   ]
  },
  {
   "cell_type": "code",
   "execution_count": 24,
   "metadata": {},
   "outputs": [],
   "source": [
    "from datetime import datetime, timedelta,date\n",
    "\n",
    "tx_retention_plot=tx_retention_plot[(tx_retention_plot[\"min_activity_date\"]>datetime.strptime(\"2015-01-01\", '%Y-%m-%d').date())\n",
    "                                & (tx_retention_plot[\"min_activity_date\"]<datetime.strptime(\"2017-03-21\", '%Y-%m-%d').date())]"
   ]
  },
  {
   "cell_type": "code",
   "execution_count": 26,
   "metadata": {},
   "outputs": [
    {
     "data": {
      "application/vnd.plotly.v1+json": {
       "config": {
        "linkText": "Export to plot.ly",
        "plotlyServerURL": "https://plot.ly",
        "showLink": false
       },
       "data": [
        {
         "name": "TotalActiveUserCount",
         "type": "scatter",
         "x": [
          "2015-01-31",
          "2015-03-02",
          "2015-04-01",
          "2015-05-01",
          "2015-05-31",
          "2015-06-30",
          "2015-07-30",
          "2015-08-29",
          "2015-09-28",
          "2015-10-28",
          "2015-11-27",
          "2015-12-27",
          "2016-01-26",
          "2016-02-25",
          "2016-03-26",
          "2016-04-25",
          "2016-05-25",
          "2016-06-24",
          "2016-07-24",
          "2016-08-23",
          "2016-09-22",
          "2016-10-22",
          "2016-11-21",
          "2016-12-21",
          "2017-01-20",
          "2017-02-19"
         ],
         "y": [
          948986,
          936596,
          939930,
          917844,
          918345,
          866356,
          907676,
          907009,
          992513,
          1039647,
          1031767,
          1063238,
          1048244,
          1046477,
          1044692,
          1044244,
          1067073,
          1097448,
          1091889,
          1114358,
          1100099,
          1183203,
          1139352,
          1118958,
          1131298,
          1120778
         ]
        },
        {
         "name": "NewUserCount",
         "type": "scatter",
         "x": [
          "2015-01-31",
          "2015-03-02",
          "2015-04-01",
          "2015-05-01",
          "2015-05-31",
          "2015-06-30",
          "2015-07-30",
          "2015-08-29",
          "2015-09-28",
          "2015-10-28",
          "2015-11-27",
          "2015-12-27",
          "2016-01-26",
          "2016-02-25",
          "2016-03-26",
          "2016-04-25",
          "2016-05-25",
          "2016-06-24",
          "2016-07-24",
          "2016-08-23",
          "2016-09-22",
          "2016-10-22",
          "2016-11-21",
          "2016-12-21",
          "2017-01-20",
          "2017-02-19"
         ],
         "y": [
          210603,
          172092,
          145035,
          118848,
          116150,
          119409,
          167353,
          137981,
          214981,
          242735,
          216285,
          230213,
          209721,
          185783,
          168665,
          161749,
          173835,
          183561,
          169572,
          161304,
          152688,
          178202,
          143927,
          134682,
          143272,
          125589
         ]
        },
        {
         "name": "RetainedUserCount",
         "type": "scatter",
         "x": [
          "2015-01-31",
          "2015-03-02",
          "2015-04-01",
          "2015-05-01",
          "2015-05-31",
          "2015-06-30",
          "2015-07-30",
          "2015-08-29",
          "2015-09-28",
          "2015-10-28",
          "2015-11-27",
          "2015-12-27",
          "2016-01-26",
          "2016-02-25",
          "2016-03-26",
          "2016-04-25",
          "2016-05-25",
          "2016-06-24",
          "2016-07-24",
          "2016-08-23",
          "2016-09-22",
          "2016-10-22",
          "2016-11-21",
          "2016-12-21",
          "2017-01-20",
          "2017-02-19"
         ],
         "y": [
          738383,
          739768,
          751170,
          754980,
          751769,
          713611,
          703728,
          730609,
          742114,
          761638,
          778852,
          795314,
          802637,
          822741,
          839002,
          846807,
          855201,
          869337,
          885113,
          895876,
          904822,
          913910,
          941372,
          936094,
          943138,
          954398
         ]
        },
        {
         "name": "ChurnedUserCount",
         "type": "scatter",
         "x": [
          "2015-01-31",
          "2015-03-02",
          "2015-04-01",
          "2015-05-01",
          "2015-05-31",
          "2015-06-30",
          "2015-07-30",
          "2015-08-29",
          "2015-09-28",
          "2015-10-28",
          "2015-11-27",
          "2015-12-27",
          "2016-01-26",
          "2016-02-25",
          "2016-03-26",
          "2016-04-25",
          "2016-05-25",
          "2016-06-24",
          "2016-07-24",
          "2016-08-23",
          "2016-09-22",
          "2016-10-22",
          "2016-11-21",
          "2016-12-21",
          "2017-01-20",
          "2017-02-19"
         ],
         "y": [
          191354,
          209218,
          185426,
          184950,
          166075,
          204734,
          162628,
          177067,
          164895,
          230875,
          260795,
          236453,
          260601,
          225503,
          207475,
          197885,
          189043,
          197736,
          212335,
          196013,
          209536,
          186189,
          241831,
          203258,
          175820,
          176900
         ]
        },
        {
         "name": "ReactivatedUserCount",
         "type": "scatter",
         "x": [
          "2015-01-31",
          "2015-03-02",
          "2015-04-01",
          "2015-05-01",
          "2015-05-31",
          "2015-06-30",
          "2015-07-30",
          "2015-08-29",
          "2015-09-28",
          "2015-10-28",
          "2015-11-27",
          "2015-12-27",
          "2016-01-26",
          "2016-02-25",
          "2016-03-26",
          "2016-04-25",
          "2016-05-25",
          "2016-06-24",
          "2016-07-24",
          "2016-08-23",
          "2016-09-22",
          "2016-10-22",
          "2016-11-21",
          "2016-12-21",
          "2017-01-20",
          "2017-02-19"
         ],
         "y": [
          0,
          24736,
          43725,
          44016,
          50426,
          33336,
          36595,
          38419,
          35418,
          35274,
          36630,
          37711,
          35886,
          37953,
          37025,
          35688,
          38037,
          44550,
          37204,
          57178,
          42589,
          91091,
          54053,
          48182,
          44888,
          40791
         ]
        }
       ],
       "layout": {
        "template": {
         "data": {
          "bar": [
           {
            "error_x": {
             "color": "#2a3f5f"
            },
            "error_y": {
             "color": "#2a3f5f"
            },
            "marker": {
             "line": {
              "color": "#E5ECF6",
              "width": 0.5
             }
            },
            "type": "bar"
           }
          ],
          "barpolar": [
           {
            "marker": {
             "line": {
              "color": "#E5ECF6",
              "width": 0.5
             }
            },
            "type": "barpolar"
           }
          ],
          "carpet": [
           {
            "aaxis": {
             "endlinecolor": "#2a3f5f",
             "gridcolor": "white",
             "linecolor": "white",
             "minorgridcolor": "white",
             "startlinecolor": "#2a3f5f"
            },
            "baxis": {
             "endlinecolor": "#2a3f5f",
             "gridcolor": "white",
             "linecolor": "white",
             "minorgridcolor": "white",
             "startlinecolor": "#2a3f5f"
            },
            "type": "carpet"
           }
          ],
          "choropleth": [
           {
            "colorbar": {
             "outlinewidth": 0,
             "ticks": ""
            },
            "type": "choropleth"
           }
          ],
          "contour": [
           {
            "colorbar": {
             "outlinewidth": 0,
             "ticks": ""
            },
            "colorscale": [
             [
              0,
              "#0d0887"
             ],
             [
              0.1111111111111111,
              "#46039f"
             ],
             [
              0.2222222222222222,
              "#7201a8"
             ],
             [
              0.3333333333333333,
              "#9c179e"
             ],
             [
              0.4444444444444444,
              "#bd3786"
             ],
             [
              0.5555555555555556,
              "#d8576b"
             ],
             [
              0.6666666666666666,
              "#ed7953"
             ],
             [
              0.7777777777777778,
              "#fb9f3a"
             ],
             [
              0.8888888888888888,
              "#fdca26"
             ],
             [
              1,
              "#f0f921"
             ]
            ],
            "type": "contour"
           }
          ],
          "contourcarpet": [
           {
            "colorbar": {
             "outlinewidth": 0,
             "ticks": ""
            },
            "type": "contourcarpet"
           }
          ],
          "heatmap": [
           {
            "colorbar": {
             "outlinewidth": 0,
             "ticks": ""
            },
            "colorscale": [
             [
              0,
              "#0d0887"
             ],
             [
              0.1111111111111111,
              "#46039f"
             ],
             [
              0.2222222222222222,
              "#7201a8"
             ],
             [
              0.3333333333333333,
              "#9c179e"
             ],
             [
              0.4444444444444444,
              "#bd3786"
             ],
             [
              0.5555555555555556,
              "#d8576b"
             ],
             [
              0.6666666666666666,
              "#ed7953"
             ],
             [
              0.7777777777777778,
              "#fb9f3a"
             ],
             [
              0.8888888888888888,
              "#fdca26"
             ],
             [
              1,
              "#f0f921"
             ]
            ],
            "type": "heatmap"
           }
          ],
          "heatmapgl": [
           {
            "colorbar": {
             "outlinewidth": 0,
             "ticks": ""
            },
            "colorscale": [
             [
              0,
              "#0d0887"
             ],
             [
              0.1111111111111111,
              "#46039f"
             ],
             [
              0.2222222222222222,
              "#7201a8"
             ],
             [
              0.3333333333333333,
              "#9c179e"
             ],
             [
              0.4444444444444444,
              "#bd3786"
             ],
             [
              0.5555555555555556,
              "#d8576b"
             ],
             [
              0.6666666666666666,
              "#ed7953"
             ],
             [
              0.7777777777777778,
              "#fb9f3a"
             ],
             [
              0.8888888888888888,
              "#fdca26"
             ],
             [
              1,
              "#f0f921"
             ]
            ],
            "type": "heatmapgl"
           }
          ],
          "histogram": [
           {
            "marker": {
             "colorbar": {
              "outlinewidth": 0,
              "ticks": ""
             }
            },
            "type": "histogram"
           }
          ],
          "histogram2d": [
           {
            "colorbar": {
             "outlinewidth": 0,
             "ticks": ""
            },
            "colorscale": [
             [
              0,
              "#0d0887"
             ],
             [
              0.1111111111111111,
              "#46039f"
             ],
             [
              0.2222222222222222,
              "#7201a8"
             ],
             [
              0.3333333333333333,
              "#9c179e"
             ],
             [
              0.4444444444444444,
              "#bd3786"
             ],
             [
              0.5555555555555556,
              "#d8576b"
             ],
             [
              0.6666666666666666,
              "#ed7953"
             ],
             [
              0.7777777777777778,
              "#fb9f3a"
             ],
             [
              0.8888888888888888,
              "#fdca26"
             ],
             [
              1,
              "#f0f921"
             ]
            ],
            "type": "histogram2d"
           }
          ],
          "histogram2dcontour": [
           {
            "colorbar": {
             "outlinewidth": 0,
             "ticks": ""
            },
            "colorscale": [
             [
              0,
              "#0d0887"
             ],
             [
              0.1111111111111111,
              "#46039f"
             ],
             [
              0.2222222222222222,
              "#7201a8"
             ],
             [
              0.3333333333333333,
              "#9c179e"
             ],
             [
              0.4444444444444444,
              "#bd3786"
             ],
             [
              0.5555555555555556,
              "#d8576b"
             ],
             [
              0.6666666666666666,
              "#ed7953"
             ],
             [
              0.7777777777777778,
              "#fb9f3a"
             ],
             [
              0.8888888888888888,
              "#fdca26"
             ],
             [
              1,
              "#f0f921"
             ]
            ],
            "type": "histogram2dcontour"
           }
          ],
          "mesh3d": [
           {
            "colorbar": {
             "outlinewidth": 0,
             "ticks": ""
            },
            "type": "mesh3d"
           }
          ],
          "parcoords": [
           {
            "line": {
             "colorbar": {
              "outlinewidth": 0,
              "ticks": ""
             }
            },
            "type": "parcoords"
           }
          ],
          "pie": [
           {
            "automargin": true,
            "type": "pie"
           }
          ],
          "scatter": [
           {
            "marker": {
             "colorbar": {
              "outlinewidth": 0,
              "ticks": ""
             }
            },
            "type": "scatter"
           }
          ],
          "scatter3d": [
           {
            "line": {
             "colorbar": {
              "outlinewidth": 0,
              "ticks": ""
             }
            },
            "marker": {
             "colorbar": {
              "outlinewidth": 0,
              "ticks": ""
             }
            },
            "type": "scatter3d"
           }
          ],
          "scattercarpet": [
           {
            "marker": {
             "colorbar": {
              "outlinewidth": 0,
              "ticks": ""
             }
            },
            "type": "scattercarpet"
           }
          ],
          "scattergeo": [
           {
            "marker": {
             "colorbar": {
              "outlinewidth": 0,
              "ticks": ""
             }
            },
            "type": "scattergeo"
           }
          ],
          "scattergl": [
           {
            "marker": {
             "colorbar": {
              "outlinewidth": 0,
              "ticks": ""
             }
            },
            "type": "scattergl"
           }
          ],
          "scattermapbox": [
           {
            "marker": {
             "colorbar": {
              "outlinewidth": 0,
              "ticks": ""
             }
            },
            "type": "scattermapbox"
           }
          ],
          "scatterpolar": [
           {
            "marker": {
             "colorbar": {
              "outlinewidth": 0,
              "ticks": ""
             }
            },
            "type": "scatterpolar"
           }
          ],
          "scatterpolargl": [
           {
            "marker": {
             "colorbar": {
              "outlinewidth": 0,
              "ticks": ""
             }
            },
            "type": "scatterpolargl"
           }
          ],
          "scatterternary": [
           {
            "marker": {
             "colorbar": {
              "outlinewidth": 0,
              "ticks": ""
             }
            },
            "type": "scatterternary"
           }
          ],
          "surface": [
           {
            "colorbar": {
             "outlinewidth": 0,
             "ticks": ""
            },
            "colorscale": [
             [
              0,
              "#0d0887"
             ],
             [
              0.1111111111111111,
              "#46039f"
             ],
             [
              0.2222222222222222,
              "#7201a8"
             ],
             [
              0.3333333333333333,
              "#9c179e"
             ],
             [
              0.4444444444444444,
              "#bd3786"
             ],
             [
              0.5555555555555556,
              "#d8576b"
             ],
             [
              0.6666666666666666,
              "#ed7953"
             ],
             [
              0.7777777777777778,
              "#fb9f3a"
             ],
             [
              0.8888888888888888,
              "#fdca26"
             ],
             [
              1,
              "#f0f921"
             ]
            ],
            "type": "surface"
           }
          ],
          "table": [
           {
            "cells": {
             "fill": {
              "color": "#EBF0F8"
             },
             "line": {
              "color": "white"
             }
            },
            "header": {
             "fill": {
              "color": "#C8D4E3"
             },
             "line": {
              "color": "white"
             }
            },
            "type": "table"
           }
          ]
         },
         "layout": {
          "annotationdefaults": {
           "arrowcolor": "#2a3f5f",
           "arrowhead": 0,
           "arrowwidth": 1
          },
          "coloraxis": {
           "colorbar": {
            "outlinewidth": 0,
            "ticks": ""
           }
          },
          "colorscale": {
           "diverging": [
            [
             0,
             "#8e0152"
            ],
            [
             0.1,
             "#c51b7d"
            ],
            [
             0.2,
             "#de77ae"
            ],
            [
             0.3,
             "#f1b6da"
            ],
            [
             0.4,
             "#fde0ef"
            ],
            [
             0.5,
             "#f7f7f7"
            ],
            [
             0.6,
             "#e6f5d0"
            ],
            [
             0.7,
             "#b8e186"
            ],
            [
             0.8,
             "#7fbc41"
            ],
            [
             0.9,
             "#4d9221"
            ],
            [
             1,
             "#276419"
            ]
           ],
           "sequential": [
            [
             0,
             "#0d0887"
            ],
            [
             0.1111111111111111,
             "#46039f"
            ],
            [
             0.2222222222222222,
             "#7201a8"
            ],
            [
             0.3333333333333333,
             "#9c179e"
            ],
            [
             0.4444444444444444,
             "#bd3786"
            ],
            [
             0.5555555555555556,
             "#d8576b"
            ],
            [
             0.6666666666666666,
             "#ed7953"
            ],
            [
             0.7777777777777778,
             "#fb9f3a"
            ],
            [
             0.8888888888888888,
             "#fdca26"
            ],
            [
             1,
             "#f0f921"
            ]
           ],
           "sequentialminus": [
            [
             0,
             "#0d0887"
            ],
            [
             0.1111111111111111,
             "#46039f"
            ],
            [
             0.2222222222222222,
             "#7201a8"
            ],
            [
             0.3333333333333333,
             "#9c179e"
            ],
            [
             0.4444444444444444,
             "#bd3786"
            ],
            [
             0.5555555555555556,
             "#d8576b"
            ],
            [
             0.6666666666666666,
             "#ed7953"
            ],
            [
             0.7777777777777778,
             "#fb9f3a"
            ],
            [
             0.8888888888888888,
             "#fdca26"
            ],
            [
             1,
             "#f0f921"
            ]
           ]
          },
          "colorway": [
           "#636efa",
           "#EF553B",
           "#00cc96",
           "#ab63fa",
           "#FFA15A",
           "#19d3f3",
           "#FF6692",
           "#B6E880",
           "#FF97FF",
           "#FECB52"
          ],
          "font": {
           "color": "#2a3f5f"
          },
          "geo": {
           "bgcolor": "white",
           "lakecolor": "white",
           "landcolor": "#E5ECF6",
           "showlakes": true,
           "showland": true,
           "subunitcolor": "white"
          },
          "hoverlabel": {
           "align": "left"
          },
          "hovermode": "closest",
          "mapbox": {
           "style": "light"
          },
          "paper_bgcolor": "white",
          "plot_bgcolor": "#E5ECF6",
          "polar": {
           "angularaxis": {
            "gridcolor": "white",
            "linecolor": "white",
            "ticks": ""
           },
           "bgcolor": "#E5ECF6",
           "radialaxis": {
            "gridcolor": "white",
            "linecolor": "white",
            "ticks": ""
           }
          },
          "scene": {
           "xaxis": {
            "backgroundcolor": "#E5ECF6",
            "gridcolor": "white",
            "gridwidth": 2,
            "linecolor": "white",
            "showbackground": true,
            "ticks": "",
            "zerolinecolor": "white"
           },
           "yaxis": {
            "backgroundcolor": "#E5ECF6",
            "gridcolor": "white",
            "gridwidth": 2,
            "linecolor": "white",
            "showbackground": true,
            "ticks": "",
            "zerolinecolor": "white"
           },
           "zaxis": {
            "backgroundcolor": "#E5ECF6",
            "gridcolor": "white",
            "gridwidth": 2,
            "linecolor": "white",
            "showbackground": true,
            "ticks": "",
            "zerolinecolor": "white"
           }
          },
          "shapedefaults": {
           "line": {
            "color": "#2a3f5f"
           }
          },
          "ternary": {
           "aaxis": {
            "gridcolor": "white",
            "linecolor": "white",
            "ticks": ""
           },
           "baxis": {
            "gridcolor": "white",
            "linecolor": "white",
            "ticks": ""
           },
           "bgcolor": "#E5ECF6",
           "caxis": {
            "gridcolor": "white",
            "linecolor": "white",
            "ticks": ""
           }
          },
          "title": {
           "x": 0.05
          },
          "xaxis": {
           "automargin": true,
           "gridcolor": "white",
           "linecolor": "white",
           "ticks": "",
           "title": {
            "standoff": 15
           },
           "zerolinecolor": "white",
           "zerolinewidth": 2
          },
          "yaxis": {
           "automargin": true,
           "gridcolor": "white",
           "linecolor": "white",
           "ticks": "",
           "title": {
            "standoff": 15
           },
           "zerolinecolor": "white",
           "zerolinewidth": 2
          }
         }
        },
        "title": {
         "text": "Periodical (30 days) Users Evolution"
        },
        "xaxis": {
         "type": "category"
        }
       }
      },
      "text/html": [
       "<div>                            <div id=\"5e034ba6-923c-4549-a6af-9ff365db2636\" class=\"plotly-graph-div\" style=\"height:525px; width:100%;\"></div>            <script type=\"text/javascript\">                require([\"plotly\"], function(Plotly) {                    window.PLOTLYENV=window.PLOTLYENV || {};                                    if (document.getElementById(\"5e034ba6-923c-4549-a6af-9ff365db2636\")) {                    Plotly.newPlot(                        \"5e034ba6-923c-4549-a6af-9ff365db2636\",                        [{\"name\": \"TotalActiveUserCount\", \"type\": \"scatter\", \"x\": [\"2015-01-31\", \"2015-03-02\", \"2015-04-01\", \"2015-05-01\", \"2015-05-31\", \"2015-06-30\", \"2015-07-30\", \"2015-08-29\", \"2015-09-28\", \"2015-10-28\", \"2015-11-27\", \"2015-12-27\", \"2016-01-26\", \"2016-02-25\", \"2016-03-26\", \"2016-04-25\", \"2016-05-25\", \"2016-06-24\", \"2016-07-24\", \"2016-08-23\", \"2016-09-22\", \"2016-10-22\", \"2016-11-21\", \"2016-12-21\", \"2017-01-20\", \"2017-02-19\"], \"y\": [948986, 936596, 939930, 917844, 918345, 866356, 907676, 907009, 992513, 1039647, 1031767, 1063238, 1048244, 1046477, 1044692, 1044244, 1067073, 1097448, 1091889, 1114358, 1100099, 1183203, 1139352, 1118958, 1131298, 1120778]}, {\"name\": \"NewUserCount\", \"type\": \"scatter\", \"x\": [\"2015-01-31\", \"2015-03-02\", \"2015-04-01\", \"2015-05-01\", \"2015-05-31\", \"2015-06-30\", \"2015-07-30\", \"2015-08-29\", \"2015-09-28\", \"2015-10-28\", \"2015-11-27\", \"2015-12-27\", \"2016-01-26\", \"2016-02-25\", \"2016-03-26\", \"2016-04-25\", \"2016-05-25\", \"2016-06-24\", \"2016-07-24\", \"2016-08-23\", \"2016-09-22\", \"2016-10-22\", \"2016-11-21\", \"2016-12-21\", \"2017-01-20\", \"2017-02-19\"], \"y\": [210603, 172092, 145035, 118848, 116150, 119409, 167353, 137981, 214981, 242735, 216285, 230213, 209721, 185783, 168665, 161749, 173835, 183561, 169572, 161304, 152688, 178202, 143927, 134682, 143272, 125589]}, {\"name\": \"RetainedUserCount\", \"type\": \"scatter\", \"x\": [\"2015-01-31\", \"2015-03-02\", \"2015-04-01\", \"2015-05-01\", \"2015-05-31\", \"2015-06-30\", \"2015-07-30\", \"2015-08-29\", \"2015-09-28\", \"2015-10-28\", \"2015-11-27\", \"2015-12-27\", \"2016-01-26\", \"2016-02-25\", \"2016-03-26\", \"2016-04-25\", \"2016-05-25\", \"2016-06-24\", \"2016-07-24\", \"2016-08-23\", \"2016-09-22\", \"2016-10-22\", \"2016-11-21\", \"2016-12-21\", \"2017-01-20\", \"2017-02-19\"], \"y\": [738383, 739768, 751170, 754980, 751769, 713611, 703728, 730609, 742114, 761638, 778852, 795314, 802637, 822741, 839002, 846807, 855201, 869337, 885113, 895876, 904822, 913910, 941372, 936094, 943138, 954398]}, {\"name\": \"ChurnedUserCount\", \"type\": \"scatter\", \"x\": [\"2015-01-31\", \"2015-03-02\", \"2015-04-01\", \"2015-05-01\", \"2015-05-31\", \"2015-06-30\", \"2015-07-30\", \"2015-08-29\", \"2015-09-28\", \"2015-10-28\", \"2015-11-27\", \"2015-12-27\", \"2016-01-26\", \"2016-02-25\", \"2016-03-26\", \"2016-04-25\", \"2016-05-25\", \"2016-06-24\", \"2016-07-24\", \"2016-08-23\", \"2016-09-22\", \"2016-10-22\", \"2016-11-21\", \"2016-12-21\", \"2017-01-20\", \"2017-02-19\"], \"y\": [191354, 209218, 185426, 184950, 166075, 204734, 162628, 177067, 164895, 230875, 260795, 236453, 260601, 225503, 207475, 197885, 189043, 197736, 212335, 196013, 209536, 186189, 241831, 203258, 175820, 176900]}, {\"name\": \"ReactivatedUserCount\", \"type\": \"scatter\", \"x\": [\"2015-01-31\", \"2015-03-02\", \"2015-04-01\", \"2015-05-01\", \"2015-05-31\", \"2015-06-30\", \"2015-07-30\", \"2015-08-29\", \"2015-09-28\", \"2015-10-28\", \"2015-11-27\", \"2015-12-27\", \"2016-01-26\", \"2016-02-25\", \"2016-03-26\", \"2016-04-25\", \"2016-05-25\", \"2016-06-24\", \"2016-07-24\", \"2016-08-23\", \"2016-09-22\", \"2016-10-22\", \"2016-11-21\", \"2016-12-21\", \"2017-01-20\", \"2017-02-19\"], \"y\": [0, 24736, 43725, 44016, 50426, 33336, 36595, 38419, 35418, 35274, 36630, 37711, 35886, 37953, 37025, 35688, 38037, 44550, 37204, 57178, 42589, 91091, 54053, 48182, 44888, 40791]}],                        {\"template\": {\"data\": {\"bar\": [{\"error_x\": {\"color\": \"#2a3f5f\"}, \"error_y\": {\"color\": \"#2a3f5f\"}, \"marker\": {\"line\": {\"color\": \"#E5ECF6\", \"width\": 0.5}}, \"type\": \"bar\"}], \"barpolar\": [{\"marker\": {\"line\": {\"color\": \"#E5ECF6\", \"width\": 0.5}}, \"type\": \"barpolar\"}], \"carpet\": [{\"aaxis\": {\"endlinecolor\": \"#2a3f5f\", \"gridcolor\": \"white\", \"linecolor\": \"white\", \"minorgridcolor\": \"white\", \"startlinecolor\": \"#2a3f5f\"}, \"baxis\": {\"endlinecolor\": \"#2a3f5f\", \"gridcolor\": \"white\", \"linecolor\": \"white\", \"minorgridcolor\": \"white\", \"startlinecolor\": \"#2a3f5f\"}, \"type\": \"carpet\"}], \"choropleth\": [{\"colorbar\": {\"outlinewidth\": 0, \"ticks\": \"\"}, \"type\": \"choropleth\"}], \"contour\": [{\"colorbar\": {\"outlinewidth\": 0, \"ticks\": \"\"}, \"colorscale\": [[0.0, \"#0d0887\"], [0.1111111111111111, \"#46039f\"], [0.2222222222222222, \"#7201a8\"], [0.3333333333333333, \"#9c179e\"], [0.4444444444444444, \"#bd3786\"], [0.5555555555555556, \"#d8576b\"], [0.6666666666666666, \"#ed7953\"], [0.7777777777777778, \"#fb9f3a\"], [0.8888888888888888, \"#fdca26\"], [1.0, \"#f0f921\"]], \"type\": \"contour\"}], \"contourcarpet\": [{\"colorbar\": {\"outlinewidth\": 0, \"ticks\": \"\"}, \"type\": \"contourcarpet\"}], \"heatmap\": [{\"colorbar\": {\"outlinewidth\": 0, \"ticks\": \"\"}, \"colorscale\": [[0.0, \"#0d0887\"], [0.1111111111111111, \"#46039f\"], [0.2222222222222222, \"#7201a8\"], [0.3333333333333333, \"#9c179e\"], [0.4444444444444444, \"#bd3786\"], [0.5555555555555556, \"#d8576b\"], [0.6666666666666666, \"#ed7953\"], [0.7777777777777778, \"#fb9f3a\"], [0.8888888888888888, \"#fdca26\"], [1.0, \"#f0f921\"]], \"type\": \"heatmap\"}], \"heatmapgl\": [{\"colorbar\": {\"outlinewidth\": 0, \"ticks\": \"\"}, \"colorscale\": [[0.0, \"#0d0887\"], [0.1111111111111111, \"#46039f\"], [0.2222222222222222, \"#7201a8\"], [0.3333333333333333, \"#9c179e\"], [0.4444444444444444, \"#bd3786\"], [0.5555555555555556, \"#d8576b\"], [0.6666666666666666, \"#ed7953\"], [0.7777777777777778, \"#fb9f3a\"], [0.8888888888888888, \"#fdca26\"], [1.0, \"#f0f921\"]], \"type\": \"heatmapgl\"}], \"histogram\": [{\"marker\": {\"colorbar\": {\"outlinewidth\": 0, \"ticks\": \"\"}}, \"type\": \"histogram\"}], \"histogram2d\": [{\"colorbar\": {\"outlinewidth\": 0, \"ticks\": \"\"}, \"colorscale\": [[0.0, \"#0d0887\"], [0.1111111111111111, \"#46039f\"], [0.2222222222222222, \"#7201a8\"], [0.3333333333333333, \"#9c179e\"], [0.4444444444444444, \"#bd3786\"], [0.5555555555555556, \"#d8576b\"], [0.6666666666666666, \"#ed7953\"], [0.7777777777777778, \"#fb9f3a\"], [0.8888888888888888, \"#fdca26\"], [1.0, \"#f0f921\"]], \"type\": \"histogram2d\"}], \"histogram2dcontour\": [{\"colorbar\": {\"outlinewidth\": 0, \"ticks\": \"\"}, \"colorscale\": [[0.0, \"#0d0887\"], [0.1111111111111111, \"#46039f\"], [0.2222222222222222, \"#7201a8\"], [0.3333333333333333, \"#9c179e\"], [0.4444444444444444, \"#bd3786\"], [0.5555555555555556, \"#d8576b\"], [0.6666666666666666, \"#ed7953\"], [0.7777777777777778, \"#fb9f3a\"], [0.8888888888888888, \"#fdca26\"], [1.0, \"#f0f921\"]], \"type\": \"histogram2dcontour\"}], \"mesh3d\": [{\"colorbar\": {\"outlinewidth\": 0, \"ticks\": \"\"}, \"type\": \"mesh3d\"}], \"parcoords\": [{\"line\": {\"colorbar\": {\"outlinewidth\": 0, \"ticks\": \"\"}}, \"type\": \"parcoords\"}], \"pie\": [{\"automargin\": true, \"type\": \"pie\"}], \"scatter\": [{\"marker\": {\"colorbar\": {\"outlinewidth\": 0, \"ticks\": \"\"}}, \"type\": \"scatter\"}], \"scatter3d\": [{\"line\": {\"colorbar\": {\"outlinewidth\": 0, \"ticks\": \"\"}}, \"marker\": {\"colorbar\": {\"outlinewidth\": 0, \"ticks\": \"\"}}, \"type\": \"scatter3d\"}], \"scattercarpet\": [{\"marker\": {\"colorbar\": {\"outlinewidth\": 0, \"ticks\": \"\"}}, \"type\": \"scattercarpet\"}], \"scattergeo\": [{\"marker\": {\"colorbar\": {\"outlinewidth\": 0, \"ticks\": \"\"}}, \"type\": \"scattergeo\"}], \"scattergl\": [{\"marker\": {\"colorbar\": {\"outlinewidth\": 0, \"ticks\": \"\"}}, \"type\": \"scattergl\"}], \"scattermapbox\": [{\"marker\": {\"colorbar\": {\"outlinewidth\": 0, \"ticks\": \"\"}}, \"type\": \"scattermapbox\"}], \"scatterpolar\": [{\"marker\": {\"colorbar\": {\"outlinewidth\": 0, \"ticks\": \"\"}}, \"type\": \"scatterpolar\"}], \"scatterpolargl\": [{\"marker\": {\"colorbar\": {\"outlinewidth\": 0, \"ticks\": \"\"}}, \"type\": \"scatterpolargl\"}], \"scatterternary\": [{\"marker\": {\"colorbar\": {\"outlinewidth\": 0, \"ticks\": \"\"}}, \"type\": \"scatterternary\"}], \"surface\": [{\"colorbar\": {\"outlinewidth\": 0, \"ticks\": \"\"}, \"colorscale\": [[0.0, \"#0d0887\"], [0.1111111111111111, \"#46039f\"], [0.2222222222222222, \"#7201a8\"], [0.3333333333333333, \"#9c179e\"], [0.4444444444444444, \"#bd3786\"], [0.5555555555555556, \"#d8576b\"], [0.6666666666666666, \"#ed7953\"], [0.7777777777777778, \"#fb9f3a\"], [0.8888888888888888, \"#fdca26\"], [1.0, \"#f0f921\"]], \"type\": \"surface\"}], \"table\": [{\"cells\": {\"fill\": {\"color\": \"#EBF0F8\"}, \"line\": {\"color\": \"white\"}}, \"header\": {\"fill\": {\"color\": \"#C8D4E3\"}, \"line\": {\"color\": \"white\"}}, \"type\": \"table\"}]}, \"layout\": {\"annotationdefaults\": {\"arrowcolor\": \"#2a3f5f\", \"arrowhead\": 0, \"arrowwidth\": 1}, \"coloraxis\": {\"colorbar\": {\"outlinewidth\": 0, \"ticks\": \"\"}}, \"colorscale\": {\"diverging\": [[0, \"#8e0152\"], [0.1, \"#c51b7d\"], [0.2, \"#de77ae\"], [0.3, \"#f1b6da\"], [0.4, \"#fde0ef\"], [0.5, \"#f7f7f7\"], [0.6, \"#e6f5d0\"], [0.7, \"#b8e186\"], [0.8, \"#7fbc41\"], [0.9, \"#4d9221\"], [1, \"#276419\"]], \"sequential\": [[0.0, \"#0d0887\"], [0.1111111111111111, \"#46039f\"], [0.2222222222222222, \"#7201a8\"], [0.3333333333333333, \"#9c179e\"], [0.4444444444444444, \"#bd3786\"], [0.5555555555555556, \"#d8576b\"], [0.6666666666666666, \"#ed7953\"], [0.7777777777777778, \"#fb9f3a\"], [0.8888888888888888, \"#fdca26\"], [1.0, \"#f0f921\"]], \"sequentialminus\": [[0.0, \"#0d0887\"], [0.1111111111111111, \"#46039f\"], [0.2222222222222222, \"#7201a8\"], [0.3333333333333333, \"#9c179e\"], [0.4444444444444444, \"#bd3786\"], [0.5555555555555556, \"#d8576b\"], [0.6666666666666666, \"#ed7953\"], [0.7777777777777778, \"#fb9f3a\"], [0.8888888888888888, \"#fdca26\"], [1.0, \"#f0f921\"]]}, \"colorway\": [\"#636efa\", \"#EF553B\", \"#00cc96\", \"#ab63fa\", \"#FFA15A\", \"#19d3f3\", \"#FF6692\", \"#B6E880\", \"#FF97FF\", \"#FECB52\"], \"font\": {\"color\": \"#2a3f5f\"}, \"geo\": {\"bgcolor\": \"white\", \"lakecolor\": \"white\", \"landcolor\": \"#E5ECF6\", \"showlakes\": true, \"showland\": true, \"subunitcolor\": \"white\"}, \"hoverlabel\": {\"align\": \"left\"}, \"hovermode\": \"closest\", \"mapbox\": {\"style\": \"light\"}, \"paper_bgcolor\": \"white\", \"plot_bgcolor\": \"#E5ECF6\", \"polar\": {\"angularaxis\": {\"gridcolor\": \"white\", \"linecolor\": \"white\", \"ticks\": \"\"}, \"bgcolor\": \"#E5ECF6\", \"radialaxis\": {\"gridcolor\": \"white\", \"linecolor\": \"white\", \"ticks\": \"\"}}, \"scene\": {\"xaxis\": {\"backgroundcolor\": \"#E5ECF6\", \"gridcolor\": \"white\", \"gridwidth\": 2, \"linecolor\": \"white\", \"showbackground\": true, \"ticks\": \"\", \"zerolinecolor\": \"white\"}, \"yaxis\": {\"backgroundcolor\": \"#E5ECF6\", \"gridcolor\": \"white\", \"gridwidth\": 2, \"linecolor\": \"white\", \"showbackground\": true, \"ticks\": \"\", \"zerolinecolor\": \"white\"}, \"zaxis\": {\"backgroundcolor\": \"#E5ECF6\", \"gridcolor\": \"white\", \"gridwidth\": 2, \"linecolor\": \"white\", \"showbackground\": true, \"ticks\": \"\", \"zerolinecolor\": \"white\"}}, \"shapedefaults\": {\"line\": {\"color\": \"#2a3f5f\"}}, \"ternary\": {\"aaxis\": {\"gridcolor\": \"white\", \"linecolor\": \"white\", \"ticks\": \"\"}, \"baxis\": {\"gridcolor\": \"white\", \"linecolor\": \"white\", \"ticks\": \"\"}, \"bgcolor\": \"#E5ECF6\", \"caxis\": {\"gridcolor\": \"white\", \"linecolor\": \"white\", \"ticks\": \"\"}}, \"title\": {\"x\": 0.05}, \"xaxis\": {\"automargin\": true, \"gridcolor\": \"white\", \"linecolor\": \"white\", \"ticks\": \"\", \"title\": {\"standoff\": 15}, \"zerolinecolor\": \"white\", \"zerolinewidth\": 2}, \"yaxis\": {\"automargin\": true, \"gridcolor\": \"white\", \"linecolor\": \"white\", \"ticks\": \"\", \"title\": {\"standoff\": 15}, \"zerolinecolor\": \"white\", \"zerolinewidth\": 2}}}, \"title\": {\"text\": \"Periodical (30 days) Users Evolution\"}, \"xaxis\": {\"type\": \"category\"}},                        {\"responsive\": true}                    ).then(function(){\n",
       "                            \n",
       "var gd = document.getElementById('5e034ba6-923c-4549-a6af-9ff365db2636');\n",
       "var x = new MutationObserver(function (mutations, observer) {{\n",
       "        var display = window.getComputedStyle(gd).display;\n",
       "        if (!display || display === 'none') {{\n",
       "            console.log([gd, 'removed!']);\n",
       "            Plotly.purge(gd);\n",
       "            observer.disconnect();\n",
       "        }}\n",
       "}});\n",
       "\n",
       "// Listen for the removal of the full notebook cells\n",
       "var notebookContainer = gd.closest('#notebook-container');\n",
       "if (notebookContainer) {{\n",
       "    x.observe(notebookContainer, {childList: true});\n",
       "}}\n",
       "\n",
       "// Listen for the clearing of the current output cell\n",
       "var outputEl = gd.closest('.output');\n",
       "if (outputEl) {{\n",
       "    x.observe(outputEl, {childList: true});\n",
       "}}\n",
       "\n",
       "                        })                };                });            </script>        </div>"
      ]
     },
     "metadata": {},
     "output_type": "display_data"
    }
   ],
   "source": [
    "plot_data = [\n",
    "    go.Scatter(\n",
    "        x=tx_retention_plot['min_activity_date'],\n",
    "        y=tx_retention_plot['TotalActiveUserCount'],\n",
    "        name=\"TotalActiveUserCount\"\n",
    "    ),\n",
    "    go.Scatter(\n",
    "        x=tx_retention_plot['min_activity_date'],\n",
    "        y=tx_retention_plot['NewUserCount'],\n",
    "        name=\"NewUserCount\"\n",
    "    ),\n",
    "    go.Scatter(\n",
    "        x=tx_retention_plot['min_activity_date'],\n",
    "        y=tx_retention_plot['RetainedUserCount'],\n",
    "        name=\"RetainedUserCount\"\n",
    "    ),\n",
    "    # Inactive customers keep adding up as we know from Recency, therefore this is not shown to avoid squeezing the chart\n",
    "    go.Scatter(\n",
    "       x=tx_retention_plot['min_activity_date'],\n",
    "       y=tx_retention_plot['InactiveUserCount'],\n",
    "       name=\"ChurnedUserCount\"\n",
    "    ),\n",
    "    go.Scatter(\n",
    "        x=tx_retention_plot['min_activity_date'],\n",
    "        y=tx_retention_plot['Reactivated_1Period_PLUS_UserCount'],\n",
    "        name=\"ReactivatedUserCount\"\n",
    "    )\n",
    "]\n",
    "\n",
    "plot_layout = go.Layout(\n",
    "        xaxis={\"type\": \"category\"},\n",
    "        title='Periodical (30 days) Users Evolution'\n",
    "    )\n",
    "fig = go.Figure(data=plot_data, layout=plot_layout)\n",
    "pyoff.iplot(fig)\n",
    "pio.write_image(fig, 'figures/KKBox_30d_UserEvolution_AllAbsoluteNumbers.png')"
   ]
  },
  {
   "cell_type": "code",
   "execution_count": 30,
   "metadata": {},
   "outputs": [],
   "source": [
    "tx_retention_plot=tx_retention_plot[(tx_retention_plot[\"min_activity_date\"]>datetime.strptime(\"2015-01-31\", '%Y-%m-%d').date())\n",
    "                                & (tx_retention_plot[\"min_activity_date\"]<datetime.strptime(\"2017-03-21\", '%Y-%m-%d').date())]"
   ]
  },
  {
   "cell_type": "code",
   "execution_count": 33,
   "metadata": {},
   "outputs": [
    {
     "data": {
      "application/vnd.plotly.v1+json": {
       "config": {
        "linkText": "Export to plot.ly",
        "plotlyServerURL": "https://plot.ly",
        "showLink": false
       },
       "data": [
        {
         "name": "Retained User Rate",
         "type": "scatter",
         "x": [
          "2015-03-02",
          "2015-04-01",
          "2015-05-01",
          "2015-05-31",
          "2015-06-30",
          "2015-07-30",
          "2015-08-29",
          "2015-09-28",
          "2015-10-28",
          "2015-11-27",
          "2015-12-27",
          "2016-01-26",
          "2016-02-25",
          "2016-03-26",
          "2016-04-25",
          "2016-05-25",
          "2016-06-24",
          "2016-07-24",
          "2016-08-23",
          "2016-09-22",
          "2016-10-22",
          "2016-11-21",
          "2016-12-21",
          "2017-01-20",
          "2017-02-19"
         ],
         "y": [
          0.779535209160093,
          0.8020213624657804,
          0.8032300277680253,
          0.8190596659127259,
          0.7770619973974923,
          0.8122850190914589,
          0.8049226816617383,
          0.8181991578914873,
          0.7673833995121474,
          0.74915043279113,
          0.7708271344208528,
          0.7548987150572121,
          0.7848754679254066,
          0.8017395508931395,
          0.8105805347413401,
          0.8189666399806942,
          0.8146930903508944,
          0.8065193066095159,
          0.8204826681100368,
          0.811967069828547,
          0.8307525050018225,
          0.7956132633199882,
          0.8216021036519003,
          0.8428716716802597,
          0.8436309442781654
         ]
        },
        {
         "name": "Reactivated User Rate",
         "type": "scatter",
         "x": [
          "2015-03-02",
          "2015-04-01",
          "2015-05-01",
          "2015-05-31",
          "2015-06-30",
          "2015-07-30",
          "2015-08-29",
          "2015-09-28",
          "2015-10-28",
          "2015-11-27",
          "2015-12-27",
          "2016-01-26",
          "2016-02-25",
          "2016-03-26",
          "2016-04-25",
          "2016-05-25",
          "2016-06-24",
          "2016-07-24",
          "2016-08-23",
          "2016-09-22",
          "2016-10-22",
          "2016-11-21",
          "2016-12-21",
          "2017-01-20",
          "2017-02-19"
         ],
         "y": [
          0.026065716459463047,
          0.046685016805538354,
          0.04682901918227953,
          0.054939619368868785,
          0.03630008330202702,
          0.04224014146609477,
          0.042326777396339665,
          0.03904922663391433,
          0.035540088643675194,
          0.035233112777702434,
          0.03654991873165162,
          0.03375161534858611,
          0.03620626495357951,
          0.035380615149687954,
          0.03416126475554517,
          0.03642539483109312,
          0.04174972096566964,
          0.03390046726587501,
          0.05236612879147972,
          0.03821841813851563,
          0.08280254777070063,
          0.04568362318215893,
          0.042288950210294975,
          0.040115893536665365,
          0.03605681261701161
         ]
        },
        {
         "name": "Churn Rate",
         "type": "scatter",
         "x": [
          "2015-03-02",
          "2015-04-01",
          "2015-05-01",
          "2015-05-31",
          "2015-06-30",
          "2015-07-30",
          "2015-08-29",
          "2015-09-28",
          "2015-10-28",
          "2015-11-27",
          "2015-12-27",
          "2016-01-26",
          "2016-02-25",
          "2016-03-26",
          "2016-04-25",
          "2016-05-25",
          "2016-06-24",
          "2016-07-24",
          "2016-08-23",
          "2016-09-22",
          "2016-10-22",
          "2016-11-21",
          "2016-12-21",
          "2017-01-20",
          "2017-02-19"
         ],
         "y": [
          0.22046479083990703,
          0.19797863753421965,
          0.19676997223197473,
          0.18094033408727409,
          0.22293800260250776,
          0.18771498090854105,
          0.19507731833826167,
          0.18180084210851272,
          0.23261660048785254,
          0.2508495672088699,
          0.22917286557914723,
          0.24510128494278796,
          0.2151245320745933,
          0.19826044910686044,
          0.18941946525865996,
          0.18103336001930584,
          0.18530690964910554,
          0.1934806933904841,
          0.17951733188996316,
          0.18803293017145298,
          0.16924749499817743,
          0.2043867366800118,
          0.17839789634809963,
          0.15712832831974033,
          0.15636905572183457
         ]
        }
       ],
       "layout": {
        "font": {
         "size": 16
        },
        "legend": {
         "x": 0.8,
         "xanchor": "right",
         "y": 0.75,
         "yanchor": "top"
        },
        "template": {
         "data": {
          "bar": [
           {
            "error_x": {
             "color": "#2a3f5f"
            },
            "error_y": {
             "color": "#2a3f5f"
            },
            "marker": {
             "line": {
              "color": "#E5ECF6",
              "width": 0.5
             }
            },
            "type": "bar"
           }
          ],
          "barpolar": [
           {
            "marker": {
             "line": {
              "color": "#E5ECF6",
              "width": 0.5
             }
            },
            "type": "barpolar"
           }
          ],
          "carpet": [
           {
            "aaxis": {
             "endlinecolor": "#2a3f5f",
             "gridcolor": "white",
             "linecolor": "white",
             "minorgridcolor": "white",
             "startlinecolor": "#2a3f5f"
            },
            "baxis": {
             "endlinecolor": "#2a3f5f",
             "gridcolor": "white",
             "linecolor": "white",
             "minorgridcolor": "white",
             "startlinecolor": "#2a3f5f"
            },
            "type": "carpet"
           }
          ],
          "choropleth": [
           {
            "colorbar": {
             "outlinewidth": 0,
             "ticks": ""
            },
            "type": "choropleth"
           }
          ],
          "contour": [
           {
            "colorbar": {
             "outlinewidth": 0,
             "ticks": ""
            },
            "colorscale": [
             [
              0,
              "#0d0887"
             ],
             [
              0.1111111111111111,
              "#46039f"
             ],
             [
              0.2222222222222222,
              "#7201a8"
             ],
             [
              0.3333333333333333,
              "#9c179e"
             ],
             [
              0.4444444444444444,
              "#bd3786"
             ],
             [
              0.5555555555555556,
              "#d8576b"
             ],
             [
              0.6666666666666666,
              "#ed7953"
             ],
             [
              0.7777777777777778,
              "#fb9f3a"
             ],
             [
              0.8888888888888888,
              "#fdca26"
             ],
             [
              1,
              "#f0f921"
             ]
            ],
            "type": "contour"
           }
          ],
          "contourcarpet": [
           {
            "colorbar": {
             "outlinewidth": 0,
             "ticks": ""
            },
            "type": "contourcarpet"
           }
          ],
          "heatmap": [
           {
            "colorbar": {
             "outlinewidth": 0,
             "ticks": ""
            },
            "colorscale": [
             [
              0,
              "#0d0887"
             ],
             [
              0.1111111111111111,
              "#46039f"
             ],
             [
              0.2222222222222222,
              "#7201a8"
             ],
             [
              0.3333333333333333,
              "#9c179e"
             ],
             [
              0.4444444444444444,
              "#bd3786"
             ],
             [
              0.5555555555555556,
              "#d8576b"
             ],
             [
              0.6666666666666666,
              "#ed7953"
             ],
             [
              0.7777777777777778,
              "#fb9f3a"
             ],
             [
              0.8888888888888888,
              "#fdca26"
             ],
             [
              1,
              "#f0f921"
             ]
            ],
            "type": "heatmap"
           }
          ],
          "heatmapgl": [
           {
            "colorbar": {
             "outlinewidth": 0,
             "ticks": ""
            },
            "colorscale": [
             [
              0,
              "#0d0887"
             ],
             [
              0.1111111111111111,
              "#46039f"
             ],
             [
              0.2222222222222222,
              "#7201a8"
             ],
             [
              0.3333333333333333,
              "#9c179e"
             ],
             [
              0.4444444444444444,
              "#bd3786"
             ],
             [
              0.5555555555555556,
              "#d8576b"
             ],
             [
              0.6666666666666666,
              "#ed7953"
             ],
             [
              0.7777777777777778,
              "#fb9f3a"
             ],
             [
              0.8888888888888888,
              "#fdca26"
             ],
             [
              1,
              "#f0f921"
             ]
            ],
            "type": "heatmapgl"
           }
          ],
          "histogram": [
           {
            "marker": {
             "colorbar": {
              "outlinewidth": 0,
              "ticks": ""
             }
            },
            "type": "histogram"
           }
          ],
          "histogram2d": [
           {
            "colorbar": {
             "outlinewidth": 0,
             "ticks": ""
            },
            "colorscale": [
             [
              0,
              "#0d0887"
             ],
             [
              0.1111111111111111,
              "#46039f"
             ],
             [
              0.2222222222222222,
              "#7201a8"
             ],
             [
              0.3333333333333333,
              "#9c179e"
             ],
             [
              0.4444444444444444,
              "#bd3786"
             ],
             [
              0.5555555555555556,
              "#d8576b"
             ],
             [
              0.6666666666666666,
              "#ed7953"
             ],
             [
              0.7777777777777778,
              "#fb9f3a"
             ],
             [
              0.8888888888888888,
              "#fdca26"
             ],
             [
              1,
              "#f0f921"
             ]
            ],
            "type": "histogram2d"
           }
          ],
          "histogram2dcontour": [
           {
            "colorbar": {
             "outlinewidth": 0,
             "ticks": ""
            },
            "colorscale": [
             [
              0,
              "#0d0887"
             ],
             [
              0.1111111111111111,
              "#46039f"
             ],
             [
              0.2222222222222222,
              "#7201a8"
             ],
             [
              0.3333333333333333,
              "#9c179e"
             ],
             [
              0.4444444444444444,
              "#bd3786"
             ],
             [
              0.5555555555555556,
              "#d8576b"
             ],
             [
              0.6666666666666666,
              "#ed7953"
             ],
             [
              0.7777777777777778,
              "#fb9f3a"
             ],
             [
              0.8888888888888888,
              "#fdca26"
             ],
             [
              1,
              "#f0f921"
             ]
            ],
            "type": "histogram2dcontour"
           }
          ],
          "mesh3d": [
           {
            "colorbar": {
             "outlinewidth": 0,
             "ticks": ""
            },
            "type": "mesh3d"
           }
          ],
          "parcoords": [
           {
            "line": {
             "colorbar": {
              "outlinewidth": 0,
              "ticks": ""
             }
            },
            "type": "parcoords"
           }
          ],
          "pie": [
           {
            "automargin": true,
            "type": "pie"
           }
          ],
          "scatter": [
           {
            "marker": {
             "colorbar": {
              "outlinewidth": 0,
              "ticks": ""
             }
            },
            "type": "scatter"
           }
          ],
          "scatter3d": [
           {
            "line": {
             "colorbar": {
              "outlinewidth": 0,
              "ticks": ""
             }
            },
            "marker": {
             "colorbar": {
              "outlinewidth": 0,
              "ticks": ""
             }
            },
            "type": "scatter3d"
           }
          ],
          "scattercarpet": [
           {
            "marker": {
             "colorbar": {
              "outlinewidth": 0,
              "ticks": ""
             }
            },
            "type": "scattercarpet"
           }
          ],
          "scattergeo": [
           {
            "marker": {
             "colorbar": {
              "outlinewidth": 0,
              "ticks": ""
             }
            },
            "type": "scattergeo"
           }
          ],
          "scattergl": [
           {
            "marker": {
             "colorbar": {
              "outlinewidth": 0,
              "ticks": ""
             }
            },
            "type": "scattergl"
           }
          ],
          "scattermapbox": [
           {
            "marker": {
             "colorbar": {
              "outlinewidth": 0,
              "ticks": ""
             }
            },
            "type": "scattermapbox"
           }
          ],
          "scatterpolar": [
           {
            "marker": {
             "colorbar": {
              "outlinewidth": 0,
              "ticks": ""
             }
            },
            "type": "scatterpolar"
           }
          ],
          "scatterpolargl": [
           {
            "marker": {
             "colorbar": {
              "outlinewidth": 0,
              "ticks": ""
             }
            },
            "type": "scatterpolargl"
           }
          ],
          "scatterternary": [
           {
            "marker": {
             "colorbar": {
              "outlinewidth": 0,
              "ticks": ""
             }
            },
            "type": "scatterternary"
           }
          ],
          "surface": [
           {
            "colorbar": {
             "outlinewidth": 0,
             "ticks": ""
            },
            "colorscale": [
             [
              0,
              "#0d0887"
             ],
             [
              0.1111111111111111,
              "#46039f"
             ],
             [
              0.2222222222222222,
              "#7201a8"
             ],
             [
              0.3333333333333333,
              "#9c179e"
             ],
             [
              0.4444444444444444,
              "#bd3786"
             ],
             [
              0.5555555555555556,
              "#d8576b"
             ],
             [
              0.6666666666666666,
              "#ed7953"
             ],
             [
              0.7777777777777778,
              "#fb9f3a"
             ],
             [
              0.8888888888888888,
              "#fdca26"
             ],
             [
              1,
              "#f0f921"
             ]
            ],
            "type": "surface"
           }
          ],
          "table": [
           {
            "cells": {
             "fill": {
              "color": "#EBF0F8"
             },
             "line": {
              "color": "white"
             }
            },
            "header": {
             "fill": {
              "color": "#C8D4E3"
             },
             "line": {
              "color": "white"
             }
            },
            "type": "table"
           }
          ]
         },
         "layout": {
          "annotationdefaults": {
           "arrowcolor": "#2a3f5f",
           "arrowhead": 0,
           "arrowwidth": 1
          },
          "coloraxis": {
           "colorbar": {
            "outlinewidth": 0,
            "ticks": ""
           }
          },
          "colorscale": {
           "diverging": [
            [
             0,
             "#8e0152"
            ],
            [
             0.1,
             "#c51b7d"
            ],
            [
             0.2,
             "#de77ae"
            ],
            [
             0.3,
             "#f1b6da"
            ],
            [
             0.4,
             "#fde0ef"
            ],
            [
             0.5,
             "#f7f7f7"
            ],
            [
             0.6,
             "#e6f5d0"
            ],
            [
             0.7,
             "#b8e186"
            ],
            [
             0.8,
             "#7fbc41"
            ],
            [
             0.9,
             "#4d9221"
            ],
            [
             1,
             "#276419"
            ]
           ],
           "sequential": [
            [
             0,
             "#0d0887"
            ],
            [
             0.1111111111111111,
             "#46039f"
            ],
            [
             0.2222222222222222,
             "#7201a8"
            ],
            [
             0.3333333333333333,
             "#9c179e"
            ],
            [
             0.4444444444444444,
             "#bd3786"
            ],
            [
             0.5555555555555556,
             "#d8576b"
            ],
            [
             0.6666666666666666,
             "#ed7953"
            ],
            [
             0.7777777777777778,
             "#fb9f3a"
            ],
            [
             0.8888888888888888,
             "#fdca26"
            ],
            [
             1,
             "#f0f921"
            ]
           ],
           "sequentialminus": [
            [
             0,
             "#0d0887"
            ],
            [
             0.1111111111111111,
             "#46039f"
            ],
            [
             0.2222222222222222,
             "#7201a8"
            ],
            [
             0.3333333333333333,
             "#9c179e"
            ],
            [
             0.4444444444444444,
             "#bd3786"
            ],
            [
             0.5555555555555556,
             "#d8576b"
            ],
            [
             0.6666666666666666,
             "#ed7953"
            ],
            [
             0.7777777777777778,
             "#fb9f3a"
            ],
            [
             0.8888888888888888,
             "#fdca26"
            ],
            [
             1,
             "#f0f921"
            ]
           ]
          },
          "colorway": [
           "#636efa",
           "#EF553B",
           "#00cc96",
           "#ab63fa",
           "#FFA15A",
           "#19d3f3",
           "#FF6692",
           "#B6E880",
           "#FF97FF",
           "#FECB52"
          ],
          "font": {
           "color": "#2a3f5f"
          },
          "geo": {
           "bgcolor": "white",
           "lakecolor": "white",
           "landcolor": "#E5ECF6",
           "showlakes": true,
           "showland": true,
           "subunitcolor": "white"
          },
          "hoverlabel": {
           "align": "left"
          },
          "hovermode": "closest",
          "mapbox": {
           "style": "light"
          },
          "paper_bgcolor": "white",
          "plot_bgcolor": "#E5ECF6",
          "polar": {
           "angularaxis": {
            "gridcolor": "white",
            "linecolor": "white",
            "ticks": ""
           },
           "bgcolor": "#E5ECF6",
           "radialaxis": {
            "gridcolor": "white",
            "linecolor": "white",
            "ticks": ""
           }
          },
          "scene": {
           "xaxis": {
            "backgroundcolor": "#E5ECF6",
            "gridcolor": "white",
            "gridwidth": 2,
            "linecolor": "white",
            "showbackground": true,
            "ticks": "",
            "zerolinecolor": "white"
           },
           "yaxis": {
            "backgroundcolor": "#E5ECF6",
            "gridcolor": "white",
            "gridwidth": 2,
            "linecolor": "white",
            "showbackground": true,
            "ticks": "",
            "zerolinecolor": "white"
           },
           "zaxis": {
            "backgroundcolor": "#E5ECF6",
            "gridcolor": "white",
            "gridwidth": 2,
            "linecolor": "white",
            "showbackground": true,
            "ticks": "",
            "zerolinecolor": "white"
           }
          },
          "shapedefaults": {
           "line": {
            "color": "#2a3f5f"
           }
          },
          "ternary": {
           "aaxis": {
            "gridcolor": "white",
            "linecolor": "white",
            "ticks": ""
           },
           "baxis": {
            "gridcolor": "white",
            "linecolor": "white",
            "ticks": ""
           },
           "bgcolor": "#E5ECF6",
           "caxis": {
            "gridcolor": "white",
            "linecolor": "white",
            "ticks": ""
           }
          },
          "title": {
           "x": 0.05
          },
          "xaxis": {
           "automargin": true,
           "gridcolor": "white",
           "linecolor": "white",
           "ticks": "",
           "title": {
            "standoff": 15
           },
           "zerolinecolor": "white",
           "zerolinewidth": 2
          },
          "yaxis": {
           "automargin": true,
           "gridcolor": "white",
           "linecolor": "white",
           "ticks": "",
           "title": {
            "standoff": 15
           },
           "zerolinecolor": "white",
           "zerolinewidth": 2
          }
         }
        },
        "title": {
         "text": "Periodical (30 days) Users Evolution"
        },
        "xaxis": {
         "type": "category"
        },
        "yaxis": {
         "range": [
          0,
          1
         ],
         "tickformat": ",.0%"
        }
       }
      },
      "text/html": [
       "<div>                            <div id=\"00497225-c1c3-459b-8768-6883212da3a4\" class=\"plotly-graph-div\" style=\"height:525px; width:100%;\"></div>            <script type=\"text/javascript\">                require([\"plotly\"], function(Plotly) {                    window.PLOTLYENV=window.PLOTLYENV || {};                                    if (document.getElementById(\"00497225-c1c3-459b-8768-6883212da3a4\")) {                    Plotly.newPlot(                        \"00497225-c1c3-459b-8768-6883212da3a4\",                        [{\"name\": \"Retained User Rate\", \"type\": \"scatter\", \"x\": [\"2015-03-02\", \"2015-04-01\", \"2015-05-01\", \"2015-05-31\", \"2015-06-30\", \"2015-07-30\", \"2015-08-29\", \"2015-09-28\", \"2015-10-28\", \"2015-11-27\", \"2015-12-27\", \"2016-01-26\", \"2016-02-25\", \"2016-03-26\", \"2016-04-25\", \"2016-05-25\", \"2016-06-24\", \"2016-07-24\", \"2016-08-23\", \"2016-09-22\", \"2016-10-22\", \"2016-11-21\", \"2016-12-21\", \"2017-01-20\", \"2017-02-19\"], \"y\": [0.779535209160093, 0.8020213624657804, 0.8032300277680253, 0.8190596659127259, 0.7770619973974923, 0.8122850190914589, 0.8049226816617383, 0.8181991578914873, 0.7673833995121474, 0.74915043279113, 0.7708271344208528, 0.7548987150572121, 0.7848754679254066, 0.8017395508931395, 0.8105805347413401, 0.8189666399806942, 0.8146930903508944, 0.8065193066095159, 0.8204826681100368, 0.811967069828547, 0.8307525050018225, 0.7956132633199882, 0.8216021036519003, 0.8428716716802597, 0.8436309442781654]}, {\"name\": \"Reactivated User Rate\", \"type\": \"scatter\", \"x\": [\"2015-03-02\", \"2015-04-01\", \"2015-05-01\", \"2015-05-31\", \"2015-06-30\", \"2015-07-30\", \"2015-08-29\", \"2015-09-28\", \"2015-10-28\", \"2015-11-27\", \"2015-12-27\", \"2016-01-26\", \"2016-02-25\", \"2016-03-26\", \"2016-04-25\", \"2016-05-25\", \"2016-06-24\", \"2016-07-24\", \"2016-08-23\", \"2016-09-22\", \"2016-10-22\", \"2016-11-21\", \"2016-12-21\", \"2017-01-20\", \"2017-02-19\"], \"y\": [0.026065716459463047, 0.046685016805538354, 0.04682901918227953, 0.054939619368868785, 0.03630008330202702, 0.04224014146609477, 0.042326777396339665, 0.03904922663391433, 0.035540088643675194, 0.035233112777702434, 0.03654991873165162, 0.03375161534858611, 0.03620626495357951, 0.035380615149687954, 0.03416126475554517, 0.03642539483109312, 0.04174972096566964, 0.03390046726587501, 0.05236612879147972, 0.03821841813851563, 0.08280254777070063, 0.04568362318215893, 0.042288950210294975, 0.040115893536665365, 0.03605681261701161]}, {\"name\": \"Churn Rate\", \"type\": \"scatter\", \"x\": [\"2015-03-02\", \"2015-04-01\", \"2015-05-01\", \"2015-05-31\", \"2015-06-30\", \"2015-07-30\", \"2015-08-29\", \"2015-09-28\", \"2015-10-28\", \"2015-11-27\", \"2015-12-27\", \"2016-01-26\", \"2016-02-25\", \"2016-03-26\", \"2016-04-25\", \"2016-05-25\", \"2016-06-24\", \"2016-07-24\", \"2016-08-23\", \"2016-09-22\", \"2016-10-22\", \"2016-11-21\", \"2016-12-21\", \"2017-01-20\", \"2017-02-19\"], \"y\": [0.22046479083990703, 0.19797863753421965, 0.19676997223197473, 0.18094033408727409, 0.22293800260250776, 0.18771498090854105, 0.19507731833826167, 0.18180084210851272, 0.23261660048785254, 0.2508495672088699, 0.22917286557914723, 0.24510128494278796, 0.2151245320745933, 0.19826044910686044, 0.18941946525865996, 0.18103336001930584, 0.18530690964910554, 0.1934806933904841, 0.17951733188996316, 0.18803293017145298, 0.16924749499817743, 0.2043867366800118, 0.17839789634809963, 0.15712832831974033, 0.15636905572183457]}],                        {\"font\": {\"size\": 16}, \"legend\": {\"x\": 0.8, \"xanchor\": \"right\", \"y\": 0.75, \"yanchor\": \"top\"}, \"template\": {\"data\": {\"bar\": [{\"error_x\": {\"color\": \"#2a3f5f\"}, \"error_y\": {\"color\": \"#2a3f5f\"}, \"marker\": {\"line\": {\"color\": \"#E5ECF6\", \"width\": 0.5}}, \"type\": \"bar\"}], \"barpolar\": [{\"marker\": {\"line\": {\"color\": \"#E5ECF6\", \"width\": 0.5}}, \"type\": \"barpolar\"}], \"carpet\": [{\"aaxis\": {\"endlinecolor\": \"#2a3f5f\", \"gridcolor\": \"white\", \"linecolor\": \"white\", \"minorgridcolor\": \"white\", \"startlinecolor\": \"#2a3f5f\"}, \"baxis\": {\"endlinecolor\": \"#2a3f5f\", \"gridcolor\": \"white\", \"linecolor\": \"white\", \"minorgridcolor\": \"white\", \"startlinecolor\": \"#2a3f5f\"}, \"type\": \"carpet\"}], \"choropleth\": [{\"colorbar\": {\"outlinewidth\": 0, \"ticks\": \"\"}, \"type\": \"choropleth\"}], \"contour\": [{\"colorbar\": {\"outlinewidth\": 0, \"ticks\": \"\"}, \"colorscale\": [[0.0, \"#0d0887\"], [0.1111111111111111, \"#46039f\"], [0.2222222222222222, \"#7201a8\"], [0.3333333333333333, \"#9c179e\"], [0.4444444444444444, \"#bd3786\"], [0.5555555555555556, \"#d8576b\"], [0.6666666666666666, \"#ed7953\"], [0.7777777777777778, \"#fb9f3a\"], [0.8888888888888888, \"#fdca26\"], [1.0, \"#f0f921\"]], \"type\": \"contour\"}], \"contourcarpet\": [{\"colorbar\": {\"outlinewidth\": 0, \"ticks\": \"\"}, \"type\": \"contourcarpet\"}], \"heatmap\": [{\"colorbar\": {\"outlinewidth\": 0, \"ticks\": \"\"}, \"colorscale\": [[0.0, \"#0d0887\"], [0.1111111111111111, \"#46039f\"], [0.2222222222222222, \"#7201a8\"], [0.3333333333333333, \"#9c179e\"], [0.4444444444444444, \"#bd3786\"], [0.5555555555555556, \"#d8576b\"], [0.6666666666666666, \"#ed7953\"], [0.7777777777777778, \"#fb9f3a\"], [0.8888888888888888, \"#fdca26\"], [1.0, \"#f0f921\"]], \"type\": \"heatmap\"}], \"heatmapgl\": [{\"colorbar\": {\"outlinewidth\": 0, \"ticks\": \"\"}, \"colorscale\": [[0.0, \"#0d0887\"], [0.1111111111111111, \"#46039f\"], [0.2222222222222222, \"#7201a8\"], [0.3333333333333333, \"#9c179e\"], [0.4444444444444444, \"#bd3786\"], [0.5555555555555556, \"#d8576b\"], [0.6666666666666666, \"#ed7953\"], [0.7777777777777778, \"#fb9f3a\"], [0.8888888888888888, \"#fdca26\"], [1.0, \"#f0f921\"]], \"type\": \"heatmapgl\"}], \"histogram\": [{\"marker\": {\"colorbar\": {\"outlinewidth\": 0, \"ticks\": \"\"}}, \"type\": \"histogram\"}], \"histogram2d\": [{\"colorbar\": {\"outlinewidth\": 0, \"ticks\": \"\"}, \"colorscale\": [[0.0, \"#0d0887\"], [0.1111111111111111, \"#46039f\"], [0.2222222222222222, \"#7201a8\"], [0.3333333333333333, \"#9c179e\"], [0.4444444444444444, \"#bd3786\"], [0.5555555555555556, \"#d8576b\"], [0.6666666666666666, \"#ed7953\"], [0.7777777777777778, \"#fb9f3a\"], [0.8888888888888888, \"#fdca26\"], [1.0, \"#f0f921\"]], \"type\": \"histogram2d\"}], \"histogram2dcontour\": [{\"colorbar\": {\"outlinewidth\": 0, \"ticks\": \"\"}, \"colorscale\": [[0.0, \"#0d0887\"], [0.1111111111111111, \"#46039f\"], [0.2222222222222222, \"#7201a8\"], [0.3333333333333333, \"#9c179e\"], [0.4444444444444444, \"#bd3786\"], [0.5555555555555556, \"#d8576b\"], [0.6666666666666666, \"#ed7953\"], [0.7777777777777778, \"#fb9f3a\"], [0.8888888888888888, \"#fdca26\"], [1.0, \"#f0f921\"]], \"type\": \"histogram2dcontour\"}], \"mesh3d\": [{\"colorbar\": {\"outlinewidth\": 0, \"ticks\": \"\"}, \"type\": \"mesh3d\"}], \"parcoords\": [{\"line\": {\"colorbar\": {\"outlinewidth\": 0, \"ticks\": \"\"}}, \"type\": \"parcoords\"}], \"pie\": [{\"automargin\": true, \"type\": \"pie\"}], \"scatter\": [{\"marker\": {\"colorbar\": {\"outlinewidth\": 0, \"ticks\": \"\"}}, \"type\": \"scatter\"}], \"scatter3d\": [{\"line\": {\"colorbar\": {\"outlinewidth\": 0, \"ticks\": \"\"}}, \"marker\": {\"colorbar\": {\"outlinewidth\": 0, \"ticks\": \"\"}}, \"type\": \"scatter3d\"}], \"scattercarpet\": [{\"marker\": {\"colorbar\": {\"outlinewidth\": 0, \"ticks\": \"\"}}, \"type\": \"scattercarpet\"}], \"scattergeo\": [{\"marker\": {\"colorbar\": {\"outlinewidth\": 0, \"ticks\": \"\"}}, \"type\": \"scattergeo\"}], \"scattergl\": [{\"marker\": {\"colorbar\": {\"outlinewidth\": 0, \"ticks\": \"\"}}, \"type\": \"scattergl\"}], \"scattermapbox\": [{\"marker\": {\"colorbar\": {\"outlinewidth\": 0, \"ticks\": \"\"}}, \"type\": \"scattermapbox\"}], \"scatterpolar\": [{\"marker\": {\"colorbar\": {\"outlinewidth\": 0, \"ticks\": \"\"}}, \"type\": \"scatterpolar\"}], \"scatterpolargl\": [{\"marker\": {\"colorbar\": {\"outlinewidth\": 0, \"ticks\": \"\"}}, \"type\": \"scatterpolargl\"}], \"scatterternary\": [{\"marker\": {\"colorbar\": {\"outlinewidth\": 0, \"ticks\": \"\"}}, \"type\": \"scatterternary\"}], \"surface\": [{\"colorbar\": {\"outlinewidth\": 0, \"ticks\": \"\"}, \"colorscale\": [[0.0, \"#0d0887\"], [0.1111111111111111, \"#46039f\"], [0.2222222222222222, \"#7201a8\"], [0.3333333333333333, \"#9c179e\"], [0.4444444444444444, \"#bd3786\"], [0.5555555555555556, \"#d8576b\"], [0.6666666666666666, \"#ed7953\"], [0.7777777777777778, \"#fb9f3a\"], [0.8888888888888888, \"#fdca26\"], [1.0, \"#f0f921\"]], \"type\": \"surface\"}], \"table\": [{\"cells\": {\"fill\": {\"color\": \"#EBF0F8\"}, \"line\": {\"color\": \"white\"}}, \"header\": {\"fill\": {\"color\": \"#C8D4E3\"}, \"line\": {\"color\": \"white\"}}, \"type\": \"table\"}]}, \"layout\": {\"annotationdefaults\": {\"arrowcolor\": \"#2a3f5f\", \"arrowhead\": 0, \"arrowwidth\": 1}, \"coloraxis\": {\"colorbar\": {\"outlinewidth\": 0, \"ticks\": \"\"}}, \"colorscale\": {\"diverging\": [[0, \"#8e0152\"], [0.1, \"#c51b7d\"], [0.2, \"#de77ae\"], [0.3, \"#f1b6da\"], [0.4, \"#fde0ef\"], [0.5, \"#f7f7f7\"], [0.6, \"#e6f5d0\"], [0.7, \"#b8e186\"], [0.8, \"#7fbc41\"], [0.9, \"#4d9221\"], [1, \"#276419\"]], \"sequential\": [[0.0, \"#0d0887\"], [0.1111111111111111, \"#46039f\"], [0.2222222222222222, \"#7201a8\"], [0.3333333333333333, \"#9c179e\"], [0.4444444444444444, \"#bd3786\"], [0.5555555555555556, \"#d8576b\"], [0.6666666666666666, \"#ed7953\"], [0.7777777777777778, \"#fb9f3a\"], [0.8888888888888888, \"#fdca26\"], [1.0, \"#f0f921\"]], \"sequentialminus\": [[0.0, \"#0d0887\"], [0.1111111111111111, \"#46039f\"], [0.2222222222222222, \"#7201a8\"], [0.3333333333333333, \"#9c179e\"], [0.4444444444444444, \"#bd3786\"], [0.5555555555555556, \"#d8576b\"], [0.6666666666666666, \"#ed7953\"], [0.7777777777777778, \"#fb9f3a\"], [0.8888888888888888, \"#fdca26\"], [1.0, \"#f0f921\"]]}, \"colorway\": [\"#636efa\", \"#EF553B\", \"#00cc96\", \"#ab63fa\", \"#FFA15A\", \"#19d3f3\", \"#FF6692\", \"#B6E880\", \"#FF97FF\", \"#FECB52\"], \"font\": {\"color\": \"#2a3f5f\"}, \"geo\": {\"bgcolor\": \"white\", \"lakecolor\": \"white\", \"landcolor\": \"#E5ECF6\", \"showlakes\": true, \"showland\": true, \"subunitcolor\": \"white\"}, \"hoverlabel\": {\"align\": \"left\"}, \"hovermode\": \"closest\", \"mapbox\": {\"style\": \"light\"}, \"paper_bgcolor\": \"white\", \"plot_bgcolor\": \"#E5ECF6\", \"polar\": {\"angularaxis\": {\"gridcolor\": \"white\", \"linecolor\": \"white\", \"ticks\": \"\"}, \"bgcolor\": \"#E5ECF6\", \"radialaxis\": {\"gridcolor\": \"white\", \"linecolor\": \"white\", \"ticks\": \"\"}}, \"scene\": {\"xaxis\": {\"backgroundcolor\": \"#E5ECF6\", \"gridcolor\": \"white\", \"gridwidth\": 2, \"linecolor\": \"white\", \"showbackground\": true, \"ticks\": \"\", \"zerolinecolor\": \"white\"}, \"yaxis\": {\"backgroundcolor\": \"#E5ECF6\", \"gridcolor\": \"white\", \"gridwidth\": 2, \"linecolor\": \"white\", \"showbackground\": true, \"ticks\": \"\", \"zerolinecolor\": \"white\"}, \"zaxis\": {\"backgroundcolor\": \"#E5ECF6\", \"gridcolor\": \"white\", \"gridwidth\": 2, \"linecolor\": \"white\", \"showbackground\": true, \"ticks\": \"\", \"zerolinecolor\": \"white\"}}, \"shapedefaults\": {\"line\": {\"color\": \"#2a3f5f\"}}, \"ternary\": {\"aaxis\": {\"gridcolor\": \"white\", \"linecolor\": \"white\", \"ticks\": \"\"}, \"baxis\": {\"gridcolor\": \"white\", \"linecolor\": \"white\", \"ticks\": \"\"}, \"bgcolor\": \"#E5ECF6\", \"caxis\": {\"gridcolor\": \"white\", \"linecolor\": \"white\", \"ticks\": \"\"}}, \"title\": {\"x\": 0.05}, \"xaxis\": {\"automargin\": true, \"gridcolor\": \"white\", \"linecolor\": \"white\", \"ticks\": \"\", \"title\": {\"standoff\": 15}, \"zerolinecolor\": \"white\", \"zerolinewidth\": 2}, \"yaxis\": {\"automargin\": true, \"gridcolor\": \"white\", \"linecolor\": \"white\", \"ticks\": \"\", \"title\": {\"standoff\": 15}, \"zerolinecolor\": \"white\", \"zerolinewidth\": 2}}}, \"title\": {\"text\": \"Periodical (30 days) Users Evolution\"}, \"xaxis\": {\"type\": \"category\"}, \"yaxis\": {\"range\": [0, 1.0], \"tickformat\": \",.0%\"}},                        {\"responsive\": true}                    ).then(function(){\n",
       "                            \n",
       "var gd = document.getElementById('00497225-c1c3-459b-8768-6883212da3a4');\n",
       "var x = new MutationObserver(function (mutations, observer) {{\n",
       "        var display = window.getComputedStyle(gd).display;\n",
       "        if (!display || display === 'none') {{\n",
       "            console.log([gd, 'removed!']);\n",
       "            Plotly.purge(gd);\n",
       "            observer.disconnect();\n",
       "        }}\n",
       "}});\n",
       "\n",
       "// Listen for the removal of the full notebook cells\n",
       "var notebookContainer = gd.closest('#notebook-container');\n",
       "if (notebookContainer) {{\n",
       "    x.observe(notebookContainer, {childList: true});\n",
       "}}\n",
       "\n",
       "// Listen for the clearing of the current output cell\n",
       "var outputEl = gd.closest('.output');\n",
       "if (outputEl) {{\n",
       "    x.observe(outputEl, {childList: true});\n",
       "}}\n",
       "\n",
       "                        })                };                });            </script>        </div>"
      ]
     },
     "metadata": {},
     "output_type": "display_data"
    }
   ],
   "source": [
    "plot_data = [\n",
    "\n",
    "    go.Scatter(\n",
    "        x=tx_retention_plot['min_activity_date'],\n",
    "        y=tx_retention_plot['RetainedUserRate'],\n",
    "        name=\"Retained User Rate\"\n",
    "    ),\n",
    "    go.Scatter(\n",
    "        x=tx_retention_plot['min_activity_date'],\n",
    "        y=tx_retention_plot['ReactivationRate'],\n",
    "        name=\"Reactivated User Rate\"\n",
    "    ),\n",
    "    go.Scatter(\n",
    "        x=tx_retention_plot['min_activity_date'],\n",
    "        y=tx_retention_plot['ChurnRate'],\n",
    "        name=\"Churn Rate\"\n",
    "    )\n",
    "]\n",
    "\n",
    "plot_layout = go.Layout(\n",
    "        xaxis={\"type\": \"category\"},\n",
    "        title='Periodical (30 days) Users Evolution',\n",
    "        yaxis={\"tickformat\": ',.0%',\n",
    "                \"range\": [0,1.0]}\n",
    "    )\n",
    "fig = go.Figure(data=plot_data, layout=plot_layout)\n",
    "fig.update_layout(\n",
    "    font=dict(size=16),\n",
    "    legend=dict(\n",
    "    #title_text='Rate To Previous Active Users',\n",
    "    yanchor=\"top\",\n",
    "    y=0.75,\n",
    "    xanchor=\"right\",\n",
    "    x=0.80\n",
    "))\n",
    "pyoff.iplot(fig)\n",
    "pio.write_image(fig, 'figures/KKBox_30d_UserEvolution_30d_UserEvolution_Retained_Reactivation_Rates.png')"
   ]
  },
  {
   "cell_type": "markdown",
   "metadata": {},
   "source": [
    "### Overall User Evolution\n",
    "\n",
    "Studied in periods of 30 days the retained user rate is rather flat around 80 %, the reactivated user rate is typically of the order of 3-4 %, thus the churn rate is around 20 %, slightly lower in the first quarter of 2017. Definitions are defined as activity in terms of users streaming songs."
   ]
  },
  {
   "cell_type": "code",
   "execution_count": null,
   "metadata": {},
   "outputs": [],
   "source": []
  }
 ],
 "metadata": {
  "kernelspec": {
   "display_name": "Python 3",
   "language": "python",
   "name": "python3"
  },
  "language_info": {
   "codemirror_mode": {
    "name": "ipython",
    "version": 3
   },
   "file_extension": ".py",
   "mimetype": "text/x-python",
   "name": "python",
   "nbconvert_exporter": "python",
   "pygments_lexer": "ipython3",
   "version": "3.8.5"
  }
 },
 "nbformat": 4,
 "nbformat_minor": 4
}

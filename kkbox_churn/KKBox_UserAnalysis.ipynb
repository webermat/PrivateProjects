{
 "cells": [
  {
   "cell_type": "markdown",
   "metadata": {},
   "source": [
    "### General remarks from preprocessing stage\n",
    "\n",
    "It has been studied previously, that the membership data, the user log data, and the training member data (including the churn flag) contain no duplicates. Duplicates can be found in the transaction data, those have been removed before aggregating information. The user log data is too large to be dealt with in one go using pandas, due to insufficient memory of my laptop, thus aggregation has to be dealt with in chunks in pandas. All of that has been performed in the DataProcessor_KKBox notebook."
   ]
  },
  {
   "cell_type": "code",
   "execution_count": null,
   "metadata": {},
   "outputs": [],
   "source": []
  }
 ],
 "metadata": {
  "kernelspec": {
   "display_name": "Python 3",
   "language": "python",
   "name": "python3"
  },
  "language_info": {
   "codemirror_mode": {
    "name": "ipython",
    "version": 3
   },
   "file_extension": ".py",
   "mimetype": "text/x-python",
   "name": "python",
   "nbconvert_exporter": "python",
   "pygments_lexer": "ipython3",
   "version": "3.8.5"
  }
 },
 "nbformat": 4,
 "nbformat_minor": 4
}

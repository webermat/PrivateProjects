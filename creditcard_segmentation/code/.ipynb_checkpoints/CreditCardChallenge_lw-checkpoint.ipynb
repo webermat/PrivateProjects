{
 "cells": [
  {
   "cell_type": "code",
   "execution_count": 9,
   "metadata": {},
   "outputs": [],
   "source": [
    "import numpy as np\n",
    "import pandas as pd\n",
    "from statistics import mean \n",
    "\n",
    "import seaborn as sns\n",
    "import scikitplot as skplt\n",
    "import matplotlib.pyplot as plt\n",
    "\n",
    "\n",
    "from sklearn.pipeline import Pipeline\n",
    "from sklearn.datasets import make_classification\n",
    "from sklearn.preprocessing import StandardScaler\n",
    "from sklearn.metrics import classification_report, confusion_matrix, accuracy_score, f1_score\n",
    "from sklearn.model_selection import train_test_split, cross_val_score, RandomizedSearchCV, GridSearchCV"
   ]
  },
  {
   "cell_type": "code",
   "execution_count": 10,
   "metadata": {},
   "outputs": [
    {
     "data": {
      "text/html": [
       "<div>\n",
       "<style scoped>\n",
       "    .dataframe tbody tr th:only-of-type {\n",
       "        vertical-align: middle;\n",
       "    }\n",
       "\n",
       "    .dataframe tbody tr th {\n",
       "        vertical-align: top;\n",
       "    }\n",
       "\n",
       "    .dataframe thead th {\n",
       "        text-align: right;\n",
       "    }\n",
       "</style>\n",
       "<table border=\"1\" class=\"dataframe\">\n",
       "  <thead>\n",
       "    <tr style=\"text-align: right;\">\n",
       "      <th></th>\n",
       "      <th>customer_id</th>\n",
       "      <th>balance_account</th>\n",
       "      <th>purchases_amount</th>\n",
       "      <th>paid_advance</th>\n",
       "      <th>full_purchases</th>\n",
       "      <th>balance_frequency_update</th>\n",
       "      <th>installments</th>\n",
       "      <th>purchases_frequency</th>\n",
       "      <th>full_purchases_frequency</th>\n",
       "      <th>purchases_installments_frequency</th>\n",
       "      <th>cash_advance_frequency</th>\n",
       "      <th>nr_cash_advances</th>\n",
       "      <th>nr_purchases</th>\n",
       "      <th>credit_limit</th>\n",
       "      <th>fixed_rate_period</th>\n",
       "      <th>payments</th>\n",
       "      <th>min_payments</th>\n",
       "      <th>full_payment_prc</th>\n",
       "    </tr>\n",
       "  </thead>\n",
       "  <tbody>\n",
       "    <tr>\n",
       "      <th>0</th>\n",
       "      <td>tGEg8fT2eCgVxdwS</td>\n",
       "      <td>9.298409</td>\n",
       "      <td>107.60</td>\n",
       "      <td>0.000000</td>\n",
       "      <td>0.00</td>\n",
       "      <td>0.909091</td>\n",
       "      <td>107.6</td>\n",
       "      <td>0.909091</td>\n",
       "      <td>0.000000</td>\n",
       "      <td>0.818182</td>\n",
       "      <td>0.000000</td>\n",
       "      <td>0</td>\n",
       "      <td>10</td>\n",
       "      <td>1000.0</td>\n",
       "      <td>11</td>\n",
       "      <td>89.868853</td>\n",
       "      <td>89.711672</td>\n",
       "      <td>0.428571</td>\n",
       "    </tr>\n",
       "    <tr>\n",
       "      <th>1</th>\n",
       "      <td>stEDu20sSKOXomjg</td>\n",
       "      <td>52.666422</td>\n",
       "      <td>150.30</td>\n",
       "      <td>0.000000</td>\n",
       "      <td>0.00</td>\n",
       "      <td>1.000000</td>\n",
       "      <td>150.3</td>\n",
       "      <td>1.000000</td>\n",
       "      <td>0.000000</td>\n",
       "      <td>0.833333</td>\n",
       "      <td>0.000000</td>\n",
       "      <td>0</td>\n",
       "      <td>6</td>\n",
       "      <td>1000.0</td>\n",
       "      <td>6</td>\n",
       "      <td>54.722514</td>\n",
       "      <td>82.955180</td>\n",
       "      <td>0.000000</td>\n",
       "    </tr>\n",
       "    <tr>\n",
       "      <th>2</th>\n",
       "      <td>CEB2blrN3b88GsRe</td>\n",
       "      <td>1360.795674</td>\n",
       "      <td>0.00</td>\n",
       "      <td>462.861443</td>\n",
       "      <td>0.00</td>\n",
       "      <td>1.000000</td>\n",
       "      <td>0.0</td>\n",
       "      <td>0.000000</td>\n",
       "      <td>0.000000</td>\n",
       "      <td>0.000000</td>\n",
       "      <td>0.272727</td>\n",
       "      <td>6</td>\n",
       "      <td>0</td>\n",
       "      <td>1500.0</td>\n",
       "      <td>11</td>\n",
       "      <td>303.031979</td>\n",
       "      <td>443.781316</td>\n",
       "      <td>0.000000</td>\n",
       "    </tr>\n",
       "    <tr>\n",
       "      <th>3</th>\n",
       "      <td>0N0eBl8ySaZThxKE</td>\n",
       "      <td>2021.641161</td>\n",
       "      <td>363.18</td>\n",
       "      <td>0.000000</td>\n",
       "      <td>363.18</td>\n",
       "      <td>1.000000</td>\n",
       "      <td>0.0</td>\n",
       "      <td>1.000000</td>\n",
       "      <td>1.000000</td>\n",
       "      <td>0.000000</td>\n",
       "      <td>0.000000</td>\n",
       "      <td>0</td>\n",
       "      <td>13</td>\n",
       "      <td>2000.0</td>\n",
       "      <td>12</td>\n",
       "      <td>704.240770</td>\n",
       "      <td>795.859808</td>\n",
       "      <td>0.000000</td>\n",
       "    </tr>\n",
       "    <tr>\n",
       "      <th>4</th>\n",
       "      <td>6NLauoHUwtwOv4Wy</td>\n",
       "      <td>22.322374</td>\n",
       "      <td>95.00</td>\n",
       "      <td>1162.045833</td>\n",
       "      <td>95.00</td>\n",
       "      <td>0.363636</td>\n",
       "      <td>0.0</td>\n",
       "      <td>0.083333</td>\n",
       "      <td>0.083333</td>\n",
       "      <td>0.000000</td>\n",
       "      <td>0.166667</td>\n",
       "      <td>3</td>\n",
       "      <td>1</td>\n",
       "      <td>2500.0</td>\n",
       "      <td>12</td>\n",
       "      <td>4094.261427</td>\n",
       "      <td>40.142262</td>\n",
       "      <td>0.000000</td>\n",
       "    </tr>\n",
       "  </tbody>\n",
       "</table>\n",
       "</div>"
      ],
      "text/plain": [
       "        customer_id  balance_account  purchases_amount  paid_advance  \\\n",
       "0  tGEg8fT2eCgVxdwS         9.298409            107.60      0.000000   \n",
       "1  stEDu20sSKOXomjg        52.666422            150.30      0.000000   \n",
       "2  CEB2blrN3b88GsRe      1360.795674              0.00    462.861443   \n",
       "3  0N0eBl8ySaZThxKE      2021.641161            363.18      0.000000   \n",
       "4  6NLauoHUwtwOv4Wy        22.322374             95.00   1162.045833   \n",
       "\n",
       "   full_purchases  balance_frequency_update  installments  \\\n",
       "0            0.00                  0.909091         107.6   \n",
       "1            0.00                  1.000000         150.3   \n",
       "2            0.00                  1.000000           0.0   \n",
       "3          363.18                  1.000000           0.0   \n",
       "4           95.00                  0.363636           0.0   \n",
       "\n",
       "   purchases_frequency  full_purchases_frequency  \\\n",
       "0             0.909091                  0.000000   \n",
       "1             1.000000                  0.000000   \n",
       "2             0.000000                  0.000000   \n",
       "3             1.000000                  1.000000   \n",
       "4             0.083333                  0.083333   \n",
       "\n",
       "   purchases_installments_frequency  cash_advance_frequency  nr_cash_advances  \\\n",
       "0                          0.818182                0.000000                 0   \n",
       "1                          0.833333                0.000000                 0   \n",
       "2                          0.000000                0.272727                 6   \n",
       "3                          0.000000                0.000000                 0   \n",
       "4                          0.000000                0.166667                 3   \n",
       "\n",
       "   nr_purchases  credit_limit  fixed_rate_period     payments  min_payments  \\\n",
       "0            10        1000.0                 11    89.868853     89.711672   \n",
       "1             6        1000.0                  6    54.722514     82.955180   \n",
       "2             0        1500.0                 11   303.031979    443.781316   \n",
       "3            13        2000.0                 12   704.240770    795.859808   \n",
       "4             1        2500.0                 12  4094.261427     40.142262   \n",
       "\n",
       "   full_payment_prc  \n",
       "0          0.428571  \n",
       "1          0.000000  \n",
       "2          0.000000  \n",
       "3          0.000000  \n",
       "4          0.000000  "
      ]
     },
     "execution_count": 10,
     "metadata": {},
     "output_type": "execute_result"
    }
   ],
   "source": [
    "df=pd.read_csv(\"../data/card_transactions.csv\")\n",
    "df.head()"
   ]
  },
  {
   "cell_type": "code",
   "execution_count": null,
   "metadata": {},
   "outputs": [],
   "source": [
    "print(df.shape,len(df[\"customer_id\"].unique()),df.dtypes,df.isna().sum())"
   ]
  },
  {
   "cell_type": "markdown",
   "metadata": {},
   "source": [
    "Just some overall stats: 8500 customers, with 18 features each, indeed no duplicates, aka unique customer_id length is the same than the overall dataframe dimensions, min payment has quite a couple of NAs, so let's deal with that via imputing data maybe later on."
   ]
  },
  {
   "cell_type": "code",
   "execution_count": null,
   "metadata": {},
   "outputs": [],
   "source": [
    "#sns.heatmap(df.drop(columns=[\"customer_id\"]).corr(),anotate=True)\n",
    "df.drop(columns=[\"customer_id\"]).corr().style.background_gradient(cmap='coolwarm').set_precision(2)"
   ]
  },
  {
   "cell_type": "code",
   "execution_count": null,
   "metadata": {},
   "outputs": [],
   "source": [
    "sns.pairplot(df)"
   ]
  },
  {
   "cell_type": "code",
   "execution_count": null,
   "metadata": {},
   "outputs": [],
   "source": [
    "sc = StandardScaler()\n",
    "\n",
    "\n",
    "df_scaled= pd.DataFrame(sc.fit_transform(df.drop(columns=[\"customer_id\"])), columns = df.drop(columns=[\"customer_id\"]).columns)\n",
    "plt.figure(figsize=(16,14))\n",
    "sns.boxplot(data = df_scaled)\n",
    "plt.xticks(rotation=65, horizontalalignment='right')"
   ]
  },
  {
   "cell_type": "code",
   "execution_count": null,
   "metadata": {},
   "outputs": [],
   "source": []
  },
  {
   "cell_type": "code",
   "execution_count": null,
   "metadata": {},
   "outputs": [],
   "source": []
  },
  {
   "cell_type": "markdown",
   "metadata": {},
   "source": [
    "# KNN Imputation to remove NAs"
   ]
  },
  {
   "cell_type": "code",
   "execution_count": 11,
   "metadata": {},
   "outputs": [],
   "source": [
    "import pandas as pd\n",
    "from sklearn.impute import KNNImputer\n"
   ]
  },
  {
   "cell_type": "code",
   "execution_count": 12,
   "metadata": {},
   "outputs": [
    {
     "data": {
      "text/plain": [
       "0"
      ]
     },
     "execution_count": 12,
     "metadata": {},
     "output_type": "execute_result"
    }
   ],
   "source": [
    "### Numerical columns\n",
    "num_feat = df.iloc[:, list(np.where(df.dtypes != \"object\")[0])]\n",
    "num_col_name = df.iloc[:, list(np.where(df.dtypes != \"object\")[0])].columns\n",
    "\n",
    "### KNN Imputer\n",
    "imputer = KNNImputer(n_neighbors=5, weights=\"distance\")\n",
    "imputed = imputer.fit_transform(num_feat)\n",
    "\n",
    "### Recreate Dataframe\n",
    "df_no_na = pd.DataFrame(imputed, columns=num_col_name)\n",
    "df_result = pd.concat([pd.DataFrame(df.iloc[:,0]), df_no_na], axis=1, sort=False)\n",
    "\n",
    "df_result.isna().sum().sum()"
   ]
  },
  {
   "cell_type": "code",
   "execution_count": null,
   "metadata": {},
   "outputs": [],
   "source": []
  },
  {
   "cell_type": "code",
   "execution_count": null,
   "metadata": {},
   "outputs": [],
   "source": []
  }
 ],
 "metadata": {
  "kernelspec": {
   "display_name": "Python 3",
   "language": "python",
   "name": "python3"
  },
  "language_info": {
   "codemirror_mode": {
    "name": "ipython",
    "version": 3
   },
   "file_extension": ".py",
   "mimetype": "text/x-python",
   "name": "python",
   "nbconvert_exporter": "python",
   "pygments_lexer": "ipython3",
   "version": "3.8.5"
  }
 },
 "nbformat": 4,
 "nbformat_minor": 4
}
